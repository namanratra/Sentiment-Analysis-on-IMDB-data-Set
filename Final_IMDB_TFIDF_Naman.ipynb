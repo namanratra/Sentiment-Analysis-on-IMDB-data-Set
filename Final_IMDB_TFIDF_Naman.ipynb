{
 "cells": [
  {
   "cell_type": "markdown",
   "metadata": {
    "id": "v5uB9XSLaOhI"
   },
   "source": [
    "## TF-IDF\n",
    "\n",
    "Is a statistical measure that evaluates how relevant a word is to a document in a collection of documents.\n",
    "\n",
    "This is done by multiplying two metrics: how many times a word appears in a document, and the inverse document frequency of the word across a set of documents.\n",
    "\n",
    "\n",
    "Mathematical Expression\n",
    "\n",
    "Term Frequency = No. of Repetition of words in sentence/No. of words in a sentence\n",
    "\n",
    "Inverse document frequency = log(Total no. of sentences/No. of sentences containing the word)\n",
    "\n",
    "We form a matrix by multiplying these two entities It it is a matrix of TF-IDF features.\n",
    "\n",
    "The matrix is each row as features (i.e different words) and each coloumn as sentence in data set. The values corrosponding to it refers to the importance of each word in the sentence i.e Term Frequency*Inverse document frequency .\n",
    "\n",
    "This process helps us understand the scemantic meaning sentence better compared to bag of word approach.\n"
   ]
  },
  {
   "cell_type": "markdown",
   "metadata": {
    "id": "0ojPlqlpE4_K"
   },
   "source": [
    "# Data Downloading"
   ]
  },
  {
   "cell_type": "code",
   "execution_count": null,
   "metadata": {
    "id": "9WsRgohtsFfu"
   },
   "outputs": [],
   "source": [
    "!pip install tensorflow-datasets > /dev/null"
   ]
  },
  {
   "cell_type": "code",
   "execution_count": null,
   "metadata": {
    "id": "H9RWj1ENsHXU"
   },
   "outputs": [],
   "source": [
    "import tensorflow_datasets as tfds"
   ]
  },
  {
   "cell_type": "code",
   "execution_count": null,
   "metadata": {
    "colab": {
     "base_uri": "https://localhost:8080/",
     "height": 336,
     "referenced_widgets": [
      "6c0b035096aa4be6bca62b8a4aafdcdd",
      "98bbad72e21b4951aa4d4bfb3602263d",
      "8d21e60e74f746ff8b2884e7ce5f3553",
      "bfe98f3995804fdd86453c11b784166c",
      "535cebf181a7450db1ba2bc1c8e0ad77",
      "ba2718f29ace4987bae2f856b5ecc6a2",
      "5e8c8c17a9dc4186ac9ee72d08595d17",
      "a4d4e53b3a384ed9a87f4275b038e6b0",
      "15094baca5764de4b9df9c782d7a69e1",
      "62928ac758ea4ee3af9b7ab05d18e5d8",
      "a5d12d4e91cc47439639a6f1eda04d68",
      "0f9b08b182f7430280d5cda294d06ac4",
      "1e6c4885a6e9409ea47a9538d9ac5cf9",
      "9ca5b823482c45fa8eadbd18cbbcc8e9",
      "6210b2531f3447e7ae707f870c6eec38",
      "8d84468a772142e7971843dd2dd08614",
      "63ebced0cfd74667a4ea32620252425d",
      "238a5e5dfb484ee8be1bf13813176eba",
      "5595a70c20b14cd9a033709dc4cbe291",
      "e33d9077d4ae46ceb0e39b33ad803554",
      "58f7490d247444568eb80c4640bfbcaf",
      "165f4618597f4121919ce044eeacaf1b",
      "3625ce4643634da4960f408ad679eeb6",
      "68052818a3854121a4a2f60db3fcd97c",
      "22a606fc28324439bba8ce9cfe42b1c6",
      "da2b4748c580427f83b8122630db4e34",
      "7d1759846e204dd78e23c8b237fd8397",
      "1769e50a36ab498b858acf802e0033de",
      "440eb8d1ba0440b9abeee16f90c639c1",
      "fc8fba25cd0a40d19183abc917042e6d",
      "a8ae507809824776b2baef378db31fa9",
      "17111927f9f4484397fe90e451b6f007",
      "9e43fdac69ef4ca7b8567ab59cf59ee5",
      "54154cfec8d442cbbf55c18615b5b7da",
      "36fb25722304476a9d5783669e476c9d",
      "887133f261f648eb82d6d53ef44d87f4",
      "447066a2142d4393b4a71815eec963a0",
      "204b25455589409eafbfff84fb6733bb",
      "bc1ae9bf290c429bb76137bfa883a69e",
      "c62692c5569045f8bfd3f9c317a2e561",
      "c9a91f7354e54563a662f817f0fc1e5b",
      "f8c50efb49974065bdf05d8a0f41e58d",
      "c9efafc51de24575ac2cbaf93b5d3f7a",
      "54fb0d93f65f46d18e08837c4fbd1578",
      "f09e0ae9ef884d9683796b4ad3283899",
      "0318bc68dce24ce082df4941a97bb5e3",
      "52db14b0600d450991aa0dda05544d60",
      "11338bb7f6f9455ba1a5e7c188f52188",
      "7579a412c8e8477089c8412c0a4010ee",
      "49064573e13f4c2481d15b6d1f608859",
      "4f9c5712d45a4184bc8fa2eec67cc314",
      "c1b922ec0ee74d84b22d553bca3d2782",
      "96f30dfae32443a49be13869c4955572",
      "5380e89b6c194489984ea4a4e2305361",
      "b5ec6770dc2e41fe959a853f4ff2afa3",
      "b871e1de84e24efa94a924ad0d2b0847",
      "6a1104a989ff4d848cfc150c85913a1f",
      "a09ea0c67dfd4cfba6b2b56e4a12d66a",
      "78267027729a4b69bada686463301d37",
      "f55d3e0e65384208b4759729c31ee99f",
      "94e7b59f22b74257bd313fd58789f71f",
      "798cb8b06c0f494ba4820fbf15196fa1",
      "35623decd29342b88746a2b8d01357c3",
      "e126ebd02a114656b1f1c2f910373a77",
      "c4ef049c80b448089288e85446a9f4e8",
      "6a2e5d742f6e4d31a29a170f09321eb9",
      "f2d9a783b52e4744b501b6b96f51dbb6",
      "a87fc473ed764007bc96c10f948264bf",
      "12149cdddde04ba6b81e5d10f3b58e1f",
      "930f862f6fc64dbca386cb9e9a9bd635",
      "7df47187425d422fbc928193e52188a4",
      "0d6572a2cc8b4d5b902102ad0f381678",
      "bc51a582c76a4d1db05f882843176354",
      "7426939818ea40fe9e93ac6170f9806c",
      "49dd6cd4ca3c432b9ab9cb71c6bf3004",
      "ae7d24ae1a694959827886af0a7b01ab",
      "bb000015f76640a6b44304892223ae6a",
      "ea6872e246234f82a026ce29e1c874d3",
      "0d2c094570ba470a801e84322c89bafe",
      "ef9d623dd94e4a8cb013bf544f9c6633",
      "0b78b81dbe0248c789f8a8b483ef280c",
      "89ebe7b51f9646bba8441c4188911830",
      "45b02342855a4e8a92bff5c5665b5bce",
      "31c4bf9a67094ff190a334fd208d3544",
      "492dc6844c6c429482a68df499c3e8aa",
      "189f3c9273cd4d1dba3902c9e4af1e6d",
      "50554eb674274a6489bc5b7058fb369e",
      "d94b3ce989f2405b815fb523731a3868"
     ]
    },
    "id": "w2gmDfaDsI8h",
    "outputId": "db0b9b54-3040-4e1d-f39f-537a064a7a1d"
   },
   "outputs": [
    {
     "name": "stdout",
     "output_type": "stream",
     "text": [
      "\u001b[1mDownloading and preparing dataset imdb_reviews/plain_text/1.0.0 (download: 80.23 MiB, generated: Unknown size, total: 80.23 MiB) to /root/tensorflow_datasets/imdb_reviews/plain_text/1.0.0...\u001b[0m\n"
     ]
    },
    {
     "data": {
      "application/vnd.jupyter.widget-view+json": {
       "model_id": "6c0b035096aa4be6bca62b8a4aafdcdd",
       "version_major": 2,
       "version_minor": 0
      },
      "text/plain": [
       "Dl Completed...: 0 url [00:00, ? url/s]"
      ]
     },
     "metadata": {},
     "output_type": "display_data"
    },
    {
     "data": {
      "application/vnd.jupyter.widget-view+json": {
       "model_id": "0f9b08b182f7430280d5cda294d06ac4",
       "version_major": 2,
       "version_minor": 0
      },
      "text/plain": [
       "Dl Size...: 0 MiB [00:00, ? MiB/s]"
      ]
     },
     "metadata": {},
     "output_type": "display_data"
    },
    {
     "name": "stdout",
     "output_type": "stream",
     "text": [
      "\n",
      "\n"
     ]
    },
    {
     "data": {
      "application/vnd.jupyter.widget-view+json": {
       "model_id": "3625ce4643634da4960f408ad679eeb6",
       "version_major": 2,
       "version_minor": 0
      },
      "text/plain": [
       "0 examples [00:00, ? examples/s]"
      ]
     },
     "metadata": {},
     "output_type": "display_data"
    },
    {
     "name": "stdout",
     "output_type": "stream",
     "text": [
      "Shuffling and writing examples to /root/tensorflow_datasets/imdb_reviews/plain_text/1.0.0.incompletePMZO3A/imdb_reviews-train.tfrecord\n"
     ]
    },
    {
     "data": {
      "application/vnd.jupyter.widget-view+json": {
       "model_id": "54154cfec8d442cbbf55c18615b5b7da",
       "version_major": 2,
       "version_minor": 0
      },
      "text/plain": [
       "  0%|          | 0/25000 [00:00<?, ? examples/s]"
      ]
     },
     "metadata": {},
     "output_type": "display_data"
    },
    {
     "data": {
      "application/vnd.jupyter.widget-view+json": {
       "model_id": "f09e0ae9ef884d9683796b4ad3283899",
       "version_major": 2,
       "version_minor": 0
      },
      "text/plain": [
       "0 examples [00:00, ? examples/s]"
      ]
     },
     "metadata": {},
     "output_type": "display_data"
    },
    {
     "name": "stdout",
     "output_type": "stream",
     "text": [
      "Shuffling and writing examples to /root/tensorflow_datasets/imdb_reviews/plain_text/1.0.0.incompletePMZO3A/imdb_reviews-test.tfrecord\n"
     ]
    },
    {
     "data": {
      "application/vnd.jupyter.widget-view+json": {
       "model_id": "b871e1de84e24efa94a924ad0d2b0847",
       "version_major": 2,
       "version_minor": 0
      },
      "text/plain": [
       "  0%|          | 0/25000 [00:00<?, ? examples/s]"
      ]
     },
     "metadata": {},
     "output_type": "display_data"
    },
    {
     "data": {
      "application/vnd.jupyter.widget-view+json": {
       "model_id": "f2d9a783b52e4744b501b6b96f51dbb6",
       "version_major": 2,
       "version_minor": 0
      },
      "text/plain": [
       "0 examples [00:00, ? examples/s]"
      ]
     },
     "metadata": {},
     "output_type": "display_data"
    },
    {
     "name": "stdout",
     "output_type": "stream",
     "text": [
      "Shuffling and writing examples to /root/tensorflow_datasets/imdb_reviews/plain_text/1.0.0.incompletePMZO3A/imdb_reviews-unsupervised.tfrecord\n"
     ]
    },
    {
     "data": {
      "application/vnd.jupyter.widget-view+json": {
       "model_id": "ea6872e246234f82a026ce29e1c874d3",
       "version_major": 2,
       "version_minor": 0
      },
      "text/plain": [
       "  0%|          | 0/50000 [00:00<?, ? examples/s]"
      ]
     },
     "metadata": {},
     "output_type": "display_data"
    },
    {
     "name": "stderr",
     "output_type": "stream",
     "text": [
      "WARNING:absl:Dataset is using deprecated text encoder API which will be removed soon. Please use the plain_text version of the dataset and migrate to `tensorflow_text`.\n"
     ]
    },
    {
     "name": "stdout",
     "output_type": "stream",
     "text": [
      "\u001b[1mDataset imdb_reviews downloaded and prepared to /root/tensorflow_datasets/imdb_reviews/plain_text/1.0.0. Subsequent calls will reuse this data.\u001b[0m\n"
     ]
    }
   ],
   "source": [
    "(ds_train,ds_test),ds_info = tfds.load(\n",
    "    name=\"imdb_reviews\",\n",
    "    split=[\"train\",\"test\"],\n",
    "    shuffle_files=True,\n",
    "    as_supervised=True,\n",
    "    with_info=True)"
   ]
  },
  {
   "cell_type": "markdown",
   "metadata": {
    "id": "3rLTOnRrKIaD"
   },
   "source": [
    "# TFIDF implementation\n",
    "\n",
    "1 EDA and data processing\n",
    "\n",
    "2 TFIDF vectorization\n",
    "\n",
    "3 Models: SVM, Random forest, Naive Bayes, Logistic Regression, Grid Searches\n",
    "\n",
    "PS steps explained in detail while implementing in comments"
   ]
  },
  {
   "cell_type": "markdown",
   "metadata": {
    "id": "rR9r3idAZOoz"
   },
   "source": [
    "#EDA and Data Processing\n",
    "\n",
    "In this we preprocess the data that is to be fed to tfidf vectorizer\n",
    "\n",
    "1 We extract the data.\n",
    "\n",
    "2 We preprocess it with basic_clean and tfidf_clean functions.\n",
    "\n",
    "3 Remove less frequency words\n",
    "\n",
    "Processes explained in detail in comments.\n"
   ]
  },
  {
   "cell_type": "code",
   "execution_count": null,
   "metadata": {
    "id": "yPBxl3U2qy5y"
   },
   "outputs": [],
   "source": [
    "import pandas as pd\n",
    "import numpy as np\n",
    "import nltk\n",
    "from nltk.corpus import stopwords\n",
    "import re\n",
    "import pandas as pd "
   ]
  },
  {
   "cell_type": "code",
   "execution_count": null,
   "metadata": {
    "id": "LPUOhzNHsKpM"
   },
   "outputs": [],
   "source": [
    "# we create a dataframe from a tensorflow data object\n",
    "#we take a higher value than 25000 in take() so that we do not miss any values\n",
    "ds_train = tfds.as_dataframe(ds_train.take(25100), ds_info)\n",
    "ds_test = tfds.as_dataframe(ds_test.take(25100), ds_info)"
   ]
  },
  {
   "cell_type": "code",
   "execution_count": null,
   "metadata": {
    "colab": {
     "base_uri": "https://localhost:8080/",
     "height": 206
    },
    "id": "qUQv2ofCsaRp",
    "outputId": "9a6cb026-dd18-4dcc-9310-33f5d0968d94"
   },
   "outputs": [
    {
     "data": {
      "text/html": [
       "<div>\n",
       "<style scoped>\n",
       "    .dataframe tbody tr th:only-of-type {\n",
       "        vertical-align: middle;\n",
       "    }\n",
       "\n",
       "    .dataframe tbody tr th {\n",
       "        vertical-align: top;\n",
       "    }\n",
       "\n",
       "    .dataframe thead th {\n",
       "        text-align: right;\n",
       "    }\n",
       "</style>\n",
       "<table border=\"1\" class=\"dataframe\">\n",
       "  <thead>\n",
       "    <tr style=\"text-align: right;\">\n",
       "      <th></th>\n",
       "      <th>label</th>\n",
       "      <th>text</th>\n",
       "    </tr>\n",
       "  </thead>\n",
       "  <tbody>\n",
       "    <tr>\n",
       "      <th>0</th>\n",
       "      <td>0</td>\n",
       "      <td>b\"This was an absolutely terrible movie. Don't...</td>\n",
       "    </tr>\n",
       "    <tr>\n",
       "      <th>1</th>\n",
       "      <td>0</td>\n",
       "      <td>b'I have been known to fall asleep during film...</td>\n",
       "    </tr>\n",
       "    <tr>\n",
       "      <th>2</th>\n",
       "      <td>0</td>\n",
       "      <td>b'Mann photographs the Alberta Rocky Mountains...</td>\n",
       "    </tr>\n",
       "    <tr>\n",
       "      <th>3</th>\n",
       "      <td>1</td>\n",
       "      <td>b'This is the kind of film for a snowy Sunday ...</td>\n",
       "    </tr>\n",
       "    <tr>\n",
       "      <th>4</th>\n",
       "      <td>1</td>\n",
       "      <td>b'As others have mentioned, all the women that...</td>\n",
       "    </tr>\n",
       "  </tbody>\n",
       "</table>\n",
       "</div>"
      ],
      "text/plain": [
       "   label                                               text\n",
       "0      0  b\"This was an absolutely terrible movie. Don't...\n",
       "1      0  b'I have been known to fall asleep during film...\n",
       "2      0  b'Mann photographs the Alberta Rocky Mountains...\n",
       "3      1  b'This is the kind of film for a snowy Sunday ...\n",
       "4      1  b'As others have mentioned, all the women that..."
      ]
     },
     "execution_count": 6,
     "metadata": {},
     "output_type": "execute_result"
    }
   ],
   "source": [
    "ds_train.head(5)\n",
    "#we see these b's as data converts to bytes hence we need to decode the bytes and do some basic cleaning to the data set, its probably because of utf"
   ]
  },
  {
   "cell_type": "code",
   "execution_count": null,
   "metadata": {
    "colab": {
     "base_uri": "https://localhost:8080/"
    },
    "id": "i9ZC6aO9_-gR",
    "outputId": "bd2335ed-3ad8-44ae-e939-2f48d87a6125"
   },
   "outputs": [
    {
     "data": {
      "text/plain": [
       "1    12500\n",
       "0    12500\n",
       "Name: label, dtype: int64"
      ]
     },
     "execution_count": 7,
     "metadata": {},
     "output_type": "execute_result"
    }
   ],
   "source": [
    "ds_train['label'].value_counts()"
   ]
  },
  {
   "cell_type": "code",
   "execution_count": null,
   "metadata": {
    "colab": {
     "base_uri": "https://localhost:8080/"
    },
    "id": "jpMppXZWAFea",
    "outputId": "c435f6f0-3861-4899-9b92-9c0e5ae7c6ff"
   },
   "outputs": [
    {
     "data": {
      "text/plain": [
       "1    12500\n",
       "0    12500\n",
       "Name: label, dtype: int64"
      ]
     },
     "execution_count": 8,
     "metadata": {},
     "output_type": "execute_result"
    }
   ],
   "source": [
    "ds_test['label'].value_counts()\n",
    "#Equally devided values for 0's and 1's in data set"
   ]
  },
  {
   "cell_type": "code",
   "execution_count": null,
   "metadata": {
    "colab": {
     "base_uri": "https://localhost:8080/",
     "height": 206
    },
    "id": "rBomG41luQvN",
    "outputId": "81606441-d715-4a55-99a2-718063bfb921"
   },
   "outputs": [
    {
     "data": {
      "text/html": [
       "<div>\n",
       "<style scoped>\n",
       "    .dataframe tbody tr th:only-of-type {\n",
       "        vertical-align: middle;\n",
       "    }\n",
       "\n",
       "    .dataframe tbody tr th {\n",
       "        vertical-align: top;\n",
       "    }\n",
       "\n",
       "    .dataframe thead th {\n",
       "        text-align: right;\n",
       "    }\n",
       "</style>\n",
       "<table border=\"1\" class=\"dataframe\">\n",
       "  <thead>\n",
       "    <tr style=\"text-align: right;\">\n",
       "      <th></th>\n",
       "      <th>label</th>\n",
       "      <th>text</th>\n",
       "    </tr>\n",
       "  </thead>\n",
       "  <tbody>\n",
       "    <tr>\n",
       "      <th>0</th>\n",
       "      <td>0</td>\n",
       "      <td>this was an absolutely terrible movie dont be ...</td>\n",
       "    </tr>\n",
       "    <tr>\n",
       "      <th>1</th>\n",
       "      <td>0</td>\n",
       "      <td>i have been known to fall asleep during films ...</td>\n",
       "    </tr>\n",
       "    <tr>\n",
       "      <th>2</th>\n",
       "      <td>0</td>\n",
       "      <td>mann photographs the alberta rocky mountains i...</td>\n",
       "    </tr>\n",
       "    <tr>\n",
       "      <th>3</th>\n",
       "      <td>1</td>\n",
       "      <td>this is the kind of film for a snowy sunday af...</td>\n",
       "    </tr>\n",
       "    <tr>\n",
       "      <th>4</th>\n",
       "      <td>1</td>\n",
       "      <td>as others have mentioned all the women that go...</td>\n",
       "    </tr>\n",
       "  </tbody>\n",
       "</table>\n",
       "</div>"
      ],
      "text/plain": [
       "   label                                               text\n",
       "0      0  this was an absolutely terrible movie dont be ...\n",
       "1      0  i have been known to fall asleep during films ...\n",
       "2      0  mann photographs the alberta rocky mountains i...\n",
       "3      1  this is the kind of film for a snowy sunday af...\n",
       "4      1  as others have mentioned all the women that go..."
      ]
     },
     "execution_count": 9,
     "metadata": {},
     "output_type": "execute_result"
    }
   ],
   "source": [
    "# As we can see their are some weird characters in between, lets do the very basic cleaning\n",
    "def basic_clean(txt):\n",
    "  txt = txt.decode(\"utf-8\") #to remove b's from the beginning of the text and make it string\n",
    "  txt = re.compile(\"[.;:!\\'?,\\\"()\\[\\]]\").sub(\"\", txt.lower()) #remove punctuations\n",
    "  txt = re.compile(\"(<br\\s*/><br\\s*/>)|(\\-)|(\\/)\").sub(\" \", txt.lower()) #remove links\n",
    "  return txt\n",
    "ds_train['text'] =  ds_train['text'].apply(basic_clean)\n",
    "ds_test['text'] =  ds_test['text'].apply(basic_clean)\n",
    "ds_train.head(5)"
   ]
  },
  {
   "cell_type": "code",
   "execution_count": null,
   "metadata": {
    "id": "bdrekvDS9Qk4"
   },
   "outputs": [],
   "source": [
    "#first we process the text in this process the normal anomalies in text then we tokenize after that lemmetize after this remove words with less freq finally fit tfidf vectorizer and then fit the model"
   ]
  },
  {
   "cell_type": "code",
   "execution_count": null,
   "metadata": {
    "colab": {
     "base_uri": "https://localhost:8080/"
    },
    "id": "BrW_YmzxP1hQ",
    "outputId": "e89b054f-127e-476f-a3b8-76a5d03fdcc8"
   },
   "outputs": [
    {
     "name": "stdout",
     "output_type": "stream",
     "text": [
      "[nltk_data] Downloading package stopwords to /root/nltk_data...\n",
      "[nltk_data]   Unzipping corpora/stopwords.zip.\n",
      "[nltk_data] Downloading package punkt to /root/nltk_data...\n",
      "[nltk_data]   Unzipping tokenizers/punkt.zip.\n",
      "[nltk_data] Downloading package wordnet to /root/nltk_data...\n",
      "[nltk_data]   Unzipping corpora/wordnet.zip.\n"
     ]
    }
   ],
   "source": [
    "nltk.download('stopwords')\n",
    "nltk.download('punkt')\n",
    "nltk.download('wordnet')\n",
    "def tfidf_clean(txt):\n",
    "    wnl = nltk.WordNetLemmatizer()\n",
    "    stop_word = nltk.corpus.stopwords.words('english') #stopword corpus\n",
    "    tkns = nltk.word_tokenize(txt) #tokenize the text, it devides the text into its sub strings\n",
    "    lowr = [word.lower() for word in tkns] #lower case the text, to have uniformity in the data set\n",
    "    no_stopwords = [word for word in lowr if word not in stop_word] #remove stopwords, since they do not have a lot of importance in terms of context of the sentence\n",
    "    noalpha = [word for word in no_stopwords if word.isalpha()] #remove non alphabetical part,since we want to do a textual analysis\n",
    "    lemma_txt = [wnl.lemmatize(word) for word in noalpha] #lemmatize the text, it is for a better morphological analysis\n",
    "    tfidf_txt = lemma_txt\n",
    "    return tfidf_txt #final tfidf text"
   ]
  },
  {
   "cell_type": "code",
   "execution_count": null,
   "metadata": {
    "id": "UBccGiveQO-V"
   },
   "outputs": [],
   "source": [
    "#apply the above function on both test and train part od data set\n",
    "ds_train['text'] =  ds_train['text'].apply(tfidf_clean)\n",
    "ds_test['text'] =  ds_test['text'].apply(tfidf_clean)"
   ]
  },
  {
   "cell_type": "code",
   "execution_count": null,
   "metadata": {
    "colab": {
     "base_uri": "https://localhost:8080/",
     "height": 206
    },
    "id": "BEcMIEsvRBYo",
    "outputId": "f12c33b8-f607-44eb-c82e-503ac8c9db0d"
   },
   "outputs": [
    {
     "data": {
      "text/html": [
       "<div>\n",
       "<style scoped>\n",
       "    .dataframe tbody tr th:only-of-type {\n",
       "        vertical-align: middle;\n",
       "    }\n",
       "\n",
       "    .dataframe tbody tr th {\n",
       "        vertical-align: top;\n",
       "    }\n",
       "\n",
       "    .dataframe thead th {\n",
       "        text-align: right;\n",
       "    }\n",
       "</style>\n",
       "<table border=\"1\" class=\"dataframe\">\n",
       "  <thead>\n",
       "    <tr style=\"text-align: right;\">\n",
       "      <th></th>\n",
       "      <th>label</th>\n",
       "      <th>text</th>\n",
       "    </tr>\n",
       "  </thead>\n",
       "  <tbody>\n",
       "    <tr>\n",
       "      <th>0</th>\n",
       "      <td>0</td>\n",
       "      <td>[absolutely, terrible, movie, dont, lured, chr...</td>\n",
       "    </tr>\n",
       "    <tr>\n",
       "      <th>1</th>\n",
       "      <td>0</td>\n",
       "      <td>[known, fall, asleep, film, usually, due, comb...</td>\n",
       "    </tr>\n",
       "    <tr>\n",
       "      <th>2</th>\n",
       "      <td>0</td>\n",
       "      <td>[mann, photograph, alberta, rocky, mountain, s...</td>\n",
       "    </tr>\n",
       "    <tr>\n",
       "      <th>3</th>\n",
       "      <td>1</td>\n",
       "      <td>[kind, film, snowy, sunday, afternoon, rest, w...</td>\n",
       "    </tr>\n",
       "    <tr>\n",
       "      <th>4</th>\n",
       "      <td>1</td>\n",
       "      <td>[others, mentioned, woman, go, nude, film, mos...</td>\n",
       "    </tr>\n",
       "  </tbody>\n",
       "</table>\n",
       "</div>"
      ],
      "text/plain": [
       "   label                                               text\n",
       "0      0  [absolutely, terrible, movie, dont, lured, chr...\n",
       "1      0  [known, fall, asleep, film, usually, due, comb...\n",
       "2      0  [mann, photograph, alberta, rocky, mountain, s...\n",
       "3      1  [kind, film, snowy, sunday, afternoon, rest, w...\n",
       "4      1  [others, mentioned, woman, go, nude, film, mos..."
      ]
     },
     "execution_count": 13,
     "metadata": {},
     "output_type": "execute_result"
    }
   ],
   "source": [
    "ds_train.head(5)"
   ]
  },
  {
   "cell_type": "code",
   "execution_count": null,
   "metadata": {
    "id": "8S_ZfETfThOx"
   },
   "outputs": [],
   "source": [
    "#now we remove the words with frequency less than 5 we do it beacuse it might give very high importance to words with very low frequency in tfidf and lose the context of the data\n",
    "#we map the text to string since it has become in list form \n",
    "ds_train['text']= ds_train['text'].map(str)"
   ]
  },
  {
   "cell_type": "code",
   "execution_count": null,
   "metadata": {
    "colab": {
     "base_uri": "https://localhost:8080/"
    },
    "id": "SmoNSwafUrVY",
    "outputId": "efeed106-6c0a-4cf5-b1dd-c93d44f3cdfc"
   },
   "outputs": [
    {
     "name": "stdout",
     "output_type": "stream",
     "text": [
      "'janel',          4\n",
      "'softness',       4\n",
      "'järegård',       4\n",
      "'synchronous',    4\n",
      "'cecils',         4\n",
      "                 ..\n",
      "'usury',          1\n",
      "'flicklots',      1\n",
      "'miscasted',      1\n",
      "'extases',        1\n",
      "'peopleone',      1\n",
      "Length: 63732, dtype: int64\n"
     ]
    }
   ],
   "source": [
    "#find the words with less frequency\n",
    "frequency_train = pd.Series(' '.join(ds_train['text']).split()).value_counts()\n",
    "less_five_frequency_train = frequency_train[(frequency_train <5)]\n",
    "print(less_five_frequency_train)"
   ]
  },
  {
   "cell_type": "code",
   "execution_count": null,
   "metadata": {
    "colab": {
     "base_uri": "https://localhost:8080/"
    },
    "id": "pViF2816UuGi",
    "outputId": "29afd088-7c6a-447a-a5c1-22b9f8c5eb92"
   },
   "outputs": [
    {
     "name": "stdout",
     "output_type": "stream",
     "text": [
      "'miscalculation',            4\n",
      "'ferber',                    4\n",
      "['abysmal',                  4\n",
      "'reunites',                  4\n",
      "'prostituting',              4\n",
      "                            ..\n",
      "'personso',                  1\n",
      "'aksuan',                    1\n",
      "'mattlock',                  1\n",
      "'unbelievableeverything',    1\n",
      "'stillcouldnt',              1\n",
      "Length: 62901, dtype: int64\n"
     ]
    }
   ],
   "source": [
    "# we do the same for test as well\n",
    "ds_test['text']= ds_test['text'].map(str)\n",
    "frequency_test = pd.Series(' '.join(ds_test['text']).split()).value_counts()\n",
    "less_five_frequency_test = frequency_test[(frequency_test <5)]\n",
    "print(less_five_frequency_test)"
   ]
  },
  {
   "cell_type": "code",
   "execution_count": null,
   "metadata": {
    "id": "7ZfZS2PNVNRd"
   },
   "outputs": [],
   "source": [
    "#removal of the words with less frequency\n",
    "ds_train['text'] = ds_train['text'].apply(lambda x: ' '.join(x for x in x.split() if x not in less_five_frequency_train))\n",
    "ds_test['text'] = ds_test['text'].apply(lambda x: ' '.join(x for x in x.split() if x not in less_five_frequency_test))"
   ]
  },
  {
   "cell_type": "markdown",
   "metadata": {
    "id": "XN06VIsgYg2G"
   },
   "source": [
    "# TF-IDF Vectorization\n",
    "\n",
    "Ater preprocessing the data we do TFIDF vectorization"
   ]
  },
  {
   "cell_type": "code",
   "execution_count": null,
   "metadata": {
    "id": "Vx5HuLnQVof3"
   },
   "outputs": [],
   "source": [
    "#Tfidf vectorizer\n",
    "from sklearn.feature_extraction.text import TfidfVectorizer #Convert a collection of raw documents to a matrix of TF-IDF features.\n",
    "vectorizer = TfidfVectorizer(stop_words='english', ngram_range=(1, 2), max_features=20000) #we use unigram and bigram both which means it takes each word in single word context (unigram) and in pairs (bigram)  and max_features (features explained above, these are different words in the datase) = 20,000"
   ]
  },
  {
   "cell_type": "code",
   "execution_count": null,
   "metadata": {
    "colab": {
     "base_uri": "https://localhost:8080/"
    },
    "id": "fNZz6dCzWAiO",
    "outputId": "adc60dc1-f585-4fbf-98a6-53bfbb730fa0"
   },
   "outputs": [
    {
     "name": "stdout",
     "output_type": "stream",
     "text": [
      "(25000, 20000)\n",
      "(25000, 20000)\n"
     ]
    }
   ],
   "source": [
    "tfidf_training_features = vectorizer.fit_transform(ds_train['text'])  #fit on train data to convert it into tfidf matrix\n",
    "tfidf_test_features = vectorizer.transform(ds_test['text']) #fit on train data to convert it into tfidf matrix\n",
    "\n",
    "print(tfidf_training_features.shape)\n",
    "print(tfidf_test_features.shape)"
   ]
  },
  {
   "cell_type": "markdown",
   "metadata": {
    "id": "ajIwdQvVYdR4"
   },
   "source": [
    "# Models\n",
    "# SVM"
   ]
  },
  {
   "cell_type": "code",
   "execution_count": null,
   "metadata": {
    "id": "n38r5LNPWlUB"
   },
   "outputs": [],
   "source": [
    "from sklearn.svm import SVC\n",
    "from sklearn.metrics import accuracy_score"
   ]
  },
  {
   "cell_type": "code",
   "execution_count": null,
   "metadata": {
    "id": "qqNlBocfW5Ax"
   },
   "outputs": [],
   "source": [
    "model = SVC(kernel ='linear', C = 1) #SVC model"
   ]
  },
  {
   "cell_type": "code",
   "execution_count": null,
   "metadata": {
    "colab": {
     "base_uri": "https://localhost:8080/"
    },
    "id": "yIgMBtuIW9bu",
    "outputId": "78bc1751-52b6-4af3-a439-fc12eb61a12c"
   },
   "outputs": [
    {
     "data": {
      "text/plain": [
       "SVC(C=1, kernel='linear')"
      ]
     },
     "execution_count": 41,
     "metadata": {},
     "output_type": "execute_result"
    }
   ],
   "source": [
    "model.fit(tfidf_training_features, ds_train['label']) #fit the model"
   ]
  },
  {
   "cell_type": "code",
   "execution_count": null,
   "metadata": {
    "colab": {
     "base_uri": "https://localhost:8080/"
    },
    "id": "TRwqDzATXXE2",
    "outputId": "56fd632e-f6f2-4940-eb25-354e5d69e59a"
   },
   "outputs": [
    {
     "name": "stdout",
     "output_type": "stream",
     "text": [
      "Test accuracy Score svm: 87.392\n"
     ]
    }
   ],
   "source": [
    "y_pred_tfidf_svm = model.predict(tfidf_test_features) #predict values in tfidf_test_features\n",
    "acc = accuracy_score(y_pred_tfidf_svm, ds_test['label']) #measure accuracy of test\n",
    "print('Test accuracy Score svm:', acc*100)"
   ]
  },
  {
   "cell_type": "markdown",
   "metadata": {
    "id": "Z2PWvaxIYCGu"
   },
   "source": [
    "# Logistic Regression"
   ]
  },
  {
   "cell_type": "code",
   "execution_count": null,
   "metadata": {
    "id": "S7Yc6_kPduOr"
   },
   "outputs": [],
   "source": [
    "from sklearn.linear_model import LogisticRegression"
   ]
  },
  {
   "cell_type": "code",
   "execution_count": null,
   "metadata": {
    "id": "i-aHwgQpeRfE"
   },
   "outputs": [],
   "source": [
    "model_lr = LogisticRegression() #logistic regression model"
   ]
  },
  {
   "cell_type": "code",
   "execution_count": null,
   "metadata": {
    "colab": {
     "base_uri": "https://localhost:8080/"
    },
    "id": "LmfJWvPIeVwR",
    "outputId": "03cb73f8-d6fb-4614-ff90-5ab0c2d49eaa"
   },
   "outputs": [
    {
     "data": {
      "text/plain": [
       "LogisticRegression()"
      ]
     },
     "execution_count": 24,
     "metadata": {},
     "output_type": "execute_result"
    }
   ],
   "source": [
    "model_lr.fit(tfidf_training_features, ds_train['label']) #fit the model"
   ]
  },
  {
   "cell_type": "code",
   "execution_count": null,
   "metadata": {
    "colab": {
     "base_uri": "https://localhost:8080/"
    },
    "id": "qjAEriE6ebJJ",
    "outputId": "75af0560-43f8-419b-84f8-c9b32e1df427"
   },
   "outputs": [
    {
     "name": "stdout",
     "output_type": "stream",
     "text": [
      "Test accuracy Score logistic regression: 87.924\n"
     ]
    }
   ],
   "source": [
    "y_pred_tfidf_lr = model_lr.predict(tfidf_test_features) #predict values in tfidf_test_features\n",
    "acc = accuracy_score(y_pred_tfidf_lr, ds_test['label']) #measure the accuracy of test\n",
    "print('Test accuracy Score logistic regression:', acc*100)"
   ]
  },
  {
   "cell_type": "markdown",
   "metadata": {
    "id": "kGz0UIK4XvfJ"
   },
   "source": [
    "# Naive Bayes"
   ]
  },
  {
   "cell_type": "code",
   "execution_count": null,
   "metadata": {
    "id": "HZf9zTEdeqRn"
   },
   "outputs": [],
   "source": [
    " from sklearn.naive_bayes import MultinomialNB"
   ]
  },
  {
   "cell_type": "code",
   "execution_count": null,
   "metadata": {
    "id": "SmVyS9cgCZe-"
   },
   "outputs": [],
   "source": [
    "model_nb = MultinomialNB() #naive bayse model"
   ]
  },
  {
   "cell_type": "code",
   "execution_count": null,
   "metadata": {
    "colab": {
     "base_uri": "https://localhost:8080/"
    },
    "id": "mmcUSYw-EXg_",
    "outputId": "ecd47ded-c6fc-4194-f25b-708cd87ec0df"
   },
   "outputs": [
    {
     "data": {
      "text/plain": [
       "MultinomialNB()"
      ]
     },
     "execution_count": 67,
     "metadata": {},
     "output_type": "execute_result"
    }
   ],
   "source": [
    "model_nb.fit(tfidf_training_features, ds_train['label']) #fit model"
   ]
  },
  {
   "cell_type": "code",
   "execution_count": null,
   "metadata": {
    "colab": {
     "base_uri": "https://localhost:8080/"
    },
    "id": "vSLYp8x0Ed54",
    "outputId": "67ff9b23-ec24-4c46-bb0e-b3b1012b7f48"
   },
   "outputs": [
    {
     "name": "stdout",
     "output_type": "stream",
     "text": [
      "Test accuracy Score logistic regression: 84.628\n"
     ]
    }
   ],
   "source": [
    "y_pred_tfidf_nb = model_nb.predict(tfidf_test_features) #preditct values on tfidf_test_features\n",
    "acc = accuracy_score(y_pred_tfidf_nb, ds_test['label']) #measure accuracy of test\n",
    "print('Test accuracy Score logistic regression:', acc*100)"
   ]
  },
  {
   "cell_type": "markdown",
   "metadata": {
    "id": "rE02GJ9CY0fd"
   },
   "source": [
    "# Random Forest"
   ]
  },
  {
   "cell_type": "code",
   "execution_count": null,
   "metadata": {
    "id": "ixkd6UwHGxbS"
   },
   "outputs": [],
   "source": [
    "from sklearn.ensemble import RandomForestClassifier\n",
    "\n",
    "model_rf = RandomForestClassifier(n_estimators=100, random_state=0) #random forest model"
   ]
  },
  {
   "cell_type": "code",
   "execution_count": null,
   "metadata": {
    "colab": {
     "base_uri": "https://localhost:8080/"
    },
    "id": "W-7kfXDIIdAS",
    "outputId": "4e657419-5b8c-453d-be34-6839ebfbb8d3"
   },
   "outputs": [
    {
     "data": {
      "text/plain": [
       "RandomForestClassifier(random_state=0)"
      ]
     },
     "execution_count": 72,
     "metadata": {},
     "output_type": "execute_result"
    }
   ],
   "source": [
    "model_rf.fit(tfidf_training_features, ds_train['label']) #fit rf model"
   ]
  },
  {
   "cell_type": "code",
   "execution_count": null,
   "metadata": {
    "colab": {
     "base_uri": "https://localhost:8080/"
    },
    "id": "O9u86fCBIN3_",
    "outputId": "d37a3cff-6b4c-4977-ec31-54fd15a7dc83"
   },
   "outputs": [
    {
     "name": "stdout",
     "output_type": "stream",
     "text": [
      "Test accuracy Score random forest: 84.64399999999999\n"
     ]
    }
   ],
   "source": [
    "y_pred_tfidf_rf = model_rf.predict(tfidf_test_features) #predict the fitted model on test features\n",
    "acc = accuracy_score(y_pred_tfidf_rf, ds_test['label']) #measure accuracy of the test \n",
    "print('Test accuracy Score random forest:', acc*100)"
   ]
  },
  {
   "cell_type": "markdown",
   "metadata": {
    "id": "YA1zZP3RZGG5"
   },
   "source": [
    "#Grid Search SVM and Random Forest"
   ]
  },
  {
   "cell_type": "code",
   "execution_count": null,
   "metadata": {
    "id": "vfaxw8CpGOC6"
   },
   "outputs": [],
   "source": [
    "from sklearn.model_selection import RandomizedSearchCV, GridSearchCV"
   ]
  },
  {
   "cell_type": "code",
   "execution_count": null,
   "metadata": {
    "id": "DE5x862iJOG9"
   },
   "outputs": [],
   "source": [
    "tuned_parameters = {\"kernel\": [\"linear\"], \"C\": [0.1, 10, 20, 100]} #seacg grid"
   ]
  },
  {
   "cell_type": "code",
   "execution_count": null,
   "metadata": {
    "id": "5rZcsALEJhJR"
   },
   "outputs": [],
   "source": [
    "grid = GridSearchCV(SVC(), tuned_parameters, cv = 3, refit = True, verbose = 3) #svm grid search cv"
   ]
  },
  {
   "cell_type": "code",
   "execution_count": null,
   "metadata": {
    "colab": {
     "base_uri": "https://localhost:8080/"
    },
    "id": "pG6EVRTnLKEb",
    "outputId": "6f33f74b-7fd6-4d57-ac0d-babf72b5eceb"
   },
   "outputs": [
    {
     "name": "stdout",
     "output_type": "stream",
     "text": [
      "Fitting 3 folds for each of 4 candidates, totalling 12 fits\n",
      "[CV 1/3] END ..............C=0.1, kernel=linear;, score=0.864 total time= 4.8min\n",
      "[CV 2/3] END ..............C=0.1, kernel=linear;, score=0.866 total time= 4.7min\n",
      "[CV 3/3] END ..............C=0.1, kernel=linear;, score=0.863 total time= 4.7min\n",
      "[CV 1/3] END ...............C=10, kernel=linear;, score=0.862 total time= 7.7min\n",
      "[CV 2/3] END ...............C=10, kernel=linear;, score=0.862 total time= 7.8min\n",
      "[CV 3/3] END ...............C=10, kernel=linear;, score=0.855 total time= 9.5min\n",
      "[CV 1/3] END ...............C=20, kernel=linear;, score=0.861 total time= 7.8min\n",
      "[CV 2/3] END ...............C=20, kernel=linear;, score=0.862 total time= 7.8min\n",
      "[CV 3/3] END ...............C=20, kernel=linear;, score=0.854 total time= 8.0min\n",
      "[CV 1/3] END ..............C=100, kernel=linear;, score=0.861 total time= 8.0min\n",
      "[CV 2/3] END ..............C=100, kernel=linear;, score=0.862 total time= 8.1min\n",
      "[CV 3/3] END ..............C=100, kernel=linear;, score=0.854 total time= 8.2min\n"
     ]
    },
    {
     "data": {
      "text/plain": [
       "GridSearchCV(cv=3, estimator=SVC(),\n",
       "             param_grid={'C': [0.1, 10, 20, 100], 'kernel': ['linear']},\n",
       "             verbose=3)"
      ]
     },
     "execution_count": 29,
     "metadata": {},
     "output_type": "execute_result"
    }
   ],
   "source": [
    "grid.fit(tfidf_training_features, ds_train['label']) #fit the grid"
   ]
  },
  {
   "cell_type": "code",
   "execution_count": null,
   "metadata": {
    "colab": {
     "base_uri": "https://localhost:8080/"
    },
    "id": "nfgUT9hrLgEZ",
    "outputId": "9aedfa9d-ab1a-4372-d021-76653ff2c180"
   },
   "outputs": [
    {
     "name": "stdout",
     "output_type": "stream",
     "text": [
      "{'C': 0.1, 'kernel': 'linear'}\n",
      "SVC(C=0.1, kernel='linear')\n"
     ]
    }
   ],
   "source": [
    "print(grid.best_params_) #best params\n",
    "print(grid.best_estimator_)\n"
   ]
  },
  {
   "cell_type": "code",
   "execution_count": null,
   "metadata": {
    "colab": {
     "base_uri": "https://localhost:8080/"
    },
    "id": "Os7xxDBtljUO",
    "outputId": "68deb46d-8ecf-43a3-b130-fe7c5c2c8f81"
   },
   "outputs": [
    {
     "name": "stdout",
     "output_type": "stream",
     "text": [
      "Test accuracy Score Best SVM: 86.98\n"
     ]
    }
   ],
   "source": [
    "y_pred_tfidf_grid_svm = grid.predict(tfidf_test_features) #fit best params on the data and predict\n",
    "acc = accuracy_score(y_pred_tfidf_grid_svm, ds_test['label']) #measure accuracy\n",
    "print('Test accuracy Score Best SVM:', acc*100)"
   ]
  },
  {
   "cell_type": "code",
   "execution_count": null,
   "metadata": {
    "id": "qNIIa20vTfsm"
   },
   "outputs": [],
   "source": [
    "tuned_parameters = {\"kernel\": [\"linear\"], \"C\": [2,3,4,7]} #grid seach 2 for svm with different c values"
   ]
  },
  {
   "cell_type": "code",
   "execution_count": null,
   "metadata": {
    "id": "7h_U29BtsYQL"
   },
   "outputs": [],
   "source": [
    "grid_2 = GridSearchCV(SVC(), tuned_parameters, cv = 3, refit = True, verbose = 3) #define grid search with cv = 3"
   ]
  },
  {
   "cell_type": "code",
   "execution_count": null,
   "metadata": {
    "colab": {
     "base_uri": "https://localhost:8080/"
    },
    "id": "ubnaMtMDsxmc",
    "outputId": "6972fd09-876c-4936-9556-ace6686f0062"
   },
   "outputs": [
    {
     "name": "stdout",
     "output_type": "stream",
     "text": [
      "Fitting 3 folds for each of 4 candidates, totalling 12 fits\n",
      "[CV 1/3] END ................C=2, kernel=linear;, score=0.880 total time= 6.8min\n",
      "[CV 2/3] END ................C=2, kernel=linear;, score=0.879 total time= 7.2min\n",
      "[CV 3/3] END ................C=2, kernel=linear;, score=0.873 total time= 7.0min\n",
      "[CV 1/3] END ................C=3, kernel=linear;, score=0.874 total time= 7.8min\n",
      "[CV 2/3] END ................C=3, kernel=linear;, score=0.874 total time= 7.9min\n",
      "[CV 3/3] END ................C=3, kernel=linear;, score=0.868 total time= 7.9min\n",
      "[CV 1/3] END ................C=4, kernel=linear;, score=0.869 total time= 8.2min\n",
      "[CV 2/3] END ................C=4, kernel=linear;, score=0.871 total time= 8.5min\n",
      "[CV 3/3] END ................C=4, kernel=linear;, score=0.863 total time= 8.6min\n",
      "[CV 1/3] END ................C=7, kernel=linear;, score=0.863 total time= 9.4min\n",
      "[CV 2/3] END ................C=7, kernel=linear;, score=0.864 total time= 9.5min\n",
      "[CV 3/3] END ................C=7, kernel=linear;, score=0.856 total time= 9.4min\n",
      "{'C': 2, 'kernel': 'linear'}\n",
      "SVC(C=2, kernel='linear')\n",
      "Test accuracy Score Best SVM Search: 86.408\n"
     ]
    }
   ],
   "source": [
    "grid_2.fit(tfidf_training_features, ds_train['label']) #fit the grid seach on data\n",
    "print(grid_2.best_params_) #best params\n",
    "print(grid_2.best_estimator_)\n",
    "y_pred_tfidf_grid2_svm = grid_2.predict(tfidf_test_features) # predict with best params\n",
    "acc = accuracy_score(y_pred_tfidf_grid2_svm, ds_test['label']) # measure accuracy compared to test\n",
    "print('Test accuracy Score Best SVM Search:', acc*100)"
   ]
  },
  {
   "cell_type": "code",
   "execution_count": null,
   "metadata": {
    "id": "DfL1sV8SLwnu"
   },
   "outputs": [],
   "source": [
    "# Randomized Grid Search Random Forest\n",
    "tuned_parameters = {\"n_estimators\": [10, 30, 50, 100, 200], \"max_depth\": [5, 10, 20,40, 30, 50, 70, 100], \"max_features\": ['auto', 'sqrt']} #rf grid\n",
    "RandomizedSearch_rf = RandomizedSearchCV(RandomForestClassifier(), tuned_parameters, n_iter = 20, cv = 3, refit = True, verbose = 3) #randomized grid search with 20 iterations and 3 folds, it randomly selects the parameters for huge grid searches and gives results "
   ]
  },
  {
   "cell_type": "code",
   "execution_count": null,
   "metadata": {
    "colab": {
     "base_uri": "https://localhost:8080/"
    },
    "id": "aDcJs0QoS1s_",
    "outputId": "7a2c1618-6416-463b-b917-57b3f6bb979e"
   },
   "outputs": [
    {
     "name": "stdout",
     "output_type": "stream",
     "text": [
      "Fitting 3 folds for each of 20 candidates, totalling 60 fits\n",
      "[CV 1/3] END max_depth=40, max_features=auto, n_estimators=100;, score=0.839 total time=  12.2s\n",
      "[CV 2/3] END max_depth=40, max_features=auto, n_estimators=100;, score=0.847 total time=  12.1s\n",
      "[CV 3/3] END max_depth=40, max_features=auto, n_estimators=100;, score=0.836 total time=  11.4s\n",
      "[CV 1/3] END max_depth=20, max_features=auto, n_estimators=100;, score=0.831 total time=   4.6s\n",
      "[CV 2/3] END max_depth=20, max_features=auto, n_estimators=100;, score=0.840 total time=   4.6s\n",
      "[CV 3/3] END max_depth=20, max_features=auto, n_estimators=100;, score=0.823 total time=   4.6s\n",
      "[CV 1/3] END max_depth=20, max_features=auto, n_estimators=200;, score=0.835 total time=   9.2s\n",
      "[CV 2/3] END max_depth=20, max_features=auto, n_estimators=200;, score=0.843 total time=   9.0s\n",
      "[CV 3/3] END max_depth=20, max_features=auto, n_estimators=200;, score=0.830 total time=   8.9s\n",
      "[CV 1/3] END max_depth=20, max_features=sqrt, n_estimators=50;, score=0.824 total time=   2.4s\n",
      "[CV 2/3] END max_depth=20, max_features=sqrt, n_estimators=50;, score=0.832 total time=   2.4s\n",
      "[CV 3/3] END max_depth=20, max_features=sqrt, n_estimators=50;, score=0.818 total time=   2.4s\n",
      "[CV 1/3] END max_depth=30, max_features=sqrt, n_estimators=50;, score=0.825 total time=   4.1s\n",
      "[CV 2/3] END max_depth=30, max_features=sqrt, n_estimators=50;, score=0.831 total time=   4.3s\n",
      "[CV 3/3] END max_depth=30, max_features=sqrt, n_estimators=50;, score=0.827 total time=   4.3s\n",
      "[CV 1/3] END max_depth=40, max_features=auto, n_estimators=50;, score=0.828 total time=   6.1s\n",
      "[CV 2/3] END max_depth=40, max_features=auto, n_estimators=50;, score=0.839 total time=   6.1s\n",
      "[CV 3/3] END max_depth=40, max_features=auto, n_estimators=50;, score=0.836 total time=   5.9s\n",
      "[CV 1/3] END max_depth=100, max_features=sqrt, n_estimators=50;, score=0.832 total time=  12.3s\n",
      "[CV 2/3] END max_depth=100, max_features=sqrt, n_estimators=50;, score=0.843 total time=  12.4s\n",
      "[CV 3/3] END max_depth=100, max_features=sqrt, n_estimators=50;, score=0.835 total time=  12.4s\n",
      "[CV 1/3] END max_depth=40, max_features=sqrt, n_estimators=30;, score=0.820 total time=   3.8s\n",
      "[CV 2/3] END max_depth=40, max_features=sqrt, n_estimators=30;, score=0.824 total time=   3.7s\n",
      "[CV 3/3] END max_depth=40, max_features=sqrt, n_estimators=30;, score=0.820 total time=   3.7s\n",
      "[CV 1/3] END max_depth=30, max_features=auto, n_estimators=50;, score=0.831 total time=   4.1s\n",
      "[CV 2/3] END max_depth=30, max_features=auto, n_estimators=50;, score=0.830 total time=   4.0s\n",
      "[CV 3/3] END max_depth=30, max_features=auto, n_estimators=50;, score=0.829 total time=   4.2s\n",
      "[CV 1/3] END max_depth=10, max_features=auto, n_estimators=50;, score=0.803 total time=   1.1s\n",
      "[CV 2/3] END max_depth=10, max_features=auto, n_estimators=50;, score=0.817 total time=   1.2s\n",
      "[CV 3/3] END max_depth=10, max_features=auto, n_estimators=50;, score=0.808 total time=   1.1s\n",
      "[CV 1/3] END max_depth=10, max_features=sqrt, n_estimators=200;, score=0.824 total time=   4.3s\n",
      "[CV 2/3] END max_depth=10, max_features=sqrt, n_estimators=200;, score=0.833 total time=   4.2s\n",
      "[CV 3/3] END max_depth=10, max_features=sqrt, n_estimators=200;, score=0.825 total time=   4.2s\n",
      "[CV 1/3] END max_depth=70, max_features=auto, n_estimators=200;, score=0.842 total time=  41.5s\n",
      "[CV 2/3] END max_depth=70, max_features=auto, n_estimators=200;, score=0.854 total time=  41.4s\n",
      "[CV 3/3] END max_depth=70, max_features=auto, n_estimators=200;, score=0.847 total time=  41.2s\n",
      "[CV 1/3] END max_depth=100, max_features=auto, n_estimators=10;, score=0.785 total time=   2.5s\n",
      "[CV 2/3] END max_depth=100, max_features=auto, n_estimators=10;, score=0.779 total time=   2.6s\n",
      "[CV 3/3] END max_depth=100, max_features=auto, n_estimators=10;, score=0.781 total time=   2.6s\n",
      "[CV 1/3] END max_depth=5, max_features=sqrt, n_estimators=100;, score=0.803 total time=   1.4s\n",
      "[CV 2/3] END max_depth=5, max_features=sqrt, n_estimators=100;, score=0.817 total time=   1.4s\n",
      "[CV 3/3] END max_depth=5, max_features=sqrt, n_estimators=100;, score=0.809 total time=   1.4s\n",
      "[CV 1/3] END max_depth=10, max_features=sqrt, n_estimators=50;, score=0.800 total time=   1.1s\n",
      "[CV 2/3] END max_depth=10, max_features=sqrt, n_estimators=50;, score=0.816 total time=   1.1s\n",
      "[CV 3/3] END max_depth=10, max_features=sqrt, n_estimators=50;, score=0.808 total time=   1.1s\n",
      "[CV 1/3] END max_depth=40, max_features=sqrt, n_estimators=200;, score=0.844 total time=  24.2s\n",
      "[CV 2/3] END max_depth=40, max_features=sqrt, n_estimators=200;, score=0.851 total time=  24.1s\n",
      "[CV 3/3] END max_depth=40, max_features=sqrt, n_estimators=200;, score=0.845 total time=  24.1s\n",
      "[CV 1/3] END max_depth=30, max_features=sqrt, n_estimators=30;, score=0.820 total time=   2.5s\n",
      "[CV 2/3] END max_depth=30, max_features=sqrt, n_estimators=30;, score=0.823 total time=   2.5s\n",
      "[CV 3/3] END max_depth=30, max_features=sqrt, n_estimators=30;, score=0.820 total time=   2.5s\n",
      "[CV 1/3] END max_depth=70, max_features=auto, n_estimators=10;, score=0.775 total time=   2.2s\n",
      "[CV 2/3] END max_depth=70, max_features=auto, n_estimators=10;, score=0.789 total time=   2.2s\n",
      "[CV 3/3] END max_depth=70, max_features=auto, n_estimators=10;, score=0.792 total time=   2.2s\n",
      "[CV 1/3] END max_depth=10, max_features=sqrt, n_estimators=30;, score=0.796 total time=   0.7s\n",
      "[CV 2/3] END max_depth=10, max_features=sqrt, n_estimators=30;, score=0.800 total time=   0.7s\n",
      "[CV 3/3] END max_depth=10, max_features=sqrt, n_estimators=30;, score=0.790 total time=   0.7s\n",
      "[CV 1/3] END max_depth=70, max_features=auto, n_estimators=50;, score=0.830 total time=  10.2s\n",
      "[CV 2/3] END max_depth=70, max_features=auto, n_estimators=50;, score=0.844 total time=  10.8s\n",
      "[CV 3/3] END max_depth=70, max_features=auto, n_estimators=50;, score=0.838 total time=  10.3s\n",
      "{'n_estimators': 200, 'max_features': 'auto', 'max_depth': 70}\n",
      "RandomForestClassifier(max_depth=70, n_estimators=200)\n",
      "Test accuracy Score Best Random Forest Randomised Search: 86.98\n"
     ]
    }
   ],
   "source": [
    "RandomizedSearch_rf.fit(tfidf_training_features, ds_train['label']) #fit the model of randomized grid search\n",
    "print(RandomizedSearch_rf.best_params_) #best params\n",
    "print(RandomizedSearch_rf.best_estimator_)\n",
    "y_pred_tfidf_grid_rf = RandomizedSearch_rf.predict(tfidf_test_features) #predict with best params\n",
    "acc = accuracy_score(y_pred_tfidf_grid_svm, ds_test['label']) #measure accuracy with y label\n",
    "print('Test accuracy Score Best Random Forest Randomised Search:', acc*100)"
   ]
  },
  {
   "cell_type": "markdown",
   "metadata": {
    "id": "LjRNbiv0xo4j"
   },
   "source": [
    "# Conclusion\n",
    "\n",
    "TFIDF + Statistical models are quite a good combination for sentimental analysis as we can see the Test accuracy reaches as high as 87.92% which is quite good.\n",
    "\n",
    "Logistic Regression proved to be the best model but SVM and random forest also has pretty high accuracy of 87% on test data."
   ]
  },
  {
   "cell_type": "code",
   "execution_count": null,
   "metadata": {
    "id": "LsFNJbOLyKKC"
   },
   "outputs": [],
   "source": []
  }
 ],
 "metadata": {
  "accelerator": "GPU",
  "colab": {
   "collapsed_sections": [],
   "name": "Final IMDB_TFIDF_Naman",
   "provenance": []
  },
  "kernelspec": {
   "display_name": "Python 3",
   "language": "python",
   "name": "python3"
  },
  "language_info": {
   "codemirror_mode": {
    "name": "ipython",
    "version": 3
   },
   "file_extension": ".py",
   "mimetype": "text/x-python",
   "name": "python",
   "nbconvert_exporter": "python",
   "pygments_lexer": "ipython3",
   "version": "3.7.8"
  },
  "widgets": {
   "application/vnd.jupyter.widget-state+json": {
    "0318bc68dce24ce082df4941a97bb5e3": {
     "model_module": "@jupyter-widgets/base",
     "model_module_version": "1.2.0",
     "model_name": "LayoutModel",
     "state": {
      "_model_module": "@jupyter-widgets/base",
      "_model_module_version": "1.2.0",
      "_model_name": "LayoutModel",
      "_view_count": null,
      "_view_module": "@jupyter-widgets/base",
      "_view_module_version": "1.2.0",
      "_view_name": "LayoutView",
      "align_content": null,
      "align_items": null,
      "align_self": null,
      "border": null,
      "bottom": null,
      "display": null,
      "flex": null,
      "flex_flow": null,
      "grid_area": null,
      "grid_auto_columns": null,
      "grid_auto_flow": null,
      "grid_auto_rows": null,
      "grid_column": null,
      "grid_gap": null,
      "grid_row": null,
      "grid_template_areas": null,
      "grid_template_columns": null,
      "grid_template_rows": null,
      "height": null,
      "justify_content": null,
      "justify_items": null,
      "left": null,
      "margin": null,
      "max_height": null,
      "max_width": null,
      "min_height": null,
      "min_width": null,
      "object_fit": null,
      "object_position": null,
      "order": null,
      "overflow": null,
      "overflow_x": null,
      "overflow_y": null,
      "padding": null,
      "right": null,
      "top": null,
      "visibility": null,
      "width": null
     }
    },
    "0b78b81dbe0248c789f8a8b483ef280c": {
     "model_module": "@jupyter-widgets/controls",
     "model_module_version": "1.5.0",
     "model_name": "FloatProgressModel",
     "state": {
      "_dom_classes": [],
      "_model_module": "@jupyter-widgets/controls",
      "_model_module_version": "1.5.0",
      "_model_name": "FloatProgressModel",
      "_view_count": null,
      "_view_module": "@jupyter-widgets/controls",
      "_view_module_version": "1.5.0",
      "_view_name": "ProgressView",
      "bar_style": "danger",
      "description": "",
      "description_tooltip": null,
      "layout": "IPY_MODEL_189f3c9273cd4d1dba3902c9e4af1e6d",
      "max": 50000,
      "min": 0,
      "orientation": "horizontal",
      "style": "IPY_MODEL_492dc6844c6c429482a68df499c3e8aa",
      "value": 49999
     }
    },
    "0d2c094570ba470a801e84322c89bafe": {
     "model_module": "@jupyter-widgets/base",
     "model_module_version": "1.2.0",
     "model_name": "LayoutModel",
     "state": {
      "_model_module": "@jupyter-widgets/base",
      "_model_module_version": "1.2.0",
      "_model_name": "LayoutModel",
      "_view_count": null,
      "_view_module": "@jupyter-widgets/base",
      "_view_module_version": "1.2.0",
      "_view_name": "LayoutView",
      "align_content": null,
      "align_items": null,
      "align_self": null,
      "border": null,
      "bottom": null,
      "display": null,
      "flex": null,
      "flex_flow": null,
      "grid_area": null,
      "grid_auto_columns": null,
      "grid_auto_flow": null,
      "grid_auto_rows": null,
      "grid_column": null,
      "grid_gap": null,
      "grid_row": null,
      "grid_template_areas": null,
      "grid_template_columns": null,
      "grid_template_rows": null,
      "height": null,
      "justify_content": null,
      "justify_items": null,
      "left": null,
      "margin": null,
      "max_height": null,
      "max_width": null,
      "min_height": null,
      "min_width": null,
      "object_fit": null,
      "object_position": null,
      "order": null,
      "overflow": null,
      "overflow_x": null,
      "overflow_y": null,
      "padding": null,
      "right": null,
      "top": null,
      "visibility": null,
      "width": null
     }
    },
    "0d6572a2cc8b4d5b902102ad0f381678": {
     "model_module": "@jupyter-widgets/controls",
     "model_module_version": "1.5.0",
     "model_name": "DescriptionStyleModel",
     "state": {
      "_model_module": "@jupyter-widgets/controls",
      "_model_module_version": "1.5.0",
      "_model_name": "DescriptionStyleModel",
      "_view_count": null,
      "_view_module": "@jupyter-widgets/base",
      "_view_module_version": "1.2.0",
      "_view_name": "StyleView",
      "description_width": ""
     }
    },
    "0f9b08b182f7430280d5cda294d06ac4": {
     "model_module": "@jupyter-widgets/controls",
     "model_module_version": "1.5.0",
     "model_name": "HBoxModel",
     "state": {
      "_dom_classes": [],
      "_model_module": "@jupyter-widgets/controls",
      "_model_module_version": "1.5.0",
      "_model_name": "HBoxModel",
      "_view_count": null,
      "_view_module": "@jupyter-widgets/controls",
      "_view_module_version": "1.5.0",
      "_view_name": "HBoxView",
      "box_style": "",
      "children": [
       "IPY_MODEL_9ca5b823482c45fa8eadbd18cbbcc8e9",
       "IPY_MODEL_6210b2531f3447e7ae707f870c6eec38",
       "IPY_MODEL_8d84468a772142e7971843dd2dd08614"
      ],
      "layout": "IPY_MODEL_1e6c4885a6e9409ea47a9538d9ac5cf9"
     }
    },
    "11338bb7f6f9455ba1a5e7c188f52188": {
     "model_module": "@jupyter-widgets/controls",
     "model_module_version": "1.5.0",
     "model_name": "FloatProgressModel",
     "state": {
      "_dom_classes": [],
      "_model_module": "@jupyter-widgets/controls",
      "_model_module_version": "1.5.0",
      "_model_name": "FloatProgressModel",
      "_view_count": null,
      "_view_module": "@jupyter-widgets/controls",
      "_view_module_version": "1.5.0",
      "_view_name": "ProgressView",
      "bar_style": "info",
      "description": "",
      "description_tooltip": null,
      "layout": "IPY_MODEL_96f30dfae32443a49be13869c4955572",
      "max": 1,
      "min": 0,
      "orientation": "horizontal",
      "style": "IPY_MODEL_c1b922ec0ee74d84b22d553bca3d2782",
      "value": 1
     }
    },
    "12149cdddde04ba6b81e5d10f3b58e1f": {
     "model_module": "@jupyter-widgets/controls",
     "model_module_version": "1.5.0",
     "model_name": "HTMLModel",
     "state": {
      "_dom_classes": [],
      "_model_module": "@jupyter-widgets/controls",
      "_model_module_version": "1.5.0",
      "_model_name": "HTMLModel",
      "_view_count": null,
      "_view_module": "@jupyter-widgets/controls",
      "_view_module_version": "1.5.0",
      "_view_name": "HTMLView",
      "description": "",
      "description_tooltip": null,
      "layout": "IPY_MODEL_bc51a582c76a4d1db05f882843176354",
      "placeholder": "​",
      "style": "IPY_MODEL_0d6572a2cc8b4d5b902102ad0f381678",
      "value": ""
     }
    },
    "15094baca5764de4b9df9c782d7a69e1": {
     "model_module": "@jupyter-widgets/base",
     "model_module_version": "1.2.0",
     "model_name": "LayoutModel",
     "state": {
      "_model_module": "@jupyter-widgets/base",
      "_model_module_version": "1.2.0",
      "_model_name": "LayoutModel",
      "_view_count": null,
      "_view_module": "@jupyter-widgets/base",
      "_view_module_version": "1.2.0",
      "_view_name": "LayoutView",
      "align_content": null,
      "align_items": null,
      "align_self": null,
      "border": null,
      "bottom": null,
      "display": null,
      "flex": null,
      "flex_flow": null,
      "grid_area": null,
      "grid_auto_columns": null,
      "grid_auto_flow": null,
      "grid_auto_rows": null,
      "grid_column": null,
      "grid_gap": null,
      "grid_row": null,
      "grid_template_areas": null,
      "grid_template_columns": null,
      "grid_template_rows": null,
      "height": null,
      "justify_content": null,
      "justify_items": null,
      "left": null,
      "margin": null,
      "max_height": null,
      "max_width": null,
      "min_height": null,
      "min_width": null,
      "object_fit": null,
      "object_position": null,
      "order": null,
      "overflow": null,
      "overflow_x": null,
      "overflow_y": null,
      "padding": null,
      "right": null,
      "top": null,
      "visibility": null,
      "width": "20px"
     }
    },
    "165f4618597f4121919ce044eeacaf1b": {
     "model_module": "@jupyter-widgets/base",
     "model_module_version": "1.2.0",
     "model_name": "LayoutModel",
     "state": {
      "_model_module": "@jupyter-widgets/base",
      "_model_module_version": "1.2.0",
      "_model_name": "LayoutModel",
      "_view_count": null,
      "_view_module": "@jupyter-widgets/base",
      "_view_module_version": "1.2.0",
      "_view_name": "LayoutView",
      "align_content": null,
      "align_items": null,
      "align_self": null,
      "border": null,
      "bottom": null,
      "display": null,
      "flex": null,
      "flex_flow": null,
      "grid_area": null,
      "grid_auto_columns": null,
      "grid_auto_flow": null,
      "grid_auto_rows": null,
      "grid_column": null,
      "grid_gap": null,
      "grid_row": null,
      "grid_template_areas": null,
      "grid_template_columns": null,
      "grid_template_rows": null,
      "height": null,
      "justify_content": null,
      "justify_items": null,
      "left": null,
      "margin": null,
      "max_height": null,
      "max_width": null,
      "min_height": null,
      "min_width": null,
      "object_fit": null,
      "object_position": null,
      "order": null,
      "overflow": null,
      "overflow_x": null,
      "overflow_y": null,
      "padding": null,
      "right": null,
      "top": null,
      "visibility": null,
      "width": null
     }
    },
    "17111927f9f4484397fe90e451b6f007": {
     "model_module": "@jupyter-widgets/controls",
     "model_module_version": "1.5.0",
     "model_name": "DescriptionStyleModel",
     "state": {
      "_model_module": "@jupyter-widgets/controls",
      "_model_module_version": "1.5.0",
      "_model_name": "DescriptionStyleModel",
      "_view_count": null,
      "_view_module": "@jupyter-widgets/base",
      "_view_module_version": "1.2.0",
      "_view_name": "StyleView",
      "description_width": ""
     }
    },
    "1769e50a36ab498b858acf802e0033de": {
     "model_module": "@jupyter-widgets/controls",
     "model_module_version": "1.5.0",
     "model_name": "DescriptionStyleModel",
     "state": {
      "_model_module": "@jupyter-widgets/controls",
      "_model_module_version": "1.5.0",
      "_model_name": "DescriptionStyleModel",
      "_view_count": null,
      "_view_module": "@jupyter-widgets/base",
      "_view_module_version": "1.2.0",
      "_view_name": "StyleView",
      "description_width": ""
     }
    },
    "189f3c9273cd4d1dba3902c9e4af1e6d": {
     "model_module": "@jupyter-widgets/base",
     "model_module_version": "1.2.0",
     "model_name": "LayoutModel",
     "state": {
      "_model_module": "@jupyter-widgets/base",
      "_model_module_version": "1.2.0",
      "_model_name": "LayoutModel",
      "_view_count": null,
      "_view_module": "@jupyter-widgets/base",
      "_view_module_version": "1.2.0",
      "_view_name": "LayoutView",
      "align_content": null,
      "align_items": null,
      "align_self": null,
      "border": null,
      "bottom": null,
      "display": null,
      "flex": null,
      "flex_flow": null,
      "grid_area": null,
      "grid_auto_columns": null,
      "grid_auto_flow": null,
      "grid_auto_rows": null,
      "grid_column": null,
      "grid_gap": null,
      "grid_row": null,
      "grid_template_areas": null,
      "grid_template_columns": null,
      "grid_template_rows": null,
      "height": null,
      "justify_content": null,
      "justify_items": null,
      "left": null,
      "margin": null,
      "max_height": null,
      "max_width": null,
      "min_height": null,
      "min_width": null,
      "object_fit": null,
      "object_position": null,
      "order": null,
      "overflow": null,
      "overflow_x": null,
      "overflow_y": null,
      "padding": null,
      "right": null,
      "top": null,
      "visibility": null,
      "width": null
     }
    },
    "1e6c4885a6e9409ea47a9538d9ac5cf9": {
     "model_module": "@jupyter-widgets/base",
     "model_module_version": "1.2.0",
     "model_name": "LayoutModel",
     "state": {
      "_model_module": "@jupyter-widgets/base",
      "_model_module_version": "1.2.0",
      "_model_name": "LayoutModel",
      "_view_count": null,
      "_view_module": "@jupyter-widgets/base",
      "_view_module_version": "1.2.0",
      "_view_name": "LayoutView",
      "align_content": null,
      "align_items": null,
      "align_self": null,
      "border": null,
      "bottom": null,
      "display": null,
      "flex": null,
      "flex_flow": null,
      "grid_area": null,
      "grid_auto_columns": null,
      "grid_auto_flow": null,
      "grid_auto_rows": null,
      "grid_column": null,
      "grid_gap": null,
      "grid_row": null,
      "grid_template_areas": null,
      "grid_template_columns": null,
      "grid_template_rows": null,
      "height": null,
      "justify_content": null,
      "justify_items": null,
      "left": null,
      "margin": null,
      "max_height": null,
      "max_width": null,
      "min_height": null,
      "min_width": null,
      "object_fit": null,
      "object_position": null,
      "order": null,
      "overflow": null,
      "overflow_x": null,
      "overflow_y": null,
      "padding": null,
      "right": null,
      "top": null,
      "visibility": null,
      "width": null
     }
    },
    "204b25455589409eafbfff84fb6733bb": {
     "model_module": "@jupyter-widgets/controls",
     "model_module_version": "1.5.0",
     "model_name": "HTMLModel",
     "state": {
      "_dom_classes": [],
      "_model_module": "@jupyter-widgets/controls",
      "_model_module_version": "1.5.0",
      "_model_name": "HTMLModel",
      "_view_count": null,
      "_view_module": "@jupyter-widgets/controls",
      "_view_module_version": "1.5.0",
      "_view_name": "HTMLView",
      "description": "",
      "description_tooltip": null,
      "layout": "IPY_MODEL_54fb0d93f65f46d18e08837c4fbd1578",
      "placeholder": "​",
      "style": "IPY_MODEL_c9efafc51de24575ac2cbaf93b5d3f7a",
      "value": " 24999/25000 [00:00&lt;00:00, 46263.87 examples/s]"
     }
    },
    "22a606fc28324439bba8ce9cfe42b1c6": {
     "model_module": "@jupyter-widgets/controls",
     "model_module_version": "1.5.0",
     "model_name": "HTMLModel",
     "state": {
      "_dom_classes": [],
      "_model_module": "@jupyter-widgets/controls",
      "_model_module_version": "1.5.0",
      "_model_name": "HTMLModel",
      "_view_count": null,
      "_view_module": "@jupyter-widgets/controls",
      "_view_module_version": "1.5.0",
      "_view_name": "HTMLView",
      "description": "",
      "description_tooltip": null,
      "layout": "IPY_MODEL_440eb8d1ba0440b9abeee16f90c639c1",
      "placeholder": "​",
      "style": "IPY_MODEL_1769e50a36ab498b858acf802e0033de",
      "value": ""
     }
    },
    "238a5e5dfb484ee8be1bf13813176eba": {
     "model_module": "@jupyter-widgets/base",
     "model_module_version": "1.2.0",
     "model_name": "LayoutModel",
     "state": {
      "_model_module": "@jupyter-widgets/base",
      "_model_module_version": "1.2.0",
      "_model_name": "LayoutModel",
      "_view_count": null,
      "_view_module": "@jupyter-widgets/base",
      "_view_module_version": "1.2.0",
      "_view_name": "LayoutView",
      "align_content": null,
      "align_items": null,
      "align_self": null,
      "border": null,
      "bottom": null,
      "display": null,
      "flex": null,
      "flex_flow": null,
      "grid_area": null,
      "grid_auto_columns": null,
      "grid_auto_flow": null,
      "grid_auto_rows": null,
      "grid_column": null,
      "grid_gap": null,
      "grid_row": null,
      "grid_template_areas": null,
      "grid_template_columns": null,
      "grid_template_rows": null,
      "height": null,
      "justify_content": null,
      "justify_items": null,
      "left": null,
      "margin": null,
      "max_height": null,
      "max_width": null,
      "min_height": null,
      "min_width": null,
      "object_fit": null,
      "object_position": null,
      "order": null,
      "overflow": null,
      "overflow_x": null,
      "overflow_y": null,
      "padding": null,
      "right": null,
      "top": null,
      "visibility": null,
      "width": null
     }
    },
    "31c4bf9a67094ff190a334fd208d3544": {
     "model_module": "@jupyter-widgets/base",
     "model_module_version": "1.2.0",
     "model_name": "LayoutModel",
     "state": {
      "_model_module": "@jupyter-widgets/base",
      "_model_module_version": "1.2.0",
      "_model_name": "LayoutModel",
      "_view_count": null,
      "_view_module": "@jupyter-widgets/base",
      "_view_module_version": "1.2.0",
      "_view_name": "LayoutView",
      "align_content": null,
      "align_items": null,
      "align_self": null,
      "border": null,
      "bottom": null,
      "display": null,
      "flex": null,
      "flex_flow": null,
      "grid_area": null,
      "grid_auto_columns": null,
      "grid_auto_flow": null,
      "grid_auto_rows": null,
      "grid_column": null,
      "grid_gap": null,
      "grid_row": null,
      "grid_template_areas": null,
      "grid_template_columns": null,
      "grid_template_rows": null,
      "height": null,
      "justify_content": null,
      "justify_items": null,
      "left": null,
      "margin": null,
      "max_height": null,
      "max_width": null,
      "min_height": null,
      "min_width": null,
      "object_fit": null,
      "object_position": null,
      "order": null,
      "overflow": null,
      "overflow_x": null,
      "overflow_y": null,
      "padding": null,
      "right": null,
      "top": null,
      "visibility": null,
      "width": null
     }
    },
    "35623decd29342b88746a2b8d01357c3": {
     "model_module": "@jupyter-widgets/controls",
     "model_module_version": "1.5.0",
     "model_name": "ProgressStyleModel",
     "state": {
      "_model_module": "@jupyter-widgets/controls",
      "_model_module_version": "1.5.0",
      "_model_name": "ProgressStyleModel",
      "_view_count": null,
      "_view_module": "@jupyter-widgets/base",
      "_view_module_version": "1.2.0",
      "_view_name": "StyleView",
      "bar_color": null,
      "description_width": ""
     }
    },
    "3625ce4643634da4960f408ad679eeb6": {
     "model_module": "@jupyter-widgets/controls",
     "model_module_version": "1.5.0",
     "model_name": "HBoxModel",
     "state": {
      "_dom_classes": [],
      "_model_module": "@jupyter-widgets/controls",
      "_model_module_version": "1.5.0",
      "_model_name": "HBoxModel",
      "_view_count": null,
      "_view_module": "@jupyter-widgets/controls",
      "_view_module_version": "1.5.0",
      "_view_name": "HBoxView",
      "box_style": "",
      "children": [
       "IPY_MODEL_22a606fc28324439bba8ce9cfe42b1c6",
       "IPY_MODEL_da2b4748c580427f83b8122630db4e34",
       "IPY_MODEL_7d1759846e204dd78e23c8b237fd8397"
      ],
      "layout": "IPY_MODEL_68052818a3854121a4a2f60db3fcd97c"
     }
    },
    "36fb25722304476a9d5783669e476c9d": {
     "model_module": "@jupyter-widgets/base",
     "model_module_version": "1.2.0",
     "model_name": "LayoutModel",
     "state": {
      "_model_module": "@jupyter-widgets/base",
      "_model_module_version": "1.2.0",
      "_model_name": "LayoutModel",
      "_view_count": null,
      "_view_module": "@jupyter-widgets/base",
      "_view_module_version": "1.2.0",
      "_view_name": "LayoutView",
      "align_content": null,
      "align_items": null,
      "align_self": null,
      "border": null,
      "bottom": null,
      "display": null,
      "flex": null,
      "flex_flow": null,
      "grid_area": null,
      "grid_auto_columns": null,
      "grid_auto_flow": null,
      "grid_auto_rows": null,
      "grid_column": null,
      "grid_gap": null,
      "grid_row": null,
      "grid_template_areas": null,
      "grid_template_columns": null,
      "grid_template_rows": null,
      "height": null,
      "justify_content": null,
      "justify_items": null,
      "left": null,
      "margin": null,
      "max_height": null,
      "max_width": null,
      "min_height": null,
      "min_width": null,
      "object_fit": null,
      "object_position": null,
      "order": null,
      "overflow": null,
      "overflow_x": null,
      "overflow_y": null,
      "padding": null,
      "right": null,
      "top": null,
      "visibility": null,
      "width": null
     }
    },
    "440eb8d1ba0440b9abeee16f90c639c1": {
     "model_module": "@jupyter-widgets/base",
     "model_module_version": "1.2.0",
     "model_name": "LayoutModel",
     "state": {
      "_model_module": "@jupyter-widgets/base",
      "_model_module_version": "1.2.0",
      "_model_name": "LayoutModel",
      "_view_count": null,
      "_view_module": "@jupyter-widgets/base",
      "_view_module_version": "1.2.0",
      "_view_name": "LayoutView",
      "align_content": null,
      "align_items": null,
      "align_self": null,
      "border": null,
      "bottom": null,
      "display": null,
      "flex": null,
      "flex_flow": null,
      "grid_area": null,
      "grid_auto_columns": null,
      "grid_auto_flow": null,
      "grid_auto_rows": null,
      "grid_column": null,
      "grid_gap": null,
      "grid_row": null,
      "grid_template_areas": null,
      "grid_template_columns": null,
      "grid_template_rows": null,
      "height": null,
      "justify_content": null,
      "justify_items": null,
      "left": null,
      "margin": null,
      "max_height": null,
      "max_width": null,
      "min_height": null,
      "min_width": null,
      "object_fit": null,
      "object_position": null,
      "order": null,
      "overflow": null,
      "overflow_x": null,
      "overflow_y": null,
      "padding": null,
      "right": null,
      "top": null,
      "visibility": null,
      "width": null
     }
    },
    "447066a2142d4393b4a71815eec963a0": {
     "model_module": "@jupyter-widgets/controls",
     "model_module_version": "1.5.0",
     "model_name": "FloatProgressModel",
     "state": {
      "_dom_classes": [],
      "_model_module": "@jupyter-widgets/controls",
      "_model_module_version": "1.5.0",
      "_model_name": "FloatProgressModel",
      "_view_count": null,
      "_view_module": "@jupyter-widgets/controls",
      "_view_module_version": "1.5.0",
      "_view_name": "ProgressView",
      "bar_style": "danger",
      "description": "",
      "description_tooltip": null,
      "layout": "IPY_MODEL_f8c50efb49974065bdf05d8a0f41e58d",
      "max": 25000,
      "min": 0,
      "orientation": "horizontal",
      "style": "IPY_MODEL_c9a91f7354e54563a662f817f0fc1e5b",
      "value": 24999
     }
    },
    "45b02342855a4e8a92bff5c5665b5bce": {
     "model_module": "@jupyter-widgets/controls",
     "model_module_version": "1.5.0",
     "model_name": "DescriptionStyleModel",
     "state": {
      "_model_module": "@jupyter-widgets/controls",
      "_model_module_version": "1.5.0",
      "_model_name": "DescriptionStyleModel",
      "_view_count": null,
      "_view_module": "@jupyter-widgets/base",
      "_view_module_version": "1.2.0",
      "_view_name": "StyleView",
      "description_width": ""
     }
    },
    "49064573e13f4c2481d15b6d1f608859": {
     "model_module": "@jupyter-widgets/controls",
     "model_module_version": "1.5.0",
     "model_name": "DescriptionStyleModel",
     "state": {
      "_model_module": "@jupyter-widgets/controls",
      "_model_module_version": "1.5.0",
      "_model_name": "DescriptionStyleModel",
      "_view_count": null,
      "_view_module": "@jupyter-widgets/base",
      "_view_module_version": "1.2.0",
      "_view_name": "StyleView",
      "description_width": ""
     }
    },
    "492dc6844c6c429482a68df499c3e8aa": {
     "model_module": "@jupyter-widgets/controls",
     "model_module_version": "1.5.0",
     "model_name": "ProgressStyleModel",
     "state": {
      "_model_module": "@jupyter-widgets/controls",
      "_model_module_version": "1.5.0",
      "_model_name": "ProgressStyleModel",
      "_view_count": null,
      "_view_module": "@jupyter-widgets/base",
      "_view_module_version": "1.2.0",
      "_view_name": "StyleView",
      "bar_color": null,
      "description_width": ""
     }
    },
    "49dd6cd4ca3c432b9ab9cb71c6bf3004": {
     "model_module": "@jupyter-widgets/base",
     "model_module_version": "1.2.0",
     "model_name": "LayoutModel",
     "state": {
      "_model_module": "@jupyter-widgets/base",
      "_model_module_version": "1.2.0",
      "_model_name": "LayoutModel",
      "_view_count": null,
      "_view_module": "@jupyter-widgets/base",
      "_view_module_version": "1.2.0",
      "_view_name": "LayoutView",
      "align_content": null,
      "align_items": null,
      "align_self": null,
      "border": null,
      "bottom": null,
      "display": null,
      "flex": null,
      "flex_flow": null,
      "grid_area": null,
      "grid_auto_columns": null,
      "grid_auto_flow": null,
      "grid_auto_rows": null,
      "grid_column": null,
      "grid_gap": null,
      "grid_row": null,
      "grid_template_areas": null,
      "grid_template_columns": null,
      "grid_template_rows": null,
      "height": null,
      "justify_content": null,
      "justify_items": null,
      "left": null,
      "margin": null,
      "max_height": null,
      "max_width": null,
      "min_height": null,
      "min_width": null,
      "object_fit": null,
      "object_position": null,
      "order": null,
      "overflow": null,
      "overflow_x": null,
      "overflow_y": null,
      "padding": null,
      "right": null,
      "top": null,
      "visibility": null,
      "width": "20px"
     }
    },
    "4f9c5712d45a4184bc8fa2eec67cc314": {
     "model_module": "@jupyter-widgets/base",
     "model_module_version": "1.2.0",
     "model_name": "LayoutModel",
     "state": {
      "_model_module": "@jupyter-widgets/base",
      "_model_module_version": "1.2.0",
      "_model_name": "LayoutModel",
      "_view_count": null,
      "_view_module": "@jupyter-widgets/base",
      "_view_module_version": "1.2.0",
      "_view_name": "LayoutView",
      "align_content": null,
      "align_items": null,
      "align_self": null,
      "border": null,
      "bottom": null,
      "display": null,
      "flex": null,
      "flex_flow": null,
      "grid_area": null,
      "grid_auto_columns": null,
      "grid_auto_flow": null,
      "grid_auto_rows": null,
      "grid_column": null,
      "grid_gap": null,
      "grid_row": null,
      "grid_template_areas": null,
      "grid_template_columns": null,
      "grid_template_rows": null,
      "height": null,
      "justify_content": null,
      "justify_items": null,
      "left": null,
      "margin": null,
      "max_height": null,
      "max_width": null,
      "min_height": null,
      "min_width": null,
      "object_fit": null,
      "object_position": null,
      "order": null,
      "overflow": null,
      "overflow_x": null,
      "overflow_y": null,
      "padding": null,
      "right": null,
      "top": null,
      "visibility": null,
      "width": null
     }
    },
    "50554eb674274a6489bc5b7058fb369e": {
     "model_module": "@jupyter-widgets/controls",
     "model_module_version": "1.5.0",
     "model_name": "DescriptionStyleModel",
     "state": {
      "_model_module": "@jupyter-widgets/controls",
      "_model_module_version": "1.5.0",
      "_model_name": "DescriptionStyleModel",
      "_view_count": null,
      "_view_module": "@jupyter-widgets/base",
      "_view_module_version": "1.2.0",
      "_view_name": "StyleView",
      "description_width": ""
     }
    },
    "52db14b0600d450991aa0dda05544d60": {
     "model_module": "@jupyter-widgets/controls",
     "model_module_version": "1.5.0",
     "model_name": "HTMLModel",
     "state": {
      "_dom_classes": [],
      "_model_module": "@jupyter-widgets/controls",
      "_model_module_version": "1.5.0",
      "_model_name": "HTMLModel",
      "_view_count": null,
      "_view_module": "@jupyter-widgets/controls",
      "_view_module_version": "1.5.0",
      "_view_name": "HTMLView",
      "description": "",
      "description_tooltip": null,
      "layout": "IPY_MODEL_4f9c5712d45a4184bc8fa2eec67cc314",
      "placeholder": "​",
      "style": "IPY_MODEL_49064573e13f4c2481d15b6d1f608859",
      "value": ""
     }
    },
    "535cebf181a7450db1ba2bc1c8e0ad77": {
     "model_module": "@jupyter-widgets/controls",
     "model_module_version": "1.5.0",
     "model_name": "HTMLModel",
     "state": {
      "_dom_classes": [],
      "_model_module": "@jupyter-widgets/controls",
      "_model_module_version": "1.5.0",
      "_model_name": "HTMLModel",
      "_view_count": null,
      "_view_module": "@jupyter-widgets/controls",
      "_view_module_version": "1.5.0",
      "_view_name": "HTMLView",
      "description": "",
      "description_tooltip": null,
      "layout": "IPY_MODEL_a5d12d4e91cc47439639a6f1eda04d68",
      "placeholder": "​",
      "style": "IPY_MODEL_62928ac758ea4ee3af9b7ab05d18e5d8",
      "value": " 1/1 [00:01&lt;00:00,  1.96s/ url]"
     }
    },
    "5380e89b6c194489984ea4a4e2305361": {
     "model_module": "@jupyter-widgets/controls",
     "model_module_version": "1.5.0",
     "model_name": "DescriptionStyleModel",
     "state": {
      "_model_module": "@jupyter-widgets/controls",
      "_model_module_version": "1.5.0",
      "_model_name": "DescriptionStyleModel",
      "_view_count": null,
      "_view_module": "@jupyter-widgets/base",
      "_view_module_version": "1.2.0",
      "_view_name": "StyleView",
      "description_width": ""
     }
    },
    "54154cfec8d442cbbf55c18615b5b7da": {
     "model_module": "@jupyter-widgets/controls",
     "model_module_version": "1.5.0",
     "model_name": "HBoxModel",
     "state": {
      "_dom_classes": [],
      "_model_module": "@jupyter-widgets/controls",
      "_model_module_version": "1.5.0",
      "_model_name": "HBoxModel",
      "_view_count": null,
      "_view_module": "@jupyter-widgets/controls",
      "_view_module_version": "1.5.0",
      "_view_name": "HBoxView",
      "box_style": "",
      "children": [
       "IPY_MODEL_887133f261f648eb82d6d53ef44d87f4",
       "IPY_MODEL_447066a2142d4393b4a71815eec963a0",
       "IPY_MODEL_204b25455589409eafbfff84fb6733bb"
      ],
      "layout": "IPY_MODEL_36fb25722304476a9d5783669e476c9d"
     }
    },
    "54fb0d93f65f46d18e08837c4fbd1578": {
     "model_module": "@jupyter-widgets/base",
     "model_module_version": "1.2.0",
     "model_name": "LayoutModel",
     "state": {
      "_model_module": "@jupyter-widgets/base",
      "_model_module_version": "1.2.0",
      "_model_name": "LayoutModel",
      "_view_count": null,
      "_view_module": "@jupyter-widgets/base",
      "_view_module_version": "1.2.0",
      "_view_name": "LayoutView",
      "align_content": null,
      "align_items": null,
      "align_self": null,
      "border": null,
      "bottom": null,
      "display": null,
      "flex": null,
      "flex_flow": null,
      "grid_area": null,
      "grid_auto_columns": null,
      "grid_auto_flow": null,
      "grid_auto_rows": null,
      "grid_column": null,
      "grid_gap": null,
      "grid_row": null,
      "grid_template_areas": null,
      "grid_template_columns": null,
      "grid_template_rows": null,
      "height": null,
      "justify_content": null,
      "justify_items": null,
      "left": null,
      "margin": null,
      "max_height": null,
      "max_width": null,
      "min_height": null,
      "min_width": null,
      "object_fit": null,
      "object_position": null,
      "order": null,
      "overflow": null,
      "overflow_x": null,
      "overflow_y": null,
      "padding": null,
      "right": null,
      "top": null,
      "visibility": null,
      "width": null
     }
    },
    "5595a70c20b14cd9a033709dc4cbe291": {
     "model_module": "@jupyter-widgets/controls",
     "model_module_version": "1.5.0",
     "model_name": "ProgressStyleModel",
     "state": {
      "_model_module": "@jupyter-widgets/controls",
      "_model_module_version": "1.5.0",
      "_model_name": "ProgressStyleModel",
      "_view_count": null,
      "_view_module": "@jupyter-widgets/base",
      "_view_module_version": "1.2.0",
      "_view_name": "StyleView",
      "bar_color": null,
      "description_width": ""
     }
    },
    "58f7490d247444568eb80c4640bfbcaf": {
     "model_module": "@jupyter-widgets/controls",
     "model_module_version": "1.5.0",
     "model_name": "DescriptionStyleModel",
     "state": {
      "_model_module": "@jupyter-widgets/controls",
      "_model_module_version": "1.5.0",
      "_model_name": "DescriptionStyleModel",
      "_view_count": null,
      "_view_module": "@jupyter-widgets/base",
      "_view_module_version": "1.2.0",
      "_view_name": "StyleView",
      "description_width": ""
     }
    },
    "5e8c8c17a9dc4186ac9ee72d08595d17": {
     "model_module": "@jupyter-widgets/base",
     "model_module_version": "1.2.0",
     "model_name": "LayoutModel",
     "state": {
      "_model_module": "@jupyter-widgets/base",
      "_model_module_version": "1.2.0",
      "_model_name": "LayoutModel",
      "_view_count": null,
      "_view_module": "@jupyter-widgets/base",
      "_view_module_version": "1.2.0",
      "_view_name": "LayoutView",
      "align_content": null,
      "align_items": null,
      "align_self": null,
      "border": null,
      "bottom": null,
      "display": null,
      "flex": null,
      "flex_flow": null,
      "grid_area": null,
      "grid_auto_columns": null,
      "grid_auto_flow": null,
      "grid_auto_rows": null,
      "grid_column": null,
      "grid_gap": null,
      "grid_row": null,
      "grid_template_areas": null,
      "grid_template_columns": null,
      "grid_template_rows": null,
      "height": null,
      "justify_content": null,
      "justify_items": null,
      "left": null,
      "margin": null,
      "max_height": null,
      "max_width": null,
      "min_height": null,
      "min_width": null,
      "object_fit": null,
      "object_position": null,
      "order": null,
      "overflow": null,
      "overflow_x": null,
      "overflow_y": null,
      "padding": null,
      "right": null,
      "top": null,
      "visibility": null,
      "width": null
     }
    },
    "6210b2531f3447e7ae707f870c6eec38": {
     "model_module": "@jupyter-widgets/controls",
     "model_module_version": "1.5.0",
     "model_name": "FloatProgressModel",
     "state": {
      "_dom_classes": [],
      "_model_module": "@jupyter-widgets/controls",
      "_model_module_version": "1.5.0",
      "_model_name": "FloatProgressModel",
      "_view_count": null,
      "_view_module": "@jupyter-widgets/controls",
      "_view_module_version": "1.5.0",
      "_view_name": "ProgressView",
      "bar_style": "success",
      "description": "",
      "description_tooltip": null,
      "layout": "IPY_MODEL_e33d9077d4ae46ceb0e39b33ad803554",
      "max": 1,
      "min": 0,
      "orientation": "horizontal",
      "style": "IPY_MODEL_5595a70c20b14cd9a033709dc4cbe291",
      "value": 1
     }
    },
    "62928ac758ea4ee3af9b7ab05d18e5d8": {
     "model_module": "@jupyter-widgets/controls",
     "model_module_version": "1.5.0",
     "model_name": "DescriptionStyleModel",
     "state": {
      "_model_module": "@jupyter-widgets/controls",
      "_model_module_version": "1.5.0",
      "_model_name": "DescriptionStyleModel",
      "_view_count": null,
      "_view_module": "@jupyter-widgets/base",
      "_view_module_version": "1.2.0",
      "_view_name": "StyleView",
      "description_width": ""
     }
    },
    "63ebced0cfd74667a4ea32620252425d": {
     "model_module": "@jupyter-widgets/controls",
     "model_module_version": "1.5.0",
     "model_name": "DescriptionStyleModel",
     "state": {
      "_model_module": "@jupyter-widgets/controls",
      "_model_module_version": "1.5.0",
      "_model_name": "DescriptionStyleModel",
      "_view_count": null,
      "_view_module": "@jupyter-widgets/base",
      "_view_module_version": "1.2.0",
      "_view_name": "StyleView",
      "description_width": ""
     }
    },
    "68052818a3854121a4a2f60db3fcd97c": {
     "model_module": "@jupyter-widgets/base",
     "model_module_version": "1.2.0",
     "model_name": "LayoutModel",
     "state": {
      "_model_module": "@jupyter-widgets/base",
      "_model_module_version": "1.2.0",
      "_model_name": "LayoutModel",
      "_view_count": null,
      "_view_module": "@jupyter-widgets/base",
      "_view_module_version": "1.2.0",
      "_view_name": "LayoutView",
      "align_content": null,
      "align_items": null,
      "align_self": null,
      "border": null,
      "bottom": null,
      "display": null,
      "flex": null,
      "flex_flow": null,
      "grid_area": null,
      "grid_auto_columns": null,
      "grid_auto_flow": null,
      "grid_auto_rows": null,
      "grid_column": null,
      "grid_gap": null,
      "grid_row": null,
      "grid_template_areas": null,
      "grid_template_columns": null,
      "grid_template_rows": null,
      "height": null,
      "justify_content": null,
      "justify_items": null,
      "left": null,
      "margin": null,
      "max_height": null,
      "max_width": null,
      "min_height": null,
      "min_width": null,
      "object_fit": null,
      "object_position": null,
      "order": null,
      "overflow": null,
      "overflow_x": null,
      "overflow_y": null,
      "padding": null,
      "right": null,
      "top": null,
      "visibility": null,
      "width": null
     }
    },
    "6a1104a989ff4d848cfc150c85913a1f": {
     "model_module": "@jupyter-widgets/base",
     "model_module_version": "1.2.0",
     "model_name": "LayoutModel",
     "state": {
      "_model_module": "@jupyter-widgets/base",
      "_model_module_version": "1.2.0",
      "_model_name": "LayoutModel",
      "_view_count": null,
      "_view_module": "@jupyter-widgets/base",
      "_view_module_version": "1.2.0",
      "_view_name": "LayoutView",
      "align_content": null,
      "align_items": null,
      "align_self": null,
      "border": null,
      "bottom": null,
      "display": null,
      "flex": null,
      "flex_flow": null,
      "grid_area": null,
      "grid_auto_columns": null,
      "grid_auto_flow": null,
      "grid_auto_rows": null,
      "grid_column": null,
      "grid_gap": null,
      "grid_row": null,
      "grid_template_areas": null,
      "grid_template_columns": null,
      "grid_template_rows": null,
      "height": null,
      "justify_content": null,
      "justify_items": null,
      "left": null,
      "margin": null,
      "max_height": null,
      "max_width": null,
      "min_height": null,
      "min_width": null,
      "object_fit": null,
      "object_position": null,
      "order": null,
      "overflow": null,
      "overflow_x": null,
      "overflow_y": null,
      "padding": null,
      "right": null,
      "top": null,
      "visibility": null,
      "width": null
     }
    },
    "6a2e5d742f6e4d31a29a170f09321eb9": {
     "model_module": "@jupyter-widgets/base",
     "model_module_version": "1.2.0",
     "model_name": "LayoutModel",
     "state": {
      "_model_module": "@jupyter-widgets/base",
      "_model_module_version": "1.2.0",
      "_model_name": "LayoutModel",
      "_view_count": null,
      "_view_module": "@jupyter-widgets/base",
      "_view_module_version": "1.2.0",
      "_view_name": "LayoutView",
      "align_content": null,
      "align_items": null,
      "align_self": null,
      "border": null,
      "bottom": null,
      "display": null,
      "flex": null,
      "flex_flow": null,
      "grid_area": null,
      "grid_auto_columns": null,
      "grid_auto_flow": null,
      "grid_auto_rows": null,
      "grid_column": null,
      "grid_gap": null,
      "grid_row": null,
      "grid_template_areas": null,
      "grid_template_columns": null,
      "grid_template_rows": null,
      "height": null,
      "justify_content": null,
      "justify_items": null,
      "left": null,
      "margin": null,
      "max_height": null,
      "max_width": null,
      "min_height": null,
      "min_width": null,
      "object_fit": null,
      "object_position": null,
      "order": null,
      "overflow": null,
      "overflow_x": null,
      "overflow_y": null,
      "padding": null,
      "right": null,
      "top": null,
      "visibility": null,
      "width": null
     }
    },
    "6c0b035096aa4be6bca62b8a4aafdcdd": {
     "model_module": "@jupyter-widgets/controls",
     "model_module_version": "1.5.0",
     "model_name": "HBoxModel",
     "state": {
      "_dom_classes": [],
      "_model_module": "@jupyter-widgets/controls",
      "_model_module_version": "1.5.0",
      "_model_name": "HBoxModel",
      "_view_count": null,
      "_view_module": "@jupyter-widgets/controls",
      "_view_module_version": "1.5.0",
      "_view_name": "HBoxView",
      "box_style": "",
      "children": [
       "IPY_MODEL_8d21e60e74f746ff8b2884e7ce5f3553",
       "IPY_MODEL_bfe98f3995804fdd86453c11b784166c",
       "IPY_MODEL_535cebf181a7450db1ba2bc1c8e0ad77"
      ],
      "layout": "IPY_MODEL_98bbad72e21b4951aa4d4bfb3602263d"
     }
    },
    "7426939818ea40fe9e93ac6170f9806c": {
     "model_module": "@jupyter-widgets/controls",
     "model_module_version": "1.5.0",
     "model_name": "ProgressStyleModel",
     "state": {
      "_model_module": "@jupyter-widgets/controls",
      "_model_module_version": "1.5.0",
      "_model_name": "ProgressStyleModel",
      "_view_count": null,
      "_view_module": "@jupyter-widgets/base",
      "_view_module_version": "1.2.0",
      "_view_name": "StyleView",
      "bar_color": null,
      "description_width": ""
     }
    },
    "7579a412c8e8477089c8412c0a4010ee": {
     "model_module": "@jupyter-widgets/controls",
     "model_module_version": "1.5.0",
     "model_name": "HTMLModel",
     "state": {
      "_dom_classes": [],
      "_model_module": "@jupyter-widgets/controls",
      "_model_module_version": "1.5.0",
      "_model_name": "HTMLModel",
      "_view_count": null,
      "_view_module": "@jupyter-widgets/controls",
      "_view_module_version": "1.5.0",
      "_view_name": "HTMLView",
      "description": "",
      "description_tooltip": null,
      "layout": "IPY_MODEL_b5ec6770dc2e41fe959a853f4ff2afa3",
      "placeholder": "​",
      "style": "IPY_MODEL_5380e89b6c194489984ea4a4e2305361",
      "value": " 24797/0 [00:08&lt;00:00, 3102.61 examples/s]"
     }
    },
    "78267027729a4b69bada686463301d37": {
     "model_module": "@jupyter-widgets/controls",
     "model_module_version": "1.5.0",
     "model_name": "FloatProgressModel",
     "state": {
      "_dom_classes": [],
      "_model_module": "@jupyter-widgets/controls",
      "_model_module_version": "1.5.0",
      "_model_name": "FloatProgressModel",
      "_view_count": null,
      "_view_module": "@jupyter-widgets/controls",
      "_view_module_version": "1.5.0",
      "_view_name": "ProgressView",
      "bar_style": "danger",
      "description": "",
      "description_tooltip": null,
      "layout": "IPY_MODEL_e126ebd02a114656b1f1c2f910373a77",
      "max": 25000,
      "min": 0,
      "orientation": "horizontal",
      "style": "IPY_MODEL_35623decd29342b88746a2b8d01357c3",
      "value": 24999
     }
    },
    "798cb8b06c0f494ba4820fbf15196fa1": {
     "model_module": "@jupyter-widgets/base",
     "model_module_version": "1.2.0",
     "model_name": "LayoutModel",
     "state": {
      "_model_module": "@jupyter-widgets/base",
      "_model_module_version": "1.2.0",
      "_model_name": "LayoutModel",
      "_view_count": null,
      "_view_module": "@jupyter-widgets/base",
      "_view_module_version": "1.2.0",
      "_view_name": "LayoutView",
      "align_content": null,
      "align_items": null,
      "align_self": null,
      "border": null,
      "bottom": null,
      "display": null,
      "flex": null,
      "flex_flow": null,
      "grid_area": null,
      "grid_auto_columns": null,
      "grid_auto_flow": null,
      "grid_auto_rows": null,
      "grid_column": null,
      "grid_gap": null,
      "grid_row": null,
      "grid_template_areas": null,
      "grid_template_columns": null,
      "grid_template_rows": null,
      "height": null,
      "justify_content": null,
      "justify_items": null,
      "left": null,
      "margin": null,
      "max_height": null,
      "max_width": null,
      "min_height": null,
      "min_width": null,
      "object_fit": null,
      "object_position": null,
      "order": null,
      "overflow": null,
      "overflow_x": null,
      "overflow_y": null,
      "padding": null,
      "right": null,
      "top": null,
      "visibility": null,
      "width": null
     }
    },
    "7d1759846e204dd78e23c8b237fd8397": {
     "model_module": "@jupyter-widgets/controls",
     "model_module_version": "1.5.0",
     "model_name": "HTMLModel",
     "state": {
      "_dom_classes": [],
      "_model_module": "@jupyter-widgets/controls",
      "_model_module_version": "1.5.0",
      "_model_name": "HTMLModel",
      "_view_count": null,
      "_view_module": "@jupyter-widgets/controls",
      "_view_module_version": "1.5.0",
      "_view_name": "HTMLView",
      "description": "",
      "description_tooltip": null,
      "layout": "IPY_MODEL_9e43fdac69ef4ca7b8567ab59cf59ee5",
      "placeholder": "​",
      "style": "IPY_MODEL_17111927f9f4484397fe90e451b6f007",
      "value": " 24767/0 [00:11&lt;00:00, 3010.25 examples/s]"
     }
    },
    "7df47187425d422fbc928193e52188a4": {
     "model_module": "@jupyter-widgets/controls",
     "model_module_version": "1.5.0",
     "model_name": "HTMLModel",
     "state": {
      "_dom_classes": [],
      "_model_module": "@jupyter-widgets/controls",
      "_model_module_version": "1.5.0",
      "_model_name": "HTMLModel",
      "_view_count": null,
      "_view_module": "@jupyter-widgets/controls",
      "_view_module_version": "1.5.0",
      "_view_name": "HTMLView",
      "description": "",
      "description_tooltip": null,
      "layout": "IPY_MODEL_bb000015f76640a6b44304892223ae6a",
      "placeholder": "​",
      "style": "IPY_MODEL_ae7d24ae1a694959827886af0a7b01ab",
      "value": " 49769/0 [00:21&lt;00:00, 3105.51 examples/s]"
     }
    },
    "887133f261f648eb82d6d53ef44d87f4": {
     "model_module": "@jupyter-widgets/controls",
     "model_module_version": "1.5.0",
     "model_name": "HTMLModel",
     "state": {
      "_dom_classes": [],
      "_model_module": "@jupyter-widgets/controls",
      "_model_module_version": "1.5.0",
      "_model_name": "HTMLModel",
      "_view_count": null,
      "_view_module": "@jupyter-widgets/controls",
      "_view_module_version": "1.5.0",
      "_view_name": "HTMLView",
      "description": "",
      "description_tooltip": null,
      "layout": "IPY_MODEL_c62692c5569045f8bfd3f9c317a2e561",
      "placeholder": "​",
      "style": "IPY_MODEL_bc1ae9bf290c429bb76137bfa883a69e",
      "value": "100%"
     }
    },
    "89ebe7b51f9646bba8441c4188911830": {
     "model_module": "@jupyter-widgets/controls",
     "model_module_version": "1.5.0",
     "model_name": "HTMLModel",
     "state": {
      "_dom_classes": [],
      "_model_module": "@jupyter-widgets/controls",
      "_model_module_version": "1.5.0",
      "_model_name": "HTMLModel",
      "_view_count": null,
      "_view_module": "@jupyter-widgets/controls",
      "_view_module_version": "1.5.0",
      "_view_name": "HTMLView",
      "description": "",
      "description_tooltip": null,
      "layout": "IPY_MODEL_d94b3ce989f2405b815fb523731a3868",
      "placeholder": "​",
      "style": "IPY_MODEL_50554eb674274a6489bc5b7058fb369e",
      "value": " 49999/50000 [00:00&lt;00:00, 161708.28 examples/s]"
     }
    },
    "8d21e60e74f746ff8b2884e7ce5f3553": {
     "model_module": "@jupyter-widgets/controls",
     "model_module_version": "1.5.0",
     "model_name": "HTMLModel",
     "state": {
      "_dom_classes": [],
      "_model_module": "@jupyter-widgets/controls",
      "_model_module_version": "1.5.0",
      "_model_name": "HTMLModel",
      "_view_count": null,
      "_view_module": "@jupyter-widgets/controls",
      "_view_module_version": "1.5.0",
      "_view_name": "HTMLView",
      "description": "",
      "description_tooltip": null,
      "layout": "IPY_MODEL_5e8c8c17a9dc4186ac9ee72d08595d17",
      "placeholder": "​",
      "style": "IPY_MODEL_ba2718f29ace4987bae2f856b5ecc6a2",
      "value": "Dl Completed...: 100%"
     }
    },
    "8d84468a772142e7971843dd2dd08614": {
     "model_module": "@jupyter-widgets/controls",
     "model_module_version": "1.5.0",
     "model_name": "HTMLModel",
     "state": {
      "_dom_classes": [],
      "_model_module": "@jupyter-widgets/controls",
      "_model_module_version": "1.5.0",
      "_model_name": "HTMLModel",
      "_view_count": null,
      "_view_module": "@jupyter-widgets/controls",
      "_view_module_version": "1.5.0",
      "_view_name": "HTMLView",
      "description": "",
      "description_tooltip": null,
      "layout": "IPY_MODEL_165f4618597f4121919ce044eeacaf1b",
      "placeholder": "​",
      "style": "IPY_MODEL_58f7490d247444568eb80c4640bfbcaf",
      "value": " 80/80 [00:01&lt;00:00, 51.33 MiB/s]"
     }
    },
    "930f862f6fc64dbca386cb9e9a9bd635": {
     "model_module": "@jupyter-widgets/controls",
     "model_module_version": "1.5.0",
     "model_name": "FloatProgressModel",
     "state": {
      "_dom_classes": [],
      "_model_module": "@jupyter-widgets/controls",
      "_model_module_version": "1.5.0",
      "_model_name": "FloatProgressModel",
      "_view_count": null,
      "_view_module": "@jupyter-widgets/controls",
      "_view_module_version": "1.5.0",
      "_view_name": "ProgressView",
      "bar_style": "info",
      "description": "",
      "description_tooltip": null,
      "layout": "IPY_MODEL_49dd6cd4ca3c432b9ab9cb71c6bf3004",
      "max": 1,
      "min": 0,
      "orientation": "horizontal",
      "style": "IPY_MODEL_7426939818ea40fe9e93ac6170f9806c",
      "value": 1
     }
    },
    "94e7b59f22b74257bd313fd58789f71f": {
     "model_module": "@jupyter-widgets/controls",
     "model_module_version": "1.5.0",
     "model_name": "DescriptionStyleModel",
     "state": {
      "_model_module": "@jupyter-widgets/controls",
      "_model_module_version": "1.5.0",
      "_model_name": "DescriptionStyleModel",
      "_view_count": null,
      "_view_module": "@jupyter-widgets/base",
      "_view_module_version": "1.2.0",
      "_view_name": "StyleView",
      "description_width": ""
     }
    },
    "96f30dfae32443a49be13869c4955572": {
     "model_module": "@jupyter-widgets/base",
     "model_module_version": "1.2.0",
     "model_name": "LayoutModel",
     "state": {
      "_model_module": "@jupyter-widgets/base",
      "_model_module_version": "1.2.0",
      "_model_name": "LayoutModel",
      "_view_count": null,
      "_view_module": "@jupyter-widgets/base",
      "_view_module_version": "1.2.0",
      "_view_name": "LayoutView",
      "align_content": null,
      "align_items": null,
      "align_self": null,
      "border": null,
      "bottom": null,
      "display": null,
      "flex": null,
      "flex_flow": null,
      "grid_area": null,
      "grid_auto_columns": null,
      "grid_auto_flow": null,
      "grid_auto_rows": null,
      "grid_column": null,
      "grid_gap": null,
      "grid_row": null,
      "grid_template_areas": null,
      "grid_template_columns": null,
      "grid_template_rows": null,
      "height": null,
      "justify_content": null,
      "justify_items": null,
      "left": null,
      "margin": null,
      "max_height": null,
      "max_width": null,
      "min_height": null,
      "min_width": null,
      "object_fit": null,
      "object_position": null,
      "order": null,
      "overflow": null,
      "overflow_x": null,
      "overflow_y": null,
      "padding": null,
      "right": null,
      "top": null,
      "visibility": null,
      "width": "20px"
     }
    },
    "98bbad72e21b4951aa4d4bfb3602263d": {
     "model_module": "@jupyter-widgets/base",
     "model_module_version": "1.2.0",
     "model_name": "LayoutModel",
     "state": {
      "_model_module": "@jupyter-widgets/base",
      "_model_module_version": "1.2.0",
      "_model_name": "LayoutModel",
      "_view_count": null,
      "_view_module": "@jupyter-widgets/base",
      "_view_module_version": "1.2.0",
      "_view_name": "LayoutView",
      "align_content": null,
      "align_items": null,
      "align_self": null,
      "border": null,
      "bottom": null,
      "display": null,
      "flex": null,
      "flex_flow": null,
      "grid_area": null,
      "grid_auto_columns": null,
      "grid_auto_flow": null,
      "grid_auto_rows": null,
      "grid_column": null,
      "grid_gap": null,
      "grid_row": null,
      "grid_template_areas": null,
      "grid_template_columns": null,
      "grid_template_rows": null,
      "height": null,
      "justify_content": null,
      "justify_items": null,
      "left": null,
      "margin": null,
      "max_height": null,
      "max_width": null,
      "min_height": null,
      "min_width": null,
      "object_fit": null,
      "object_position": null,
      "order": null,
      "overflow": null,
      "overflow_x": null,
      "overflow_y": null,
      "padding": null,
      "right": null,
      "top": null,
      "visibility": null,
      "width": null
     }
    },
    "9ca5b823482c45fa8eadbd18cbbcc8e9": {
     "model_module": "@jupyter-widgets/controls",
     "model_module_version": "1.5.0",
     "model_name": "HTMLModel",
     "state": {
      "_dom_classes": [],
      "_model_module": "@jupyter-widgets/controls",
      "_model_module_version": "1.5.0",
      "_model_name": "HTMLModel",
      "_view_count": null,
      "_view_module": "@jupyter-widgets/controls",
      "_view_module_version": "1.5.0",
      "_view_name": "HTMLView",
      "description": "",
      "description_tooltip": null,
      "layout": "IPY_MODEL_238a5e5dfb484ee8be1bf13813176eba",
      "placeholder": "​",
      "style": "IPY_MODEL_63ebced0cfd74667a4ea32620252425d",
      "value": "Dl Size...: 100%"
     }
    },
    "9e43fdac69ef4ca7b8567ab59cf59ee5": {
     "model_module": "@jupyter-widgets/base",
     "model_module_version": "1.2.0",
     "model_name": "LayoutModel",
     "state": {
      "_model_module": "@jupyter-widgets/base",
      "_model_module_version": "1.2.0",
      "_model_name": "LayoutModel",
      "_view_count": null,
      "_view_module": "@jupyter-widgets/base",
      "_view_module_version": "1.2.0",
      "_view_name": "LayoutView",
      "align_content": null,
      "align_items": null,
      "align_self": null,
      "border": null,
      "bottom": null,
      "display": null,
      "flex": null,
      "flex_flow": null,
      "grid_area": null,
      "grid_auto_columns": null,
      "grid_auto_flow": null,
      "grid_auto_rows": null,
      "grid_column": null,
      "grid_gap": null,
      "grid_row": null,
      "grid_template_areas": null,
      "grid_template_columns": null,
      "grid_template_rows": null,
      "height": null,
      "justify_content": null,
      "justify_items": null,
      "left": null,
      "margin": null,
      "max_height": null,
      "max_width": null,
      "min_height": null,
      "min_width": null,
      "object_fit": null,
      "object_position": null,
      "order": null,
      "overflow": null,
      "overflow_x": null,
      "overflow_y": null,
      "padding": null,
      "right": null,
      "top": null,
      "visibility": null,
      "width": null
     }
    },
    "a09ea0c67dfd4cfba6b2b56e4a12d66a": {
     "model_module": "@jupyter-widgets/controls",
     "model_module_version": "1.5.0",
     "model_name": "HTMLModel",
     "state": {
      "_dom_classes": [],
      "_model_module": "@jupyter-widgets/controls",
      "_model_module_version": "1.5.0",
      "_model_name": "HTMLModel",
      "_view_count": null,
      "_view_module": "@jupyter-widgets/controls",
      "_view_module_version": "1.5.0",
      "_view_name": "HTMLView",
      "description": "",
      "description_tooltip": null,
      "layout": "IPY_MODEL_798cb8b06c0f494ba4820fbf15196fa1",
      "placeholder": "​",
      "style": "IPY_MODEL_94e7b59f22b74257bd313fd58789f71f",
      "value": "100%"
     }
    },
    "a4d4e53b3a384ed9a87f4275b038e6b0": {
     "model_module": "@jupyter-widgets/controls",
     "model_module_version": "1.5.0",
     "model_name": "ProgressStyleModel",
     "state": {
      "_model_module": "@jupyter-widgets/controls",
      "_model_module_version": "1.5.0",
      "_model_name": "ProgressStyleModel",
      "_view_count": null,
      "_view_module": "@jupyter-widgets/base",
      "_view_module_version": "1.2.0",
      "_view_name": "StyleView",
      "bar_color": null,
      "description_width": ""
     }
    },
    "a5d12d4e91cc47439639a6f1eda04d68": {
     "model_module": "@jupyter-widgets/base",
     "model_module_version": "1.2.0",
     "model_name": "LayoutModel",
     "state": {
      "_model_module": "@jupyter-widgets/base",
      "_model_module_version": "1.2.0",
      "_model_name": "LayoutModel",
      "_view_count": null,
      "_view_module": "@jupyter-widgets/base",
      "_view_module_version": "1.2.0",
      "_view_name": "LayoutView",
      "align_content": null,
      "align_items": null,
      "align_self": null,
      "border": null,
      "bottom": null,
      "display": null,
      "flex": null,
      "flex_flow": null,
      "grid_area": null,
      "grid_auto_columns": null,
      "grid_auto_flow": null,
      "grid_auto_rows": null,
      "grid_column": null,
      "grid_gap": null,
      "grid_row": null,
      "grid_template_areas": null,
      "grid_template_columns": null,
      "grid_template_rows": null,
      "height": null,
      "justify_content": null,
      "justify_items": null,
      "left": null,
      "margin": null,
      "max_height": null,
      "max_width": null,
      "min_height": null,
      "min_width": null,
      "object_fit": null,
      "object_position": null,
      "order": null,
      "overflow": null,
      "overflow_x": null,
      "overflow_y": null,
      "padding": null,
      "right": null,
      "top": null,
      "visibility": null,
      "width": null
     }
    },
    "a87fc473ed764007bc96c10f948264bf": {
     "model_module": "@jupyter-widgets/base",
     "model_module_version": "1.2.0",
     "model_name": "LayoutModel",
     "state": {
      "_model_module": "@jupyter-widgets/base",
      "_model_module_version": "1.2.0",
      "_model_name": "LayoutModel",
      "_view_count": null,
      "_view_module": "@jupyter-widgets/base",
      "_view_module_version": "1.2.0",
      "_view_name": "LayoutView",
      "align_content": null,
      "align_items": null,
      "align_self": null,
      "border": null,
      "bottom": null,
      "display": null,
      "flex": null,
      "flex_flow": null,
      "grid_area": null,
      "grid_auto_columns": null,
      "grid_auto_flow": null,
      "grid_auto_rows": null,
      "grid_column": null,
      "grid_gap": null,
      "grid_row": null,
      "grid_template_areas": null,
      "grid_template_columns": null,
      "grid_template_rows": null,
      "height": null,
      "justify_content": null,
      "justify_items": null,
      "left": null,
      "margin": null,
      "max_height": null,
      "max_width": null,
      "min_height": null,
      "min_width": null,
      "object_fit": null,
      "object_position": null,
      "order": null,
      "overflow": null,
      "overflow_x": null,
      "overflow_y": null,
      "padding": null,
      "right": null,
      "top": null,
      "visibility": null,
      "width": null
     }
    },
    "a8ae507809824776b2baef378db31fa9": {
     "model_module": "@jupyter-widgets/base",
     "model_module_version": "1.2.0",
     "model_name": "LayoutModel",
     "state": {
      "_model_module": "@jupyter-widgets/base",
      "_model_module_version": "1.2.0",
      "_model_name": "LayoutModel",
      "_view_count": null,
      "_view_module": "@jupyter-widgets/base",
      "_view_module_version": "1.2.0",
      "_view_name": "LayoutView",
      "align_content": null,
      "align_items": null,
      "align_self": null,
      "border": null,
      "bottom": null,
      "display": null,
      "flex": null,
      "flex_flow": null,
      "grid_area": null,
      "grid_auto_columns": null,
      "grid_auto_flow": null,
      "grid_auto_rows": null,
      "grid_column": null,
      "grid_gap": null,
      "grid_row": null,
      "grid_template_areas": null,
      "grid_template_columns": null,
      "grid_template_rows": null,
      "height": null,
      "justify_content": null,
      "justify_items": null,
      "left": null,
      "margin": null,
      "max_height": null,
      "max_width": null,
      "min_height": null,
      "min_width": null,
      "object_fit": null,
      "object_position": null,
      "order": null,
      "overflow": null,
      "overflow_x": null,
      "overflow_y": null,
      "padding": null,
      "right": null,
      "top": null,
      "visibility": null,
      "width": "20px"
     }
    },
    "ae7d24ae1a694959827886af0a7b01ab": {
     "model_module": "@jupyter-widgets/controls",
     "model_module_version": "1.5.0",
     "model_name": "DescriptionStyleModel",
     "state": {
      "_model_module": "@jupyter-widgets/controls",
      "_model_module_version": "1.5.0",
      "_model_name": "DescriptionStyleModel",
      "_view_count": null,
      "_view_module": "@jupyter-widgets/base",
      "_view_module_version": "1.2.0",
      "_view_name": "StyleView",
      "description_width": ""
     }
    },
    "b5ec6770dc2e41fe959a853f4ff2afa3": {
     "model_module": "@jupyter-widgets/base",
     "model_module_version": "1.2.0",
     "model_name": "LayoutModel",
     "state": {
      "_model_module": "@jupyter-widgets/base",
      "_model_module_version": "1.2.0",
      "_model_name": "LayoutModel",
      "_view_count": null,
      "_view_module": "@jupyter-widgets/base",
      "_view_module_version": "1.2.0",
      "_view_name": "LayoutView",
      "align_content": null,
      "align_items": null,
      "align_self": null,
      "border": null,
      "bottom": null,
      "display": null,
      "flex": null,
      "flex_flow": null,
      "grid_area": null,
      "grid_auto_columns": null,
      "grid_auto_flow": null,
      "grid_auto_rows": null,
      "grid_column": null,
      "grid_gap": null,
      "grid_row": null,
      "grid_template_areas": null,
      "grid_template_columns": null,
      "grid_template_rows": null,
      "height": null,
      "justify_content": null,
      "justify_items": null,
      "left": null,
      "margin": null,
      "max_height": null,
      "max_width": null,
      "min_height": null,
      "min_width": null,
      "object_fit": null,
      "object_position": null,
      "order": null,
      "overflow": null,
      "overflow_x": null,
      "overflow_y": null,
      "padding": null,
      "right": null,
      "top": null,
      "visibility": null,
      "width": null
     }
    },
    "b871e1de84e24efa94a924ad0d2b0847": {
     "model_module": "@jupyter-widgets/controls",
     "model_module_version": "1.5.0",
     "model_name": "HBoxModel",
     "state": {
      "_dom_classes": [],
      "_model_module": "@jupyter-widgets/controls",
      "_model_module_version": "1.5.0",
      "_model_name": "HBoxModel",
      "_view_count": null,
      "_view_module": "@jupyter-widgets/controls",
      "_view_module_version": "1.5.0",
      "_view_name": "HBoxView",
      "box_style": "",
      "children": [
       "IPY_MODEL_a09ea0c67dfd4cfba6b2b56e4a12d66a",
       "IPY_MODEL_78267027729a4b69bada686463301d37",
       "IPY_MODEL_f55d3e0e65384208b4759729c31ee99f"
      ],
      "layout": "IPY_MODEL_6a1104a989ff4d848cfc150c85913a1f"
     }
    },
    "ba2718f29ace4987bae2f856b5ecc6a2": {
     "model_module": "@jupyter-widgets/controls",
     "model_module_version": "1.5.0",
     "model_name": "DescriptionStyleModel",
     "state": {
      "_model_module": "@jupyter-widgets/controls",
      "_model_module_version": "1.5.0",
      "_model_name": "DescriptionStyleModel",
      "_view_count": null,
      "_view_module": "@jupyter-widgets/base",
      "_view_module_version": "1.2.0",
      "_view_name": "StyleView",
      "description_width": ""
     }
    },
    "bb000015f76640a6b44304892223ae6a": {
     "model_module": "@jupyter-widgets/base",
     "model_module_version": "1.2.0",
     "model_name": "LayoutModel",
     "state": {
      "_model_module": "@jupyter-widgets/base",
      "_model_module_version": "1.2.0",
      "_model_name": "LayoutModel",
      "_view_count": null,
      "_view_module": "@jupyter-widgets/base",
      "_view_module_version": "1.2.0",
      "_view_name": "LayoutView",
      "align_content": null,
      "align_items": null,
      "align_self": null,
      "border": null,
      "bottom": null,
      "display": null,
      "flex": null,
      "flex_flow": null,
      "grid_area": null,
      "grid_auto_columns": null,
      "grid_auto_flow": null,
      "grid_auto_rows": null,
      "grid_column": null,
      "grid_gap": null,
      "grid_row": null,
      "grid_template_areas": null,
      "grid_template_columns": null,
      "grid_template_rows": null,
      "height": null,
      "justify_content": null,
      "justify_items": null,
      "left": null,
      "margin": null,
      "max_height": null,
      "max_width": null,
      "min_height": null,
      "min_width": null,
      "object_fit": null,
      "object_position": null,
      "order": null,
      "overflow": null,
      "overflow_x": null,
      "overflow_y": null,
      "padding": null,
      "right": null,
      "top": null,
      "visibility": null,
      "width": null
     }
    },
    "bc1ae9bf290c429bb76137bfa883a69e": {
     "model_module": "@jupyter-widgets/controls",
     "model_module_version": "1.5.0",
     "model_name": "DescriptionStyleModel",
     "state": {
      "_model_module": "@jupyter-widgets/controls",
      "_model_module_version": "1.5.0",
      "_model_name": "DescriptionStyleModel",
      "_view_count": null,
      "_view_module": "@jupyter-widgets/base",
      "_view_module_version": "1.2.0",
      "_view_name": "StyleView",
      "description_width": ""
     }
    },
    "bc51a582c76a4d1db05f882843176354": {
     "model_module": "@jupyter-widgets/base",
     "model_module_version": "1.2.0",
     "model_name": "LayoutModel",
     "state": {
      "_model_module": "@jupyter-widgets/base",
      "_model_module_version": "1.2.0",
      "_model_name": "LayoutModel",
      "_view_count": null,
      "_view_module": "@jupyter-widgets/base",
      "_view_module_version": "1.2.0",
      "_view_name": "LayoutView",
      "align_content": null,
      "align_items": null,
      "align_self": null,
      "border": null,
      "bottom": null,
      "display": null,
      "flex": null,
      "flex_flow": null,
      "grid_area": null,
      "grid_auto_columns": null,
      "grid_auto_flow": null,
      "grid_auto_rows": null,
      "grid_column": null,
      "grid_gap": null,
      "grid_row": null,
      "grid_template_areas": null,
      "grid_template_columns": null,
      "grid_template_rows": null,
      "height": null,
      "justify_content": null,
      "justify_items": null,
      "left": null,
      "margin": null,
      "max_height": null,
      "max_width": null,
      "min_height": null,
      "min_width": null,
      "object_fit": null,
      "object_position": null,
      "order": null,
      "overflow": null,
      "overflow_x": null,
      "overflow_y": null,
      "padding": null,
      "right": null,
      "top": null,
      "visibility": null,
      "width": null
     }
    },
    "bfe98f3995804fdd86453c11b784166c": {
     "model_module": "@jupyter-widgets/controls",
     "model_module_version": "1.5.0",
     "model_name": "FloatProgressModel",
     "state": {
      "_dom_classes": [],
      "_model_module": "@jupyter-widgets/controls",
      "_model_module_version": "1.5.0",
      "_model_name": "FloatProgressModel",
      "_view_count": null,
      "_view_module": "@jupyter-widgets/controls",
      "_view_module_version": "1.5.0",
      "_view_name": "ProgressView",
      "bar_style": "success",
      "description": "",
      "description_tooltip": null,
      "layout": "IPY_MODEL_15094baca5764de4b9df9c782d7a69e1",
      "max": 1,
      "min": 0,
      "orientation": "horizontal",
      "style": "IPY_MODEL_a4d4e53b3a384ed9a87f4275b038e6b0",
      "value": 1
     }
    },
    "c1b922ec0ee74d84b22d553bca3d2782": {
     "model_module": "@jupyter-widgets/controls",
     "model_module_version": "1.5.0",
     "model_name": "ProgressStyleModel",
     "state": {
      "_model_module": "@jupyter-widgets/controls",
      "_model_module_version": "1.5.0",
      "_model_name": "ProgressStyleModel",
      "_view_count": null,
      "_view_module": "@jupyter-widgets/base",
      "_view_module_version": "1.2.0",
      "_view_name": "StyleView",
      "bar_color": null,
      "description_width": ""
     }
    },
    "c4ef049c80b448089288e85446a9f4e8": {
     "model_module": "@jupyter-widgets/controls",
     "model_module_version": "1.5.0",
     "model_name": "DescriptionStyleModel",
     "state": {
      "_model_module": "@jupyter-widgets/controls",
      "_model_module_version": "1.5.0",
      "_model_name": "DescriptionStyleModel",
      "_view_count": null,
      "_view_module": "@jupyter-widgets/base",
      "_view_module_version": "1.2.0",
      "_view_name": "StyleView",
      "description_width": ""
     }
    },
    "c62692c5569045f8bfd3f9c317a2e561": {
     "model_module": "@jupyter-widgets/base",
     "model_module_version": "1.2.0",
     "model_name": "LayoutModel",
     "state": {
      "_model_module": "@jupyter-widgets/base",
      "_model_module_version": "1.2.0",
      "_model_name": "LayoutModel",
      "_view_count": null,
      "_view_module": "@jupyter-widgets/base",
      "_view_module_version": "1.2.0",
      "_view_name": "LayoutView",
      "align_content": null,
      "align_items": null,
      "align_self": null,
      "border": null,
      "bottom": null,
      "display": null,
      "flex": null,
      "flex_flow": null,
      "grid_area": null,
      "grid_auto_columns": null,
      "grid_auto_flow": null,
      "grid_auto_rows": null,
      "grid_column": null,
      "grid_gap": null,
      "grid_row": null,
      "grid_template_areas": null,
      "grid_template_columns": null,
      "grid_template_rows": null,
      "height": null,
      "justify_content": null,
      "justify_items": null,
      "left": null,
      "margin": null,
      "max_height": null,
      "max_width": null,
      "min_height": null,
      "min_width": null,
      "object_fit": null,
      "object_position": null,
      "order": null,
      "overflow": null,
      "overflow_x": null,
      "overflow_y": null,
      "padding": null,
      "right": null,
      "top": null,
      "visibility": null,
      "width": null
     }
    },
    "c9a91f7354e54563a662f817f0fc1e5b": {
     "model_module": "@jupyter-widgets/controls",
     "model_module_version": "1.5.0",
     "model_name": "ProgressStyleModel",
     "state": {
      "_model_module": "@jupyter-widgets/controls",
      "_model_module_version": "1.5.0",
      "_model_name": "ProgressStyleModel",
      "_view_count": null,
      "_view_module": "@jupyter-widgets/base",
      "_view_module_version": "1.2.0",
      "_view_name": "StyleView",
      "bar_color": null,
      "description_width": ""
     }
    },
    "c9efafc51de24575ac2cbaf93b5d3f7a": {
     "model_module": "@jupyter-widgets/controls",
     "model_module_version": "1.5.0",
     "model_name": "DescriptionStyleModel",
     "state": {
      "_model_module": "@jupyter-widgets/controls",
      "_model_module_version": "1.5.0",
      "_model_name": "DescriptionStyleModel",
      "_view_count": null,
      "_view_module": "@jupyter-widgets/base",
      "_view_module_version": "1.2.0",
      "_view_name": "StyleView",
      "description_width": ""
     }
    },
    "d94b3ce989f2405b815fb523731a3868": {
     "model_module": "@jupyter-widgets/base",
     "model_module_version": "1.2.0",
     "model_name": "LayoutModel",
     "state": {
      "_model_module": "@jupyter-widgets/base",
      "_model_module_version": "1.2.0",
      "_model_name": "LayoutModel",
      "_view_count": null,
      "_view_module": "@jupyter-widgets/base",
      "_view_module_version": "1.2.0",
      "_view_name": "LayoutView",
      "align_content": null,
      "align_items": null,
      "align_self": null,
      "border": null,
      "bottom": null,
      "display": null,
      "flex": null,
      "flex_flow": null,
      "grid_area": null,
      "grid_auto_columns": null,
      "grid_auto_flow": null,
      "grid_auto_rows": null,
      "grid_column": null,
      "grid_gap": null,
      "grid_row": null,
      "grid_template_areas": null,
      "grid_template_columns": null,
      "grid_template_rows": null,
      "height": null,
      "justify_content": null,
      "justify_items": null,
      "left": null,
      "margin": null,
      "max_height": null,
      "max_width": null,
      "min_height": null,
      "min_width": null,
      "object_fit": null,
      "object_position": null,
      "order": null,
      "overflow": null,
      "overflow_x": null,
      "overflow_y": null,
      "padding": null,
      "right": null,
      "top": null,
      "visibility": null,
      "width": null
     }
    },
    "da2b4748c580427f83b8122630db4e34": {
     "model_module": "@jupyter-widgets/controls",
     "model_module_version": "1.5.0",
     "model_name": "FloatProgressModel",
     "state": {
      "_dom_classes": [],
      "_model_module": "@jupyter-widgets/controls",
      "_model_module_version": "1.5.0",
      "_model_name": "FloatProgressModel",
      "_view_count": null,
      "_view_module": "@jupyter-widgets/controls",
      "_view_module_version": "1.5.0",
      "_view_name": "ProgressView",
      "bar_style": "info",
      "description": "",
      "description_tooltip": null,
      "layout": "IPY_MODEL_a8ae507809824776b2baef378db31fa9",
      "max": 1,
      "min": 0,
      "orientation": "horizontal",
      "style": "IPY_MODEL_fc8fba25cd0a40d19183abc917042e6d",
      "value": 1
     }
    },
    "e126ebd02a114656b1f1c2f910373a77": {
     "model_module": "@jupyter-widgets/base",
     "model_module_version": "1.2.0",
     "model_name": "LayoutModel",
     "state": {
      "_model_module": "@jupyter-widgets/base",
      "_model_module_version": "1.2.0",
      "_model_name": "LayoutModel",
      "_view_count": null,
      "_view_module": "@jupyter-widgets/base",
      "_view_module_version": "1.2.0",
      "_view_name": "LayoutView",
      "align_content": null,
      "align_items": null,
      "align_self": null,
      "border": null,
      "bottom": null,
      "display": null,
      "flex": null,
      "flex_flow": null,
      "grid_area": null,
      "grid_auto_columns": null,
      "grid_auto_flow": null,
      "grid_auto_rows": null,
      "grid_column": null,
      "grid_gap": null,
      "grid_row": null,
      "grid_template_areas": null,
      "grid_template_columns": null,
      "grid_template_rows": null,
      "height": null,
      "justify_content": null,
      "justify_items": null,
      "left": null,
      "margin": null,
      "max_height": null,
      "max_width": null,
      "min_height": null,
      "min_width": null,
      "object_fit": null,
      "object_position": null,
      "order": null,
      "overflow": null,
      "overflow_x": null,
      "overflow_y": null,
      "padding": null,
      "right": null,
      "top": null,
      "visibility": null,
      "width": null
     }
    },
    "e33d9077d4ae46ceb0e39b33ad803554": {
     "model_module": "@jupyter-widgets/base",
     "model_module_version": "1.2.0",
     "model_name": "LayoutModel",
     "state": {
      "_model_module": "@jupyter-widgets/base",
      "_model_module_version": "1.2.0",
      "_model_name": "LayoutModel",
      "_view_count": null,
      "_view_module": "@jupyter-widgets/base",
      "_view_module_version": "1.2.0",
      "_view_name": "LayoutView",
      "align_content": null,
      "align_items": null,
      "align_self": null,
      "border": null,
      "bottom": null,
      "display": null,
      "flex": null,
      "flex_flow": null,
      "grid_area": null,
      "grid_auto_columns": null,
      "grid_auto_flow": null,
      "grid_auto_rows": null,
      "grid_column": null,
      "grid_gap": null,
      "grid_row": null,
      "grid_template_areas": null,
      "grid_template_columns": null,
      "grid_template_rows": null,
      "height": null,
      "justify_content": null,
      "justify_items": null,
      "left": null,
      "margin": null,
      "max_height": null,
      "max_width": null,
      "min_height": null,
      "min_width": null,
      "object_fit": null,
      "object_position": null,
      "order": null,
      "overflow": null,
      "overflow_x": null,
      "overflow_y": null,
      "padding": null,
      "right": null,
      "top": null,
      "visibility": null,
      "width": "20px"
     }
    },
    "ea6872e246234f82a026ce29e1c874d3": {
     "model_module": "@jupyter-widgets/controls",
     "model_module_version": "1.5.0",
     "model_name": "HBoxModel",
     "state": {
      "_dom_classes": [],
      "_model_module": "@jupyter-widgets/controls",
      "_model_module_version": "1.5.0",
      "_model_name": "HBoxModel",
      "_view_count": null,
      "_view_module": "@jupyter-widgets/controls",
      "_view_module_version": "1.5.0",
      "_view_name": "HBoxView",
      "box_style": "",
      "children": [
       "IPY_MODEL_ef9d623dd94e4a8cb013bf544f9c6633",
       "IPY_MODEL_0b78b81dbe0248c789f8a8b483ef280c",
       "IPY_MODEL_89ebe7b51f9646bba8441c4188911830"
      ],
      "layout": "IPY_MODEL_0d2c094570ba470a801e84322c89bafe"
     }
    },
    "ef9d623dd94e4a8cb013bf544f9c6633": {
     "model_module": "@jupyter-widgets/controls",
     "model_module_version": "1.5.0",
     "model_name": "HTMLModel",
     "state": {
      "_dom_classes": [],
      "_model_module": "@jupyter-widgets/controls",
      "_model_module_version": "1.5.0",
      "_model_name": "HTMLModel",
      "_view_count": null,
      "_view_module": "@jupyter-widgets/controls",
      "_view_module_version": "1.5.0",
      "_view_name": "HTMLView",
      "description": "",
      "description_tooltip": null,
      "layout": "IPY_MODEL_31c4bf9a67094ff190a334fd208d3544",
      "placeholder": "​",
      "style": "IPY_MODEL_45b02342855a4e8a92bff5c5665b5bce",
      "value": "100%"
     }
    },
    "f09e0ae9ef884d9683796b4ad3283899": {
     "model_module": "@jupyter-widgets/controls",
     "model_module_version": "1.5.0",
     "model_name": "HBoxModel",
     "state": {
      "_dom_classes": [],
      "_model_module": "@jupyter-widgets/controls",
      "_model_module_version": "1.5.0",
      "_model_name": "HBoxModel",
      "_view_count": null,
      "_view_module": "@jupyter-widgets/controls",
      "_view_module_version": "1.5.0",
      "_view_name": "HBoxView",
      "box_style": "",
      "children": [
       "IPY_MODEL_52db14b0600d450991aa0dda05544d60",
       "IPY_MODEL_11338bb7f6f9455ba1a5e7c188f52188",
       "IPY_MODEL_7579a412c8e8477089c8412c0a4010ee"
      ],
      "layout": "IPY_MODEL_0318bc68dce24ce082df4941a97bb5e3"
     }
    },
    "f2d9a783b52e4744b501b6b96f51dbb6": {
     "model_module": "@jupyter-widgets/controls",
     "model_module_version": "1.5.0",
     "model_name": "HBoxModel",
     "state": {
      "_dom_classes": [],
      "_model_module": "@jupyter-widgets/controls",
      "_model_module_version": "1.5.0",
      "_model_name": "HBoxModel",
      "_view_count": null,
      "_view_module": "@jupyter-widgets/controls",
      "_view_module_version": "1.5.0",
      "_view_name": "HBoxView",
      "box_style": "",
      "children": [
       "IPY_MODEL_12149cdddde04ba6b81e5d10f3b58e1f",
       "IPY_MODEL_930f862f6fc64dbca386cb9e9a9bd635",
       "IPY_MODEL_7df47187425d422fbc928193e52188a4"
      ],
      "layout": "IPY_MODEL_a87fc473ed764007bc96c10f948264bf"
     }
    },
    "f55d3e0e65384208b4759729c31ee99f": {
     "model_module": "@jupyter-widgets/controls",
     "model_module_version": "1.5.0",
     "model_name": "HTMLModel",
     "state": {
      "_dom_classes": [],
      "_model_module": "@jupyter-widgets/controls",
      "_model_module_version": "1.5.0",
      "_model_name": "HTMLModel",
      "_view_count": null,
      "_view_module": "@jupyter-widgets/controls",
      "_view_module_version": "1.5.0",
      "_view_name": "HTMLView",
      "description": "",
      "description_tooltip": null,
      "layout": "IPY_MODEL_6a2e5d742f6e4d31a29a170f09321eb9",
      "placeholder": "​",
      "style": "IPY_MODEL_c4ef049c80b448089288e85446a9f4e8",
      "value": " 24999/25000 [00:00&lt;00:00, 64571.90 examples/s]"
     }
    },
    "f8c50efb49974065bdf05d8a0f41e58d": {
     "model_module": "@jupyter-widgets/base",
     "model_module_version": "1.2.0",
     "model_name": "LayoutModel",
     "state": {
      "_model_module": "@jupyter-widgets/base",
      "_model_module_version": "1.2.0",
      "_model_name": "LayoutModel",
      "_view_count": null,
      "_view_module": "@jupyter-widgets/base",
      "_view_module_version": "1.2.0",
      "_view_name": "LayoutView",
      "align_content": null,
      "align_items": null,
      "align_self": null,
      "border": null,
      "bottom": null,
      "display": null,
      "flex": null,
      "flex_flow": null,
      "grid_area": null,
      "grid_auto_columns": null,
      "grid_auto_flow": null,
      "grid_auto_rows": null,
      "grid_column": null,
      "grid_gap": null,
      "grid_row": null,
      "grid_template_areas": null,
      "grid_template_columns": null,
      "grid_template_rows": null,
      "height": null,
      "justify_content": null,
      "justify_items": null,
      "left": null,
      "margin": null,
      "max_height": null,
      "max_width": null,
      "min_height": null,
      "min_width": null,
      "object_fit": null,
      "object_position": null,
      "order": null,
      "overflow": null,
      "overflow_x": null,
      "overflow_y": null,
      "padding": null,
      "right": null,
      "top": null,
      "visibility": null,
      "width": null
     }
    },
    "fc8fba25cd0a40d19183abc917042e6d": {
     "model_module": "@jupyter-widgets/controls",
     "model_module_version": "1.5.0",
     "model_name": "ProgressStyleModel",
     "state": {
      "_model_module": "@jupyter-widgets/controls",
      "_model_module_version": "1.5.0",
      "_model_name": "ProgressStyleModel",
      "_view_count": null,
      "_view_module": "@jupyter-widgets/base",
      "_view_module_version": "1.2.0",
      "_view_name": "StyleView",
      "bar_color": null,
      "description_width": ""
     }
    }
   }
  }
 },
 "nbformat": 4,
 "nbformat_minor": 1
}
