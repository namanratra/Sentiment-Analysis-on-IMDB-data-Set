{
 "cells": [
  {
   "cell_type": "markdown",
   "metadata": {
    "id": "6u1MpO0OwmvO"
   },
   "source": [
    "# IMDB sentiment analysis using LSTM and GloVe embedding.\n",
    "\n",
    "Initially we do the similar implementation like a typical LSTM. But, here we use the embedding layer of GloVe embedding later.\n",
    "\n",
    "# What is GloVe embedding ?\n",
    "\n",
    "GloVe is an unsupervised learning algorithm for obtaining vector representations for words. Training is performed on aggregated global word-word co-occurrence statistics from a corpus, and the resulting representations showcase interesting linear substructures of the word vector space.\n",
    "GloVe is essentially a log-bilinear model with a weighted least-squares objective. The main intuition underlying the model is the simple observation that ratios of word-word co-occurrence probabilities have the potential for encoding some form of meaning.\n",
    "Source :https://nlp.stanford.edu/projects/glove/\n",
    "\n",
    "GloVe helps in understanding better context of words and the meanings attached to them as it works on the principle of co-occourances of the words."
   ]
  },
  {
   "cell_type": "code",
   "execution_count": 24,
   "metadata": {
    "id": "yPBxl3U2qy5y"
   },
   "outputs": [],
   "source": [
    "import pandas as pd\n",
    "import numpy as np\n",
    "import nltk\n",
    "from nltk.corpus import stopwords\n",
    "from tensorflow.keras.preprocessing.text import Tokenizer\n",
    "from tensorflow.keras.preprocessing.sequence import pad_sequences\n",
    "from tensorflow.keras.models import Sequential\n",
    "from tensorflow.keras.layers import Embedding, LSTM, Dense, Bidirectional\n",
    "import re"
   ]
  },
  {
   "cell_type": "markdown",
   "metadata": {
    "id": "85Ptd9e20cWo"
   },
   "source": [
    "# Data Downloading\n",
    "\n",
    "Here we simply download the data and put it into a tensorflow data set at the beginning."
   ]
  },
  {
   "cell_type": "code",
   "execution_count": 2,
   "metadata": {
    "colab": {
     "base_uri": "https://localhost:8080/"
    },
    "id": "R5Pdk3zWr_0u",
    "outputId": "c86c02ca-8bb5-4075-9ec1-e80eff6345d2"
   },
   "outputs": [
    {
     "name": "stdout",
     "output_type": "stream",
     "text": [
      "--2021-12-07 19:58:45--  https://ai.stanford.edu/~amaas/data/sentiment/aclImdb_v1.tar.gz\n",
      "Resolving ai.stanford.edu (ai.stanford.edu)... 171.64.68.10\n",
      "Connecting to ai.stanford.edu (ai.stanford.edu)|171.64.68.10|:443... connected.\n",
      "HTTP request sent, awaiting response... 200 OK\n",
      "Length: 84125825 (80M) [application/x-gzip]\n",
      "Saving to: ‘aclImdb_v1.tar.gz’\n",
      "\n",
      "aclImdb_v1.tar.gz   100%[===================>]  80.23M  40.3MB/s    in 2.0s    \n",
      "\n",
      "2021-12-07 19:58:47 (40.3 MB/s) - ‘aclImdb_v1.tar.gz’ saved [84125825/84125825]\n",
      "\n",
      "aclImdb  aclImdb_v1.tar.gz  sample_data\n"
     ]
    }
   ],
   "source": [
    "!wget https://ai.stanford.edu/~amaas/data/sentiment/aclImdb_v1.tar.gz\n",
    "!tar -xzf aclImdb_v1.tar.gz\n",
    "!ls"
   ]
  },
  {
   "cell_type": "code",
   "execution_count": 3,
   "metadata": {
    "id": "9WsRgohtsFfu"
   },
   "outputs": [],
   "source": [
    "!pip install tensorflow-datasets > /dev/null"
   ]
  },
  {
   "cell_type": "code",
   "execution_count": 4,
   "metadata": {
    "id": "H9RWj1ENsHXU"
   },
   "outputs": [],
   "source": [
    "import tensorflow_datasets as tfds"
   ]
  },
  {
   "cell_type": "code",
   "execution_count": 5,
   "metadata": {
    "colab": {
     "base_uri": "https://localhost:8080/",
     "height": 336,
     "referenced_widgets": [
      "de502795f74045fea064db0c4c0800da",
      "b3ebd65f2ded418fbce19135e192376d",
      "2f4cdded4fc94bc8aa73fe5ae1f6043d",
      "71fb33b63cba40eebb9712e06550c680",
      "b0fbed9f4e144940bd3580a46fa0896d",
      "06366f1aace648d48b5a95cd439392b1",
      "c75d0d8c1be24990a7bcc7838c5f3716",
      "d7928ee7110c4194af31cd8ec69ce704",
      "e2972f821eaa43e4b90cf68bae7ff36e",
      "cf6710ca177948d6a306c577b2bd7770",
      "8906e222fcaf4916ba2764a85286dd80",
      "bdf749db64394296927e475ebe3c5560",
      "dea95186c643462aaa9b579587fc6b38",
      "fce86074e8e445aaa1a794d574f3319e",
      "6919e0c7ccc5468a8874a7b185132505",
      "18d23b1105f743e39398daa5f1da664f",
      "2d95fd67f14149f482c6d9d911b8c1d4",
      "18525ba2c86347c68fcca7c921cc46e1",
      "c7df679588184a0495f2bd4531527352",
      "5d6c2b585d3d4361b3b266770319c2d9",
      "b74313e4cdbd40aaa0a0dbeccea6da74",
      "96196d095bb5432cbace8dc50c93a48c",
      "125811f6005d4ede91e1429e7e8c4c6a",
      "7681fd2aaf92405d8bf452c7a6c806e9",
      "58f32ec83232499385a9dc75d5c3e48f",
      "ca1302c7e5074ba4962268a19cd573e6",
      "a3ee1af603db46f4a57b3a997225a4f6",
      "b73b56db15234dff9f584b3481c3e1ce",
      "a940f2d2358644d9895f16122b38849a",
      "85c53f71b70e430a8f8d96b3bdac9b6f",
      "17b89703748f41e0b72b50fc01bc216b",
      "8d5b20e7395f4929817a4a50b346ff0b",
      "159c47c4d8f04621b9d342740ac55b93",
      "4d93d44c1d624397b8e5bf0701a1435b",
      "0a2f764e4f5a48d9b3eb74dc0be6c9ee",
      "49244aba988946449f5f923a2ce7d040",
      "7ce494484e2e4781aba07005df5a245b",
      "c79ac10b18a24c53b5beedaff0975cf3",
      "fc0f2f1476ad46bc83ee15cace1cdf86",
      "b78d8dad8be643d3a908d9722c6faa24",
      "d184fa5c869c4ed4b12ac0537ae02248",
      "9606217e569245b3aa10a5fad1f635b9",
      "703ad1673dcd43c8b6376238a79daa8f",
      "1170c37614f241bf9b686426159edf2d",
      "400b46256f67420999356e02d37f73ba",
      "b115c40701d342eba99c2cc54dc24e24",
      "a480c795a0f0436abae64b89af8727cd",
      "2bab47ad028549c0b9e690797177ca3e",
      "a939ebcf59a7446eb748979876ae7180",
      "0e04f8b8f4d346179593eacae762661a",
      "2cddde8ed89d42aca64128c62645a43c",
      "3778beaabc5d4931bf4b180fb2f3cb73",
      "d6476bf9aebf40299d13c9590bb7f51b",
      "ba65c2acd3774d9d8d720ccc73e1e6b9",
      "0c509b3f36044cf8bd8d2b89d2bf575a",
      "5e461e1b89734f99899e4b08eb1af815",
      "291235e30e3447ae86a21ea6eee3aa50",
      "fc42848872684dc98dfbf90f81c4cb42",
      "5cd2e302bd434b7192dd1ba21acc8950",
      "624e593861824cf9b6f99ea42c304cdb",
      "8f0c1f58338046fb86c1116d01c70e8c",
      "1bb3b0f7a4444a12a3aa471af1646ced",
      "54725fba0a1b4ebba99e8a5eb5cb0568",
      "929bda4c27ed41a89ef6e42d04190046",
      "ca56d63ecfd34b1e9a536d4b11cb3ec7",
      "f0d9e7239d8645f7a03b550603e79a5c",
      "57540233ae8b41479870d75ea071a236",
      "08976e2be846448d860ba70173703d99",
      "26869a143f0b4c12a092645dcd10736b",
      "45c332ceb15345d39fac2952727fd5a1",
      "ff479c78058b4f0ab9b81c984652a3e6",
      "1a987be51a934f1ebee6829b07317550",
      "28dc496a7a7a4bf3aba69734c3ac0cac",
      "d35febfc28844f6797f2af71d3f930e6",
      "5b5612219968479a86f157ece6964706",
      "74b83e0d33a84e57babbc00a4d97cc88",
      "436eafc5ab6d475cbb3fbf17d6553fbb",
      "52abd7e48d7442689f83dcdca70ff23e",
      "6b491e16931d47d7a441fadc0e2ddc92",
      "3fc5449e11f1466289e6c61eff56d6bf",
      "4bfc315686fb4098a3cbaa02a2c8dd87",
      "aa9cc25226fc4b4d92f4524ad1eef226",
      "24a9b04544894ffe900f0691f8fb2eac",
      "d865bb3521a1499a9b6740739ad2a4cb",
      "2942736907bd4027b1510f90d8c2fc70",
      "49be94aba05248dab42f42624e20e7a8",
      "f3050d4eb53f45e8a575c56f9bdd60b7",
      "16c87174b6ef42ff954fe22a3ecad34c"
     ]
    },
    "id": "w2gmDfaDsI8h",
    "outputId": "c0f78292-65ad-4e84-8994-02a72df3fa58"
   },
   "outputs": [
    {
     "name": "stdout",
     "output_type": "stream",
     "text": [
      "\u001b[1mDownloading and preparing dataset imdb_reviews/plain_text/1.0.0 (download: 80.23 MiB, generated: Unknown size, total: 80.23 MiB) to /root/tensorflow_datasets/imdb_reviews/plain_text/1.0.0...\u001b[0m\n"
     ]
    },
    {
     "data": {
      "application/vnd.jupyter.widget-view+json": {
       "model_id": "de502795f74045fea064db0c4c0800da",
       "version_major": 2,
       "version_minor": 0
      },
      "text/plain": [
       "Dl Completed...: 0 url [00:00, ? url/s]"
      ]
     },
     "metadata": {},
     "output_type": "display_data"
    },
    {
     "data": {
      "application/vnd.jupyter.widget-view+json": {
       "model_id": "bdf749db64394296927e475ebe3c5560",
       "version_major": 2,
       "version_minor": 0
      },
      "text/plain": [
       "Dl Size...: 0 MiB [00:00, ? MiB/s]"
      ]
     },
     "metadata": {},
     "output_type": "display_data"
    },
    {
     "name": "stdout",
     "output_type": "stream",
     "text": [
      "\n",
      "\n"
     ]
    },
    {
     "data": {
      "application/vnd.jupyter.widget-view+json": {
       "model_id": "125811f6005d4ede91e1429e7e8c4c6a",
       "version_major": 2,
       "version_minor": 0
      },
      "text/plain": [
       "0 examples [00:00, ? examples/s]"
      ]
     },
     "metadata": {},
     "output_type": "display_data"
    },
    {
     "name": "stdout",
     "output_type": "stream",
     "text": [
      "Shuffling and writing examples to /root/tensorflow_datasets/imdb_reviews/plain_text/1.0.0.incompleteG8GDXO/imdb_reviews-train.tfrecord\n"
     ]
    },
    {
     "data": {
      "application/vnd.jupyter.widget-view+json": {
       "model_id": "4d93d44c1d624397b8e5bf0701a1435b",
       "version_major": 2,
       "version_minor": 0
      },
      "text/plain": [
       "  0%|          | 0/25000 [00:00<?, ? examples/s]"
      ]
     },
     "metadata": {},
     "output_type": "display_data"
    },
    {
     "data": {
      "application/vnd.jupyter.widget-view+json": {
       "model_id": "400b46256f67420999356e02d37f73ba",
       "version_major": 2,
       "version_minor": 0
      },
      "text/plain": [
       "0 examples [00:00, ? examples/s]"
      ]
     },
     "metadata": {},
     "output_type": "display_data"
    },
    {
     "name": "stdout",
     "output_type": "stream",
     "text": [
      "Shuffling and writing examples to /root/tensorflow_datasets/imdb_reviews/plain_text/1.0.0.incompleteG8GDXO/imdb_reviews-test.tfrecord\n"
     ]
    },
    {
     "data": {
      "application/vnd.jupyter.widget-view+json": {
       "model_id": "5e461e1b89734f99899e4b08eb1af815",
       "version_major": 2,
       "version_minor": 0
      },
      "text/plain": [
       "  0%|          | 0/25000 [00:00<?, ? examples/s]"
      ]
     },
     "metadata": {},
     "output_type": "display_data"
    },
    {
     "data": {
      "application/vnd.jupyter.widget-view+json": {
       "model_id": "57540233ae8b41479870d75ea071a236",
       "version_major": 2,
       "version_minor": 0
      },
      "text/plain": [
       "0 examples [00:00, ? examples/s]"
      ]
     },
     "metadata": {},
     "output_type": "display_data"
    },
    {
     "name": "stdout",
     "output_type": "stream",
     "text": [
      "Shuffling and writing examples to /root/tensorflow_datasets/imdb_reviews/plain_text/1.0.0.incompleteG8GDXO/imdb_reviews-unsupervised.tfrecord\n"
     ]
    },
    {
     "data": {
      "application/vnd.jupyter.widget-view+json": {
       "model_id": "52abd7e48d7442689f83dcdca70ff23e",
       "version_major": 2,
       "version_minor": 0
      },
      "text/plain": [
       "  0%|          | 0/50000 [00:00<?, ? examples/s]"
      ]
     },
     "metadata": {},
     "output_type": "display_data"
    },
    {
     "name": "stderr",
     "output_type": "stream",
     "text": [
      "WARNING:absl:Dataset is using deprecated text encoder API which will be removed soon. Please use the plain_text version of the dataset and migrate to `tensorflow_text`.\n"
     ]
    },
    {
     "name": "stdout",
     "output_type": "stream",
     "text": [
      "\u001b[1mDataset imdb_reviews downloaded and prepared to /root/tensorflow_datasets/imdb_reviews/plain_text/1.0.0. Subsequent calls will reuse this data.\u001b[0m\n"
     ]
    }
   ],
   "source": [
    "(ds_train,ds_test),ds_info = tfds.load(\n",
    "    name=\"imdb_reviews\",\n",
    "    split=[\"train\",\"test\"],\n",
    "    shuffle_files=True,\n",
    "    as_supervised=True,\n",
    "    with_info=True)"
   ]
  },
  {
   "cell_type": "markdown",
   "metadata": {
    "id": "9We5WmoIID1Y"
   },
   "source": [
    "# Steps for implementation:\n",
    "\n",
    "1 Data processing: cleaning the data, removing stopwords, splitting into X_test, y_test, X_train, y_train and Finally, Calculating maxlen for encoding\n",
    "\n",
    "2 Tokenization and encoding: Tokenization and encoding X_train and X_test\n",
    "\n",
    "3 GloVe embedding: Downloading GloVe and creating the embedding matrix\n",
    "\n",
    "4 LSTM modelling: LSTM model and Bidirectional LSTM\n",
    "\n",
    "PS: different explained and detail in comments. When implementing."
   ]
  },
  {
   "cell_type": "markdown",
   "metadata": {
    "id": "LuysTh4-0opN"
   },
   "source": [
    "# Data Processing.\n",
    "\n",
    "Here we firstly convert the data into a dataframe since it is easier to deal with in a data frame. Then post that we clean the data and make it comatible for our further analysis.\n"
   ]
  },
  {
   "cell_type": "code",
   "execution_count": 6,
   "metadata": {
    "id": "LPUOhzNHsKpM"
   },
   "outputs": [],
   "source": [
    "# we create a dataframe from a tensorflow data object\n",
    "#we take a higher value than 25000 in take() so that we do not miss any values\n",
    "ds_train = tfds.as_dataframe(ds_train.take(25100), ds_info)\n",
    "ds_test = tfds.as_dataframe(ds_test.take(25100), ds_info)"
   ]
  },
  {
   "cell_type": "code",
   "execution_count": 7,
   "metadata": {
    "colab": {
     "base_uri": "https://localhost:8080/",
     "height": 206
    },
    "id": "qUQv2ofCsaRp",
    "outputId": "afdfe98f-99ea-4c78-af1a-0558cc0f03db"
   },
   "outputs": [
    {
     "data": {
      "text/html": [
       "<div>\n",
       "<style scoped>\n",
       "    .dataframe tbody tr th:only-of-type {\n",
       "        vertical-align: middle;\n",
       "    }\n",
       "\n",
       "    .dataframe tbody tr th {\n",
       "        vertical-align: top;\n",
       "    }\n",
       "\n",
       "    .dataframe thead th {\n",
       "        text-align: right;\n",
       "    }\n",
       "</style>\n",
       "<table border=\"1\" class=\"dataframe\">\n",
       "  <thead>\n",
       "    <tr style=\"text-align: right;\">\n",
       "      <th></th>\n",
       "      <th>label</th>\n",
       "      <th>text</th>\n",
       "    </tr>\n",
       "  </thead>\n",
       "  <tbody>\n",
       "    <tr>\n",
       "      <th>0</th>\n",
       "      <td>0</td>\n",
       "      <td>b\"This was an absolutely terrible movie. Don't...</td>\n",
       "    </tr>\n",
       "    <tr>\n",
       "      <th>1</th>\n",
       "      <td>0</td>\n",
       "      <td>b'I have been known to fall asleep during film...</td>\n",
       "    </tr>\n",
       "    <tr>\n",
       "      <th>2</th>\n",
       "      <td>0</td>\n",
       "      <td>b'Mann photographs the Alberta Rocky Mountains...</td>\n",
       "    </tr>\n",
       "    <tr>\n",
       "      <th>3</th>\n",
       "      <td>1</td>\n",
       "      <td>b'This is the kind of film for a snowy Sunday ...</td>\n",
       "    </tr>\n",
       "    <tr>\n",
       "      <th>4</th>\n",
       "      <td>1</td>\n",
       "      <td>b'As others have mentioned, all the women that...</td>\n",
       "    </tr>\n",
       "  </tbody>\n",
       "</table>\n",
       "</div>"
      ],
      "text/plain": [
       "   label                                               text\n",
       "0      0  b\"This was an absolutely terrible movie. Don't...\n",
       "1      0  b'I have been known to fall asleep during film...\n",
       "2      0  b'Mann photographs the Alberta Rocky Mountains...\n",
       "3      1  b'This is the kind of film for a snowy Sunday ...\n",
       "4      1  b'As others have mentioned, all the women that..."
      ]
     },
     "execution_count": 7,
     "metadata": {},
     "output_type": "execute_result"
    }
   ],
   "source": [
    "ds_train.head(5)\n",
    "#we see these b's as data converts to bytes hence we need to decode the bytes and do some basic cleaning to the data set\n",
    "# its probably because of utf 8, the data is not easy to deal with if it is in the byte format for further processing"
   ]
  },
  {
   "cell_type": "code",
   "execution_count": 8,
   "metadata": {
    "colab": {
     "base_uri": "https://localhost:8080/",
     "height": 206
    },
    "id": "rBomG41luQvN",
    "outputId": "cefb2a7f-479d-4d7b-e65f-13f3f7df879d"
   },
   "outputs": [
    {
     "data": {
      "text/html": [
       "<div>\n",
       "<style scoped>\n",
       "    .dataframe tbody tr th:only-of-type {\n",
       "        vertical-align: middle;\n",
       "    }\n",
       "\n",
       "    .dataframe tbody tr th {\n",
       "        vertical-align: top;\n",
       "    }\n",
       "\n",
       "    .dataframe thead th {\n",
       "        text-align: right;\n",
       "    }\n",
       "</style>\n",
       "<table border=\"1\" class=\"dataframe\">\n",
       "  <thead>\n",
       "    <tr style=\"text-align: right;\">\n",
       "      <th></th>\n",
       "      <th>label</th>\n",
       "      <th>text</th>\n",
       "    </tr>\n",
       "  </thead>\n",
       "  <tbody>\n",
       "    <tr>\n",
       "      <th>0</th>\n",
       "      <td>0</td>\n",
       "      <td>this was an absolutely terrible movie dont be ...</td>\n",
       "    </tr>\n",
       "    <tr>\n",
       "      <th>1</th>\n",
       "      <td>0</td>\n",
       "      <td>i have been known to fall asleep during films ...</td>\n",
       "    </tr>\n",
       "    <tr>\n",
       "      <th>2</th>\n",
       "      <td>0</td>\n",
       "      <td>mann photographs the alberta rocky mountains i...</td>\n",
       "    </tr>\n",
       "    <tr>\n",
       "      <th>3</th>\n",
       "      <td>1</td>\n",
       "      <td>this is the kind of film for a snowy sunday af...</td>\n",
       "    </tr>\n",
       "    <tr>\n",
       "      <th>4</th>\n",
       "      <td>1</td>\n",
       "      <td>as others have mentioned all the women that go...</td>\n",
       "    </tr>\n",
       "  </tbody>\n",
       "</table>\n",
       "</div>"
      ],
      "text/plain": [
       "   label                                               text\n",
       "0      0  this was an absolutely terrible movie dont be ...\n",
       "1      0  i have been known to fall asleep during films ...\n",
       "2      0  mann photographs the alberta rocky mountains i...\n",
       "3      1  this is the kind of film for a snowy sunday af...\n",
       "4      1  as others have mentioned all the women that go..."
      ]
     },
     "execution_count": 8,
     "metadata": {},
     "output_type": "execute_result"
    }
   ],
   "source": [
    "# As we can see their are some weird characters in between, lets do the very basic cleaning\n",
    "def basic_clean(txt):\n",
    "  txt = txt.decode(\"utf-8\") #to remove b's from the beginning of the text and make it string\n",
    "  txt = re.compile(\"[.;:!\\'?,\\\"()\\[\\]]\").sub(\"\", txt.lower()) #remove punctuations change and text to lower case\n",
    "  txt = re.compile(\"(<br\\s*/><br\\s*/>)|(\\-)|(\\/)\").sub(\" \", txt.lower()) #remove links since we want to do textual analysis\n",
    "  return txt\n",
    "ds_train['text'] =  ds_train['text'].apply(basic_clean) #apply the above function to train part of data set\n",
    "ds_test['text'] =  ds_test['text'].apply(basic_clean) #apply the above function to test part of data set\n",
    "ds_train.head(5)"
   ]
  },
  {
   "cell_type": "code",
   "execution_count": 9,
   "metadata": {
    "colab": {
     "base_uri": "https://localhost:8080/",
     "height": 987
    },
    "id": "XWyjKRevrX2P",
    "outputId": "bc16e6a3-3121-4fbf-b16b-f3c5c29112f0"
   },
   "outputs": [
    {
     "data": {
      "text/html": [
       "<div>\n",
       "<style scoped>\n",
       "    .dataframe tbody tr th:only-of-type {\n",
       "        vertical-align: middle;\n",
       "    }\n",
       "\n",
       "    .dataframe tbody tr th {\n",
       "        vertical-align: top;\n",
       "    }\n",
       "\n",
       "    .dataframe thead th {\n",
       "        text-align: right;\n",
       "    }\n",
       "</style>\n",
       "<table border=\"1\" class=\"dataframe\">\n",
       "  <thead>\n",
       "    <tr style=\"text-align: right;\">\n",
       "      <th></th>\n",
       "      <th>label</th>\n",
       "      <th>text</th>\n",
       "    </tr>\n",
       "  </thead>\n",
       "  <tbody>\n",
       "    <tr>\n",
       "      <th>0</th>\n",
       "      <td>0</td>\n",
       "      <td>this was an absolutely terrible movie dont be lured in by christopher walken or michael ironside both are great actors but this must simply be their worst role in history even their great acting could not redeem this movies ridiculous storyline this movie is an early nineties us propaganda piece the most pathetic scenes were those when the columbian rebels were making their cases for revolutions maria conchita alonso appeared phony and her pseudo love affair with walken was nothing but a pathetic emotional plug in a movie that was devoid of any real meaning i am disappointed that there are movies like this ruining actors like christopher walkens good name i could barely sit through it</td>\n",
       "    </tr>\n",
       "    <tr>\n",
       "      <th>1</th>\n",
       "      <td>0</td>\n",
       "      <td>i have been known to fall asleep during films but this is usually due to a combination of things including really tired being warm and comfortable on the sette and having just eaten a lot however on this occasion i fell asleep because the film was rubbish the plot development was constant constantly slow and boring things seemed to happen but with no explanation of what was causing them or why i admit i may have missed part of the film but i watched the majority of it and everything just seemed to happen of its own accord without any real concern for anything else i cant recommend this film at all</td>\n",
       "    </tr>\n",
       "    <tr>\n",
       "      <th>2</th>\n",
       "      <td>0</td>\n",
       "      <td>mann photographs the alberta rocky mountains in a superb fashion and jimmy stewart and walter brennan give enjoyable performances as they always seem to do  but come on hollywood   a mountie telling the people of dawson city yukon to elect themselves a marshal yes a marshal and to enforce the law themselves then gunfighters battling it out on the streets for control of the town  nothing even remotely resembling that happened on the canadian side of the border during the klondike gold rush mr mann and company appear to have mistaken dawson city for deadwood the canadian north for the american wild west canadian viewers be prepared for a reefer madness type of enjoyable howl with this ludicrous plot or to shake your head in disgust</td>\n",
       "    </tr>\n",
       "    <tr>\n",
       "      <th>3</th>\n",
       "      <td>1</td>\n",
       "      <td>this is the kind of film for a snowy sunday afternoon when the rest of the world can go ahead with its own business as you descend into a big arm chair and mellow for a couple of hours wonderful performances from cher and nicolas cage as always gently row the plot along there are no rapids to cross no dangerous waters just a warm and witty paddle through new york life at its best a family film in every sense and one that deserves the praise it received</td>\n",
       "    </tr>\n",
       "    <tr>\n",
       "      <th>4</th>\n",
       "      <td>1</td>\n",
       "      <td>as others have mentioned all the women that go nude in this film are mostly absolutely gorgeous the plot very ably shows the hypocrisy of the female libido when men are around they want to be pursued but when no men are around they become the pursuers of a 14 year old boy and the boy becomes a man really fast we should all be so lucky at this age he then gets up the courage to pursue his true love</td>\n",
       "    </tr>\n",
       "    <tr>\n",
       "      <th>5</th>\n",
       "      <td>1</td>\n",
       "      <td>this is a film which should be seen by anybody interested in effected by or suffering from an eating disorder it is an amazingly accurate and sensitive portrayal of bulimia in a teenage girl its causes and its symptoms the girl is played by one of the most brilliant young actresses working in cinema today alison lohman who was later so spectacular in where the truth lies i would recommend that this film be shown in all schools as you will never see a better on this subject alison lohman is absolutely outstanding and one marvels at her ability to convey the anguish of a girl suffering from this compulsive disorder if barometers tell us the air pressure alison lohman tells us the emotional pressure with the same degree of accuracy her emotional range is so precise each scene could be measured microscopically for its gradations of trauma on a scale of rising hysteria and desperation which reaches unbearable intensity mare winningham is the perfect choice to play her mother and does so...</td>\n",
       "    </tr>\n",
       "    <tr>\n",
       "      <th>6</th>\n",
       "      <td>0</td>\n",
       "      <td>okay you have penelope keith as miss herringbone tweed bbe backbone of england shes killed off in the first scene   thats right folks this show has no backbone peter otoole as ol colonel cricket from the first war and now the emblazered lord of the manor joanna lumley as the ensweatered lady of the manor 20 years younger than the colonel and 20 years past her own prime but still glamourous brit spelling not mine enough to have a toy boy on the side its alright they have col crickets full knowledge and consent they guy even comes round for christmas still shes considerate of the colonel enough to have said toy boy her own age what a gal david mccallum as said toy boy equally as pointlessly glamourous as his squeeze pilcher couldnt come up with any cover for him within the story so she gave him a hush hush job at the circus and finally susan hampshire as miss polonia teacups venerable headmistress of the venerable girls boarding school serving tea in her office with a dash of deep po...</td>\n",
       "    </tr>\n",
       "    <tr>\n",
       "      <th>7</th>\n",
       "      <td>0</td>\n",
       "      <td>the film is based on a genuine 1950s novel journalist colin mcinnes wrote a set of three london novels absolute beginners city of spades and mr love and justice i have read all three the first two are excellent the last perhaps an experiment that did not come off but mcinness work is highly acclaimed and rightly so this musical is the novelists ultimate nightmare   to see the fruits of ones mind being turned into a glitzy badly acted soporific one dimensional apology of a film that says it captures the spirit of 1950s london and does nothing of the sort thank goodness colin mcinnes wasnt alive to witness it</td>\n",
       "    </tr>\n",
       "    <tr>\n",
       "      <th>8</th>\n",
       "      <td>0</td>\n",
       "      <td>i really love the sexy action and sci fi films of the sixties and its because of the actresss that appeared in them they found the sexiest women to be in these films and it didnt matter if they could act remember candy the reason i was disappointed by this film was because it wasnt nostalgic enough the story here has a european sci fi film called dragonfly being made and the director is fired so the producers decide to let a young aspiring filmmaker jeremy davies to complete the picture theyre is one real beautiful woman in the film who plays dragonfly but shes barely in it film is written and directed by roman coppola who uses some of his fathers exploits from his early days and puts it into the script i wish the film could have been an homage to those early films they could have lots of cameos by actors who appeared in them there is one actor in this film who was popular from the sixties and its john phillip law barbarella gerard depardieu giancarlo giannini and dean stockwell ap...</td>\n",
       "    </tr>\n",
       "    <tr>\n",
       "      <th>9</th>\n",
       "      <td>0</td>\n",
       "      <td>sure this one isnt really a blockbuster nor does it target such a position dieter is the first name of a quite popular german musician who is either loved or hated for his kind of acting and thats exactly what this movie is about it is based on the autobiography dieter bohlen wrote a few years ago but isnt meant to be accurate on that the movie is filled with some sexual offensive content at least for american standard which is either amusing not for the other actors of course or dumb   it depends on your individual kind of humor or on you being a bohlen fan or not technically speaking there isnt much to criticize speaking of me i find this movie to be an ok movie</td>\n",
       "    </tr>\n",
       "  </tbody>\n",
       "</table>\n",
       "</div>"
      ],
      "text/plain": [
       "   label                                                                                                                                                                                                                                                                                                                                                                                                                                                                                                                                                                                                                                                                                                                                                                                                                                                                                                                                                                                                                                     text\n",
       "0      0                                                                                                                                                                                                                                                                                                                    this was an absolutely terrible movie dont be lured in by christopher walken or michael ironside both are great actors but this must simply be their worst role in history even their great acting could not redeem this movies ridiculous storyline this movie is an early nineties us propaganda piece the most pathetic scenes were those when the columbian rebels were making their cases for revolutions maria conchita alonso appeared phony and her pseudo love affair with walken was nothing but a pathetic emotional plug in a movie that was devoid of any real meaning i am disappointed that there are movies like this ruining actors like christopher walkens good name i could barely sit through it\n",
       "1      0                                                                                                                                                                                                                                                                                                                                                                                                             i have been known to fall asleep during films but this is usually due to a combination of things including really tired being warm and comfortable on the sette and having just eaten a lot however on this occasion i fell asleep because the film was rubbish the plot development was constant constantly slow and boring things seemed to happen but with no explanation of what was causing them or why i admit i may have missed part of the film but i watched the majority of it and everything just seemed to happen of its own accord without any real concern for anything else i cant recommend this film at all\n",
       "2      0                                                                                                                                                                                                                                                                      mann photographs the alberta rocky mountains in a superb fashion and jimmy stewart and walter brennan give enjoyable performances as they always seem to do  but come on hollywood   a mountie telling the people of dawson city yukon to elect themselves a marshal yes a marshal and to enforce the law themselves then gunfighters battling it out on the streets for control of the town  nothing even remotely resembling that happened on the canadian side of the border during the klondike gold rush mr mann and company appear to have mistaken dawson city for deadwood the canadian north for the american wild west canadian viewers be prepared for a reefer madness type of enjoyable howl with this ludicrous plot or to shake your head in disgust\n",
       "3      1                                                                                                                                                                                                                                                                                                                                                                                                                                                                                                                                                                 this is the kind of film for a snowy sunday afternoon when the rest of the world can go ahead with its own business as you descend into a big arm chair and mellow for a couple of hours wonderful performances from cher and nicolas cage as always gently row the plot along there are no rapids to cross no dangerous waters just a warm and witty paddle through new york life at its best a family film in every sense and one that deserves the praise it received\n",
       "4      1                                                                                                                                                                                                                                                                                                                                                                                                                                                                                                                                                                                                                         as others have mentioned all the women that go nude in this film are mostly absolutely gorgeous the plot very ably shows the hypocrisy of the female libido when men are around they want to be pursued but when no men are around they become the pursuers of a 14 year old boy and the boy becomes a man really fast we should all be so lucky at this age he then gets up the courage to pursue his true love\n",
       "5      1  this is a film which should be seen by anybody interested in effected by or suffering from an eating disorder it is an amazingly accurate and sensitive portrayal of bulimia in a teenage girl its causes and its symptoms the girl is played by one of the most brilliant young actresses working in cinema today alison lohman who was later so spectacular in where the truth lies i would recommend that this film be shown in all schools as you will never see a better on this subject alison lohman is absolutely outstanding and one marvels at her ability to convey the anguish of a girl suffering from this compulsive disorder if barometers tell us the air pressure alison lohman tells us the emotional pressure with the same degree of accuracy her emotional range is so precise each scene could be measured microscopically for its gradations of trauma on a scale of rising hysteria and desperation which reaches unbearable intensity mare winningham is the perfect choice to play her mother and does so...\n",
       "6      0  okay you have penelope keith as miss herringbone tweed bbe backbone of england shes killed off in the first scene   thats right folks this show has no backbone peter otoole as ol colonel cricket from the first war and now the emblazered lord of the manor joanna lumley as the ensweatered lady of the manor 20 years younger than the colonel and 20 years past her own prime but still glamourous brit spelling not mine enough to have a toy boy on the side its alright they have col crickets full knowledge and consent they guy even comes round for christmas still shes considerate of the colonel enough to have said toy boy her own age what a gal david mccallum as said toy boy equally as pointlessly glamourous as his squeeze pilcher couldnt come up with any cover for him within the story so she gave him a hush hush job at the circus and finally susan hampshire as miss polonia teacups venerable headmistress of the venerable girls boarding school serving tea in her office with a dash of deep po...\n",
       "7      0                                                                                                                                                                                                                                                                                                                                                                                                   the film is based on a genuine 1950s novel journalist colin mcinnes wrote a set of three london novels absolute beginners city of spades and mr love and justice i have read all three the first two are excellent the last perhaps an experiment that did not come off but mcinness work is highly acclaimed and rightly so this musical is the novelists ultimate nightmare   to see the fruits of ones mind being turned into a glitzy badly acted soporific one dimensional apology of a film that says it captures the spirit of 1950s london and does nothing of the sort thank goodness colin mcinnes wasnt alive to witness it\n",
       "8      0  i really love the sexy action and sci fi films of the sixties and its because of the actresss that appeared in them they found the sexiest women to be in these films and it didnt matter if they could act remember candy the reason i was disappointed by this film was because it wasnt nostalgic enough the story here has a european sci fi film called dragonfly being made and the director is fired so the producers decide to let a young aspiring filmmaker jeremy davies to complete the picture theyre is one real beautiful woman in the film who plays dragonfly but shes barely in it film is written and directed by roman coppola who uses some of his fathers exploits from his early days and puts it into the script i wish the film could have been an homage to those early films they could have lots of cameos by actors who appeared in them there is one actor in this film who was popular from the sixties and its john phillip law barbarella gerard depardieu giancarlo giannini and dean stockwell ap...\n",
       "9      0                                                                                                                                                                                                                                                                                                                                         sure this one isnt really a blockbuster nor does it target such a position dieter is the first name of a quite popular german musician who is either loved or hated for his kind of acting and thats exactly what this movie is about it is based on the autobiography dieter bohlen wrote a few years ago but isnt meant to be accurate on that the movie is filled with some sexual offensive content at least for american standard which is either amusing not for the other actors of course or dumb   it depends on your individual kind of humor or on you being a bohlen fan or not technically speaking there isnt much to criticize speaking of me i find this movie to be an ok movie"
      ]
     },
     "execution_count": 9,
     "metadata": {},
     "output_type": "execute_result"
    }
   ],
   "source": [
    "pd.set_option('display.max_colwidth', 1000) #to view more of data in the data frame\n",
    "ds_train.head(10) #check the application of the function"
   ]
  },
  {
   "cell_type": "code",
   "execution_count": 10,
   "metadata": {
    "id": "XboBQQNzskMJ"
   },
   "outputs": [],
   "source": [
    "#split the data into X_train, y_train, X_test, y_test\n",
    "X_train = ds_train['text']\n",
    "y_train = ds_train['label']\n",
    "X_test = ds_test['text']\n",
    "y_test = ds_test['label']"
   ]
  },
  {
   "cell_type": "code",
   "execution_count": 11,
   "metadata": {
    "colab": {
     "base_uri": "https://localhost:8080/"
    },
    "id": "Srl192g5reqR",
    "outputId": "b7f041c9-1c8c-4682-a2f7-a5072466721a"
   },
   "outputs": [
    {
     "name": "stdout",
     "output_type": "stream",
     "text": [
      "[nltk_data] Downloading package stopwords to /root/nltk_data...\n",
      "[nltk_data]   Unzipping corpora/stopwords.zip.\n"
     ]
    }
   ],
   "source": [
    "#remove stopwords from test and train. We remove stopwords because since these words occour a lot and don't add much meaning to the sentences\n",
    "nltk.download('stopwords')\n",
    "english_stops = set(stopwords.words('english'))"
   ]
  },
  {
   "cell_type": "code",
   "execution_count": 12,
   "metadata": {
    "id": "tojyyOVruC7R"
   },
   "outputs": [],
   "source": [
    "X_test = X_test.replace({'[^A-Za-z]': ' '}, regex = True) #remove non alphabet for textual analysis\n",
    "X_test = X_test.apply(lambda text: [w for w in text.split() if w not in english_stops])  #remove stop words"
   ]
  },
  {
   "cell_type": "code",
   "execution_count": 13,
   "metadata": {
    "id": "SyjuR1jCtg74"
   },
   "outputs": [],
   "source": [
    "X_train = X_train.replace({'[^A-Za-z]': ' '}, regex = True)     #remove non alphabet for textual analysis\n",
    "X_train = X_train.apply(lambda text: [w for w in text.split() if w not in english_stops])  # remove stop words"
   ]
  },
  {
   "cell_type": "code",
   "execution_count": 14,
   "metadata": {
    "id": "t93iAt2eumZA"
   },
   "outputs": [],
   "source": [
    "#function to max_len for texts_to_sequences\n",
    "def get_maxlen():\n",
    "    review_len = []\n",
    "    for txt in X_train:\n",
    "        review_len.append(len(txt))\n",
    "    return int(np.ceil(np.mean(review_len)))\n",
    "    #we use the mean value of the lengths of the texts in the data\n",
    "    #mean is a bit higher than the meidan as median is 90 and mean is 122 hence i went with mean"
   ]
  },
  {
   "cell_type": "markdown",
   "metadata": {
    "id": "aeM70ZVZ4DrK"
   },
   "source": [
    "# Tokenization and Encoding Data"
   ]
  },
  {
   "cell_type": "code",
   "execution_count": 15,
   "metadata": {
    "colab": {
     "base_uri": "https://localhost:8080/"
    },
    "id": "hcyFe_7lvPGw",
    "outputId": "f446ae49-9ac5-4fc4-910a-99684f95d2ea"
   },
   "outputs": [
    {
     "name": "stdout",
     "output_type": "stream",
     "text": [
      "Encoded X Train\n",
      " [[  312   284     1 ...     0     0     0]\n",
      " [  451   674  2211 ...     0     0     0]\n",
      " [ 4198  5932 26692 ...     0     0     0]\n",
      " ...\n",
      " [  750    90    53 ...  4587   475  1171]\n",
      " [  116  1333   138 ...     0     0     0]\n",
      " [   18 16630   276 ...   294     7  4731]] \n",
      "\n",
      "Encoded X Test\n",
      " [[   25    23  3887 ...     0     0     0]\n",
      " [36686   571   662 ...     3 19996   603]\n",
      " [  504     1  1547 ...   111 20541   176]\n",
      " ...\n",
      " [28021     1   103 ...     0     0     0]\n",
      " [  492   745  8648 ...     0     0     0]\n",
      " [   20    23  2263 ...     0     0     0]] \n",
      "\n",
      "Maximum review length:  122\n"
     ]
    }
   ],
   "source": [
    "token = Tokenizer(lower=False)    # no need lower, because already lowered the data in load_data()\n",
    "token.fit_on_texts(X_train) #we fit it on train data it creates tokens using train data as its corpus\n",
    "X_train = token.texts_to_sequences(X_train) #it creates sequences using the tokens from the above fit_on_texts\n",
    "X_test = token.texts_to_sequences(X_test) #it uses the same tokens from the train part to create its sequences and removes the words from the sequence which are unique to test data\n",
    "\n",
    "max_length = get_maxlen() #it is the maximum length sentence for the analysis\n",
    "\n",
    "X_train = pad_sequences(X_train, maxlen=max_length, padding='post', truncating='post') #encoded x train, this makes the sequence of a fixed length of max len and truncates the sequence if its longer than max len and if it shorter it provides the sequence padding to make sequence of uniform max len\n",
    "X_test = pad_sequences(X_test, maxlen=max_length, padding='post', truncating='post') #encoded x test, it does the same to test data\n",
    "\n",
    "total_words = len(token.word_index) + 1   # add 1 because of 0 padding\n",
    "\n",
    "print('Encoded X Train\\n', X_train, '\\n')\n",
    "print('Encoded X Test\\n', X_test, '\\n')\n",
    "print('Maximum review length: ', max_length)"
   ]
  },
  {
   "cell_type": "code",
   "execution_count": 16,
   "metadata": {
    "colab": {
     "base_uri": "https://localhost:8080/"
    },
    "id": "zotyazb2zqij",
    "outputId": "baf213ee-50aa-4885-e9ca-a714df6a70ec"
   },
   "outputs": [
    {
     "data": {
      "text/plain": [
       "90275"
      ]
     },
     "execution_count": 16,
     "metadata": {},
     "output_type": "execute_result"
    }
   ],
   "source": [
    "total_words #total number of unique words in train"
   ]
  },
  {
   "cell_type": "markdown",
   "metadata": {
    "id": "tcA9aV9o4IpQ"
   },
   "source": [
    "# GloVe Embedding"
   ]
  },
  {
   "cell_type": "code",
   "execution_count": 17,
   "metadata": {
    "colab": {
     "base_uri": "https://localhost:8080/"
    },
    "id": "iWtRox7Vz5IN",
    "outputId": "beb26703-67d6-4cde-c789-96651c924d6c"
   },
   "outputs": [
    {
     "name": "stdout",
     "output_type": "stream",
     "text": [
      "--2021-12-07 20:00:57--  http://nlp.stanford.edu/data/glove.6B.zip\n",
      "Resolving nlp.stanford.edu (nlp.stanford.edu)... 171.64.67.140\n",
      "Connecting to nlp.stanford.edu (nlp.stanford.edu)|171.64.67.140|:80... connected.\n",
      "HTTP request sent, awaiting response... 302 Found\n",
      "Location: https://nlp.stanford.edu/data/glove.6B.zip [following]\n",
      "--2021-12-07 20:00:57--  https://nlp.stanford.edu/data/glove.6B.zip\n",
      "Connecting to nlp.stanford.edu (nlp.stanford.edu)|171.64.67.140|:443... connected.\n",
      "HTTP request sent, awaiting response... 301 Moved Permanently\n",
      "Location: http://downloads.cs.stanford.edu/nlp/data/glove.6B.zip [following]\n",
      "--2021-12-07 20:00:57--  http://downloads.cs.stanford.edu/nlp/data/glove.6B.zip\n",
      "Resolving downloads.cs.stanford.edu (downloads.cs.stanford.edu)... 171.64.64.22\n",
      "Connecting to downloads.cs.stanford.edu (downloads.cs.stanford.edu)|171.64.64.22|:80... connected.\n",
      "HTTP request sent, awaiting response... 200 OK\n",
      "Length: 862182613 (822M) [application/zip]\n",
      "Saving to: ‘glove.6B.zip’\n",
      "\n",
      "glove.6B.zip        100%[===================>] 822.24M  5.21MB/s    in 5m 48s  \n",
      "\n",
      "2021-12-07 20:06:50 (2.37 MB/s) - ‘glove.6B.zip’ saved [862182613/862182613]\n",
      "\n",
      "Archive:  glove.6B.zip\n",
      "  inflating: glove.6B.50d.txt        \n",
      "  inflating: glove.6B.100d.txt       \n",
      "  inflating: glove.6B.200d.txt       \n",
      "  inflating: glove.6B.300d.txt       \n"
     ]
    }
   ],
   "source": [
    "#downloading GloVe \n",
    "!wget http://nlp.stanford.edu/data/glove.6B.zip  \n",
    "!unzip glove.6B.zip"
   ]
  },
  {
   "cell_type": "code",
   "execution_count": 18,
   "metadata": {
    "colab": {
     "base_uri": "https://localhost:8080/"
    },
    "id": "4CZJkDOe0B0D",
    "outputId": "8109dcc8-3d80-43cb-af49-6314e5c3617b"
   },
   "outputs": [
    {
     "name": "stdout",
     "output_type": "stream",
     "text": [
      "Dictionary Size:  400000\n"
     ]
    }
   ],
   "source": [
    "#opening the glove file and putting in the dictionary of word as key and value as the vector values\n",
    "import numpy as np\n",
    "dictwv = {} \n",
    "with open('glove.6B.300d.txt', \"r\") as file:     \n",
    "    for line in file:         \n",
    "       tokens = line.split()      \n",
    "       word = tokens[0]         \n",
    "       vector = np.array(tokens[1:], dtype=np.float32) \n",
    "       if vector.shape[0] == 300:    \n",
    "           dictwv[word] = vector \n",
    "       else:      \n",
    "           print(\"There was an issue with \" + word) \n",
    "# let's check the vocabulary size \n",
    "print(\"Dictionary Size: \", len(dictwv)) "
   ]
  },
  {
   "cell_type": "code",
   "execution_count": 19,
   "metadata": {
    "id": "0aetgyFC0K0I"
   },
   "outputs": [],
   "source": [
    "#dimensions of the embed matrix\n",
    "embed_dim = 300  \n",
    "embed_matrix = np.zeros((total_words, embed_dim)) "
   ]
  },
  {
   "cell_type": "code",
   "execution_count": 20,
   "metadata": {
    "id": "RxjQK3cg1Oer"
   },
   "outputs": [],
   "source": [
    "word_index = token.word_index "
   ]
  },
  {
   "cell_type": "code",
   "execution_count": 21,
   "metadata": {
    "id": "JPA3kZE91-pv"
   },
   "outputs": [],
   "source": [
    "#find words and its respective embed vector value using tokens and giving the respective value for forming the matrix\n",
    "for word, i in word_index.items():\n",
    "    if i < total_words:\n",
    "        embd_vec = dictwv.get(word) #get the value for the word\n",
    "        if embd_vec is not None:\n",
    "            embed_matrix[i] = embd_vec #forming the matrix"
   ]
  },
  {
   "cell_type": "code",
   "execution_count": 22,
   "metadata": {
    "colab": {
     "base_uri": "https://localhost:8080/"
    },
    "id": "MhC4HY0D2TC8",
    "outputId": "29611d9b-3286-4a7a-ef21-1a180232a8b4"
   },
   "outputs": [
    {
     "data": {
      "text/plain": [
       "array([[ 0.        ,  0.        ,  0.        , ...,  0.        ,\n",
       "         0.        ,  0.        ],\n",
       "       [-0.138     , -0.12203   ,  0.0054643 , ...,  0.19934   ,\n",
       "         0.057473  , -0.023767  ],\n",
       "       [-0.030351  , -0.17344999, -0.097576  , ...,  0.26174   ,\n",
       "         0.083567  , -0.19064   ],\n",
       "       ...,\n",
       "       [ 0.61458999, -0.45030999,  0.51901001, ...,  0.37097001,\n",
       "         0.40219   , -0.5431    ],\n",
       "       [ 0.        ,  0.        ,  0.        , ...,  0.        ,\n",
       "         0.        ,  0.        ],\n",
       "       [ 0.        ,  0.        ,  0.        , ...,  0.        ,\n",
       "         0.        ,  0.        ]])"
      ]
     },
     "execution_count": 22,
     "metadata": {},
     "output_type": "execute_result"
    }
   ],
   "source": [
    "embed_matrix #embedding matrix which will be used to initialize the embedding layer"
   ]
  },
  {
   "cell_type": "markdown",
   "metadata": {
    "id": "Pn9sf6fU4RSB"
   },
   "source": [
    "# LSTM Model with GloVe"
   ]
  },
  {
   "cell_type": "code",
   "execution_count": null,
   "metadata": {
    "colab": {
     "base_uri": "https://localhost:8080/"
    },
    "id": "LDCokEr7vgPV",
    "outputId": "4a43cd63-ed02-4c91-d350-000dfa339c1c"
   },
   "outputs": [
    {
     "name": "stdout",
     "output_type": "stream",
     "text": [
      "WARNING:tensorflow:Layer lstm will not use cuDNN kernels since it doesn't meet the criteria. It will use a generic GPU kernel as fallback when running on GPU.\n"
     ]
    },
    {
     "name": "stderr",
     "output_type": "stream",
     "text": [
      "WARNING:tensorflow:Layer lstm will not use cuDNN kernels since it doesn't meet the criteria. It will use a generic GPU kernel as fallback when running on GPU.\n"
     ]
    },
    {
     "name": "stdout",
     "output_type": "stream",
     "text": [
      "Model: \"sequential\"\n",
      "_________________________________________________________________\n",
      " Layer (type)                Output Shape              Param #   \n",
      "=================================================================\n",
      " embedding (Embedding)       (None, 122, 300)          27081600  \n",
      "                                                                 \n",
      " lstm (LSTM)                 (None, 32)                42624     \n",
      "                                                                 \n",
      " dense (Dense)               (None, 1)                 33        \n",
      "                                                                 \n",
      "=================================================================\n",
      "Total params: 27,124,257\n",
      "Trainable params: 42,657\n",
      "Non-trainable params: 27,081,600\n",
      "_________________________________________________________________\n",
      "None\n"
     ]
    }
   ],
   "source": [
    "from keras.initializers import Constant\n",
    "LSTM_1 = 32 #lstm cells\n",
    "from keras import backend as K\n",
    "K.clear_session() #clear tensor\n",
    "\n",
    "model = Sequential() #instantiate the model\n",
    "model.add(Embedding(total_words, 300, embeddings_initializer = Constant(embed_matrix), input_length = max_length, trainable = False)) #we give the input and output dimensions of the embedding layer as the size of vocabulary as input dimension and 300 as the output dimension as its the size of matrix 300d further we initialize the weights of the layer as the embedding embedding matrix which is defined by GloVe and further we set the layer as trainable = false because we do not want the GloVe weights to change  \n",
    "model.add(LSTM(LSTM_1, dropout=0.3, recurrent_dropout=0.2)) #lstm, we use dropout and recurrent dropout since they have been found successful in textual analysis in lstms\n",
    "model.add(Dense(1, activation='sigmoid')) #we use dense =1 and activation = sigmoid since binary output\n",
    "model.compile(optimizer = 'rmsprop', loss = 'binary_crossentropy', metrics = ['accuracy'])  #we use binary_crossentropy because of the type of output metric as accuracy since the data set is balanced in negative and positive reviews and we settle on rms prop as optimizer beacuse it gave the best result compared to others\n",
    "\n",
    "print(model.summary()) #summary"
   ]
  },
  {
   "cell_type": "code",
   "execution_count": null,
   "metadata": {
    "colab": {
     "base_uri": "https://localhost:8080/"
    },
    "id": "J6hVZ_7RvskW",
    "outputId": "f7c94818-3601-4b65-fed0-ccd97249fc56"
   },
   "outputs": [
    {
     "name": "stdout",
     "output_type": "stream",
     "text": [
      "Epoch 1/30\n",
      "196/196 [==============================] - 130s 643ms/step - loss: 0.5867 - accuracy: 0.6882\n",
      "Epoch 2/30\n",
      "196/196 [==============================] - 125s 638ms/step - loss: 0.4791 - accuracy: 0.7858\n",
      "Epoch 3/30\n",
      "196/196 [==============================] - 125s 640ms/step - loss: 0.4367 - accuracy: 0.8030\n",
      "Epoch 4/30\n",
      "196/196 [==============================] - 125s 639ms/step - loss: 0.4148 - accuracy: 0.8203\n",
      "Epoch 5/30\n",
      "196/196 [==============================] - 124s 634ms/step - loss: 0.3940 - accuracy: 0.8316\n",
      "Epoch 6/30\n",
      "196/196 [==============================] - 126s 643ms/step - loss: 0.3767 - accuracy: 0.8384\n",
      "Epoch 7/30\n",
      "196/196 [==============================] - 125s 637ms/step - loss: 0.3643 - accuracy: 0.8418\n",
      "Epoch 8/30\n",
      "196/196 [==============================] - 125s 636ms/step - loss: 0.3438 - accuracy: 0.8537\n",
      "Epoch 9/30\n",
      "196/196 [==============================] - 124s 634ms/step - loss: 0.3398 - accuracy: 0.8571\n",
      "Epoch 10/30\n",
      "196/196 [==============================] - 125s 638ms/step - loss: 0.3267 - accuracy: 0.8636\n",
      "Epoch 11/30\n",
      "196/196 [==============================] - 126s 644ms/step - loss: 0.3175 - accuracy: 0.8664\n",
      "Epoch 12/30\n",
      "196/196 [==============================] - 126s 641ms/step - loss: 0.3139 - accuracy: 0.8688\n",
      "Epoch 13/30\n",
      "196/196 [==============================] - 125s 636ms/step - loss: 0.3018 - accuracy: 0.8732\n",
      "Epoch 14/30\n",
      "196/196 [==============================] - 125s 637ms/step - loss: 0.2932 - accuracy: 0.8760\n",
      "Epoch 15/30\n",
      "196/196 [==============================] - 125s 637ms/step - loss: 0.2862 - accuracy: 0.8833\n",
      "Epoch 16/30\n",
      "196/196 [==============================] - 125s 639ms/step - loss: 0.2831 - accuracy: 0.8824\n",
      "Epoch 17/30\n",
      "196/196 [==============================] - 127s 647ms/step - loss: 0.2746 - accuracy: 0.8880\n",
      "Epoch 18/30\n",
      "196/196 [==============================] - 128s 655ms/step - loss: 0.2699 - accuracy: 0.8903\n",
      "Epoch 19/30\n",
      "196/196 [==============================] - 127s 649ms/step - loss: 0.2652 - accuracy: 0.8932\n",
      "Epoch 20/30\n",
      "196/196 [==============================] - 127s 649ms/step - loss: 0.2603 - accuracy: 0.8950\n",
      "Epoch 21/30\n",
      "196/196 [==============================] - 128s 653ms/step - loss: 0.2555 - accuracy: 0.8975\n",
      "Epoch 22/30\n",
      "196/196 [==============================] - 127s 646ms/step - loss: 0.2495 - accuracy: 0.8994\n",
      "Epoch 23/30\n",
      "196/196 [==============================] - 126s 643ms/step - loss: 0.2467 - accuracy: 0.9006\n",
      "Epoch 24/30\n",
      "196/196 [==============================] - 128s 652ms/step - loss: 0.2345 - accuracy: 0.9054\n",
      "Epoch 25/30\n",
      "196/196 [==============================] - 127s 650ms/step - loss: 0.2355 - accuracy: 0.9056\n",
      "Epoch 26/30\n",
      "196/196 [==============================] - 128s 653ms/step - loss: 0.2318 - accuracy: 0.9095\n",
      "Epoch 27/30\n",
      "196/196 [==============================] - 127s 650ms/step - loss: 0.2279 - accuracy: 0.9096\n",
      "Epoch 28/30\n",
      "196/196 [==============================] - 128s 655ms/step - loss: 0.2257 - accuracy: 0.9086\n",
      "Epoch 29/30\n",
      "196/196 [==============================] - 127s 649ms/step - loss: 0.2226 - accuracy: 0.9135\n",
      "Epoch 30/30\n",
      "196/196 [==============================] - 128s 654ms/step - loss: 0.2190 - accuracy: 0.9128\n"
     ]
    }
   ],
   "source": [
    "history = model.fit(X_train, y_train, batch_size = 128, epochs = 30) #model training"
   ]
  },
  {
   "cell_type": "code",
   "execution_count": null,
   "metadata": {
    "colab": {
     "base_uri": "https://localhost:8080/"
    },
    "id": "u932H-DCwEv9",
    "outputId": "ef9d23d7-2a6b-4748-9d9c-4157e6801f9b"
   },
   "outputs": [
    {
     "name": "stdout",
     "output_type": "stream",
     "text": [
      "196/196 [==============================] - 11s 55ms/step - loss: 0.3510 - accuracy: 0.8653\n"
     ]
    }
   ],
   "source": [
    "score, accu = model.evaluate(X_test, y_test,\n",
    "                            batch_size=128) #testing the model\n"
   ]
  },
  {
   "cell_type": "code",
   "execution_count": null,
   "metadata": {
    "colab": {
     "base_uri": "https://localhost:8080/"
    },
    "id": "-2pPzT0qxBjB",
    "outputId": "4b53fb33-3414-4840-e948-570977de8077"
   },
   "outputs": [
    {
     "name": "stdout",
     "output_type": "stream",
     "text": [
      "Test accuracy: 0.8653200268745422\n"
     ]
    }
   ],
   "source": [
    "print('Test accuracy:', accu)"
   ]
  },
  {
   "cell_type": "code",
   "execution_count": null,
   "metadata": {
    "id": "eoxSQTfY0rFF"
   },
   "outputs": [],
   "source": [
    "#Test accuracy 83.1 for 100 lstm 50d no dropout 20 epoch adam\n",
    "#Test accuracy 83.6 for 100 lstm 100d no dropout 20 epoch adam\n",
    "#Test accuracy 84.8 for 32 lstm 100d dropout 0.2 20 epoch adam\n",
    "#Test accuracy 85.11 for 32 lstm 100d dropout 0.2 20 epoch rmsprop\n",
    "#Test accuracy 85 for 32 lstm 100d dropout 0.2 20 epoch nadam\n",
    "#Test accuracy 85.5  32 lstm 300d dropout 0.2 20 epoch nadam\n",
    "#Test accuracy 85.5 32 lstm 300d dropout 0.2 20 epoch rmsprop\n",
    "#Test accuracy 86 32 lstm 300d dropout 0.3 20 epoch rmsprop\n",
    "#Test accuracy 86.3 32 lstm 300d dropout 0.3 30 epoch rmsprop\n",
    "#Test accuracy 86.5 32 lstm 300d dropout 0.3, recurrent 0.2 30 epoch rmsprop\n"
   ]
  },
  {
   "cell_type": "markdown",
   "metadata": {
    "id": "40FSePqBH2xB"
   },
   "source": [
    "# Bidirectional LSTM\n",
    "\n",
    "Bidirectional models try to understand the context of the sentence from left to right and right to left and later concatenate it. Which makes a worthwhile approach to try in this scenario."
   ]
  },
  {
   "cell_type": "code",
   "execution_count": 56,
   "metadata": {
    "colab": {
     "base_uri": "https://localhost:8080/"
    },
    "id": "dmpgDgiDHI9q",
    "outputId": "6575c1d8-2063-4b1b-d5cc-09a0950a0228"
   },
   "outputs": [
    {
     "name": "stdout",
     "output_type": "stream",
     "text": [
      "Model: \"sequential\"\n",
      "_________________________________________________________________\n",
      " Layer (type)                Output Shape              Param #   \n",
      "=================================================================\n",
      " embedding (Embedding)       (None, 122, 300)          27082500  \n",
      "                                                                 \n",
      " bidirectional (Bidirectiona  (None, 122, 64)          85248     \n",
      " l)                                                              \n",
      "                                                                 \n",
      " bidirectional_1 (Bidirectio  (None, 64)               24832     \n",
      " nal)                                                            \n",
      "                                                                 \n",
      " dense (Dense)               (None, 1)                 65        \n",
      "                                                                 \n",
      "=================================================================\n",
      "Total params: 27,192,645\n",
      "Trainable params: 110,145\n",
      "Non-trainable params: 27,082,500\n",
      "_________________________________________________________________\n",
      "None\n"
     ]
    }
   ],
   "source": [
    "from keras.initializers import Constant\n",
    "LSTM_1 = 32 #lstm cells\n",
    "from keras import backend as K\n",
    "K.clear_session() #clear tensor\n",
    "\n",
    "model = Sequential() #instantiate the model\n",
    "model.add(Embedding(total_words, 300, embeddings_initializer = Constant(embed_matrix), input_length = max_length, trainable = False)) #we give the input and output dimensions of the embedding layer as the size of vocabulary as input dimension and 300 as the output dimension as its the size of matrix 300d further we initialize the weights of the layer as the embedding embedding matrix which is defined by GloVe and further we set the layer as trainable = false because we do not want the GloVe weights to change  \n",
    "model.add(Bidirectional(LSTM(LSTM_1, return_sequences=True))) #Bidirectional Layer\n",
    "model.add(Bidirectional(LSTM(LSTM_1))) #bidirectional later\n",
    "model.add(Dense(1, activation='sigmoid')) #since binary output we use dense 1 and sigmoid as activation\n",
    "model.compile(optimizer = 'rmsprop', loss = 'binary_crossentropy', metrics = ['accuracy'])  #we use binary_crossentropy because of the type of output metric as accuracy since the data set is balanced in negative and positive reviews and we settle on rms prop as optimizer beacuse it gave the best result compared to others\n",
    "\n",
    "print(model.summary())"
   ]
  },
  {
   "cell_type": "code",
   "execution_count": 57,
   "metadata": {
    "colab": {
     "base_uri": "https://localhost:8080/"
    },
    "id": "ic6NGBTdLUkV",
    "outputId": "324e8b42-08fb-4238-c960-787c688b2fdb"
   },
   "outputs": [
    {
     "name": "stdout",
     "output_type": "stream",
     "text": [
      "Epoch 1/6\n",
      "196/196 [==============================] - 30s 112ms/step - loss: 0.4921 - accuracy: 0.7655\n",
      "Epoch 2/6\n",
      "196/196 [==============================] - 22s 111ms/step - loss: 0.3893 - accuracy: 0.8286\n",
      "Epoch 3/6\n",
      "196/196 [==============================] - 22s 111ms/step - loss: 0.3530 - accuracy: 0.8469\n",
      "Epoch 4/6\n",
      "196/196 [==============================] - 22s 112ms/step - loss: 0.3296 - accuracy: 0.8606\n",
      "Epoch 5/6\n",
      "196/196 [==============================] - 22s 112ms/step - loss: 0.3051 - accuracy: 0.8743\n",
      "Epoch 6/6\n",
      "196/196 [==============================] - 22s 111ms/step - loss: 0.2862 - accuracy: 0.8812\n"
     ]
    }
   ],
   "source": [
    "history = model.fit(X_train, y_train, batch_size = 128, epochs = 6) #model training, bidirectional models overfit quite quickly hence we keep less epochs"
   ]
  },
  {
   "cell_type": "code",
   "execution_count": 58,
   "metadata": {
    "colab": {
     "base_uri": "https://localhost:8080/"
    },
    "id": "LRHHWZ_XHnAn",
    "outputId": "19388125-e218-4abd-c4b7-d1c21cf54a6b"
   },
   "outputs": [
    {
     "name": "stdout",
     "output_type": "stream",
     "text": [
      "196/196 [==============================] - 12s 52ms/step - loss: 0.3368 - accuracy: 0.8523\n"
     ]
    }
   ],
   "source": [
    "score, accu = model.evaluate(X_test, y_test,\n",
    "                            batch_size=128) #testing the model"
   ]
  },
  {
   "cell_type": "code",
   "execution_count": 60,
   "metadata": {
    "colab": {
     "base_uri": "https://localhost:8080/"
    },
    "id": "CyyF5pV4Hvbt",
    "outputId": "1432219d-6b14-4277-9f33-80a9a4c57ace"
   },
   "outputs": [
    {
     "name": "stdout",
     "output_type": "stream",
     "text": [
      "Test accuracy: 0.8522800207138062\n"
     ]
    }
   ],
   "source": [
    "print('Test accuracy:', accu)"
   ]
  },
  {
   "cell_type": "markdown",
   "metadata": {
    "id": "j78JCZR6t8t8"
   },
   "source": [
    "# Conclusion\n",
    "\n",
    "With GloVe embeddings the standard LSTM (86.5) performs a bit better compared to without glove embedding (85.3)\n",
    "Bidirectional LSTMs are both at similar level (85.2 and 85.6) in this case in terms of accuracy. \n",
    "\n",
    "Bidirectional LSTM in this case is much more efficient compared to standard LSTM with GloVe because it requires a 24 less epochs to reach the similar accuracy as the standard LSTM."
   ]
  },
  {
   "cell_type": "code",
   "execution_count": null,
   "metadata": {
    "id": "3vQ0_F-vhONn"
   },
   "outputs": [],
   "source": []
  }
 ],
 "metadata": {
  "accelerator": "GPU",
  "colab": {
   "collapsed_sections": [],
   "name": "Final_IMDB_GloVe_LSTM_Naman.ipynb",
   "provenance": []
  },
  "kernelspec": {
   "display_name": "Python 3",
   "language": "python",
   "name": "python3"
  },
  "language_info": {
   "codemirror_mode": {
    "name": "ipython",
    "version": 3
   },
   "file_extension": ".py",
   "mimetype": "text/x-python",
   "name": "python",
   "nbconvert_exporter": "python",
   "pygments_lexer": "ipython3",
   "version": "3.7.8"
  },
  "widgets": {
   "application/vnd.jupyter.widget-state+json": {
    "06366f1aace648d48b5a95cd439392b1": {
     "model_module": "@jupyter-widgets/controls",
     "model_module_version": "1.5.0",
     "model_name": "DescriptionStyleModel",
     "state": {
      "_model_module": "@jupyter-widgets/controls",
      "_model_module_version": "1.5.0",
      "_model_name": "DescriptionStyleModel",
      "_view_count": null,
      "_view_module": "@jupyter-widgets/base",
      "_view_module_version": "1.2.0",
      "_view_name": "StyleView",
      "description_width": ""
     }
    },
    "08976e2be846448d860ba70173703d99": {
     "model_module": "@jupyter-widgets/base",
     "model_module_version": "1.2.0",
     "model_name": "LayoutModel",
     "state": {
      "_model_module": "@jupyter-widgets/base",
      "_model_module_version": "1.2.0",
      "_model_name": "LayoutModel",
      "_view_count": null,
      "_view_module": "@jupyter-widgets/base",
      "_view_module_version": "1.2.0",
      "_view_name": "LayoutView",
      "align_content": null,
      "align_items": null,
      "align_self": null,
      "border": null,
      "bottom": null,
      "display": null,
      "flex": null,
      "flex_flow": null,
      "grid_area": null,
      "grid_auto_columns": null,
      "grid_auto_flow": null,
      "grid_auto_rows": null,
      "grid_column": null,
      "grid_gap": null,
      "grid_row": null,
      "grid_template_areas": null,
      "grid_template_columns": null,
      "grid_template_rows": null,
      "height": null,
      "justify_content": null,
      "justify_items": null,
      "left": null,
      "margin": null,
      "max_height": null,
      "max_width": null,
      "min_height": null,
      "min_width": null,
      "object_fit": null,
      "object_position": null,
      "order": null,
      "overflow": null,
      "overflow_x": null,
      "overflow_y": null,
      "padding": null,
      "right": null,
      "top": null,
      "visibility": null,
      "width": null
     }
    },
    "0a2f764e4f5a48d9b3eb74dc0be6c9ee": {
     "model_module": "@jupyter-widgets/base",
     "model_module_version": "1.2.0",
     "model_name": "LayoutModel",
     "state": {
      "_model_module": "@jupyter-widgets/base",
      "_model_module_version": "1.2.0",
      "_model_name": "LayoutModel",
      "_view_count": null,
      "_view_module": "@jupyter-widgets/base",
      "_view_module_version": "1.2.0",
      "_view_name": "LayoutView",
      "align_content": null,
      "align_items": null,
      "align_self": null,
      "border": null,
      "bottom": null,
      "display": null,
      "flex": null,
      "flex_flow": null,
      "grid_area": null,
      "grid_auto_columns": null,
      "grid_auto_flow": null,
      "grid_auto_rows": null,
      "grid_column": null,
      "grid_gap": null,
      "grid_row": null,
      "grid_template_areas": null,
      "grid_template_columns": null,
      "grid_template_rows": null,
      "height": null,
      "justify_content": null,
      "justify_items": null,
      "left": null,
      "margin": null,
      "max_height": null,
      "max_width": null,
      "min_height": null,
      "min_width": null,
      "object_fit": null,
      "object_position": null,
      "order": null,
      "overflow": null,
      "overflow_x": null,
      "overflow_y": null,
      "padding": null,
      "right": null,
      "top": null,
      "visibility": null,
      "width": null
     }
    },
    "0c509b3f36044cf8bd8d2b89d2bf575a": {
     "model_module": "@jupyter-widgets/base",
     "model_module_version": "1.2.0",
     "model_name": "LayoutModel",
     "state": {
      "_model_module": "@jupyter-widgets/base",
      "_model_module_version": "1.2.0",
      "_model_name": "LayoutModel",
      "_view_count": null,
      "_view_module": "@jupyter-widgets/base",
      "_view_module_version": "1.2.0",
      "_view_name": "LayoutView",
      "align_content": null,
      "align_items": null,
      "align_self": null,
      "border": null,
      "bottom": null,
      "display": null,
      "flex": null,
      "flex_flow": null,
      "grid_area": null,
      "grid_auto_columns": null,
      "grid_auto_flow": null,
      "grid_auto_rows": null,
      "grid_column": null,
      "grid_gap": null,
      "grid_row": null,
      "grid_template_areas": null,
      "grid_template_columns": null,
      "grid_template_rows": null,
      "height": null,
      "justify_content": null,
      "justify_items": null,
      "left": null,
      "margin": null,
      "max_height": null,
      "max_width": null,
      "min_height": null,
      "min_width": null,
      "object_fit": null,
      "object_position": null,
      "order": null,
      "overflow": null,
      "overflow_x": null,
      "overflow_y": null,
      "padding": null,
      "right": null,
      "top": null,
      "visibility": null,
      "width": null
     }
    },
    "0e04f8b8f4d346179593eacae762661a": {
     "model_module": "@jupyter-widgets/controls",
     "model_module_version": "1.5.0",
     "model_name": "DescriptionStyleModel",
     "state": {
      "_model_module": "@jupyter-widgets/controls",
      "_model_module_version": "1.5.0",
      "_model_name": "DescriptionStyleModel",
      "_view_count": null,
      "_view_module": "@jupyter-widgets/base",
      "_view_module_version": "1.2.0",
      "_view_name": "StyleView",
      "description_width": ""
     }
    },
    "1170c37614f241bf9b686426159edf2d": {
     "model_module": "@jupyter-widgets/base",
     "model_module_version": "1.2.0",
     "model_name": "LayoutModel",
     "state": {
      "_model_module": "@jupyter-widgets/base",
      "_model_module_version": "1.2.0",
      "_model_name": "LayoutModel",
      "_view_count": null,
      "_view_module": "@jupyter-widgets/base",
      "_view_module_version": "1.2.0",
      "_view_name": "LayoutView",
      "align_content": null,
      "align_items": null,
      "align_self": null,
      "border": null,
      "bottom": null,
      "display": null,
      "flex": null,
      "flex_flow": null,
      "grid_area": null,
      "grid_auto_columns": null,
      "grid_auto_flow": null,
      "grid_auto_rows": null,
      "grid_column": null,
      "grid_gap": null,
      "grid_row": null,
      "grid_template_areas": null,
      "grid_template_columns": null,
      "grid_template_rows": null,
      "height": null,
      "justify_content": null,
      "justify_items": null,
      "left": null,
      "margin": null,
      "max_height": null,
      "max_width": null,
      "min_height": null,
      "min_width": null,
      "object_fit": null,
      "object_position": null,
      "order": null,
      "overflow": null,
      "overflow_x": null,
      "overflow_y": null,
      "padding": null,
      "right": null,
      "top": null,
      "visibility": null,
      "width": null
     }
    },
    "125811f6005d4ede91e1429e7e8c4c6a": {
     "model_module": "@jupyter-widgets/controls",
     "model_module_version": "1.5.0",
     "model_name": "HBoxModel",
     "state": {
      "_dom_classes": [],
      "_model_module": "@jupyter-widgets/controls",
      "_model_module_version": "1.5.0",
      "_model_name": "HBoxModel",
      "_view_count": null,
      "_view_module": "@jupyter-widgets/controls",
      "_view_module_version": "1.5.0",
      "_view_name": "HBoxView",
      "box_style": "",
      "children": [
       "IPY_MODEL_58f32ec83232499385a9dc75d5c3e48f",
       "IPY_MODEL_ca1302c7e5074ba4962268a19cd573e6",
       "IPY_MODEL_a3ee1af603db46f4a57b3a997225a4f6"
      ],
      "layout": "IPY_MODEL_7681fd2aaf92405d8bf452c7a6c806e9"
     }
    },
    "159c47c4d8f04621b9d342740ac55b93": {
     "model_module": "@jupyter-widgets/base",
     "model_module_version": "1.2.0",
     "model_name": "LayoutModel",
     "state": {
      "_model_module": "@jupyter-widgets/base",
      "_model_module_version": "1.2.0",
      "_model_name": "LayoutModel",
      "_view_count": null,
      "_view_module": "@jupyter-widgets/base",
      "_view_module_version": "1.2.0",
      "_view_name": "LayoutView",
      "align_content": null,
      "align_items": null,
      "align_self": null,
      "border": null,
      "bottom": null,
      "display": null,
      "flex": null,
      "flex_flow": null,
      "grid_area": null,
      "grid_auto_columns": null,
      "grid_auto_flow": null,
      "grid_auto_rows": null,
      "grid_column": null,
      "grid_gap": null,
      "grid_row": null,
      "grid_template_areas": null,
      "grid_template_columns": null,
      "grid_template_rows": null,
      "height": null,
      "justify_content": null,
      "justify_items": null,
      "left": null,
      "margin": null,
      "max_height": null,
      "max_width": null,
      "min_height": null,
      "min_width": null,
      "object_fit": null,
      "object_position": null,
      "order": null,
      "overflow": null,
      "overflow_x": null,
      "overflow_y": null,
      "padding": null,
      "right": null,
      "top": null,
      "visibility": null,
      "width": null
     }
    },
    "16c87174b6ef42ff954fe22a3ecad34c": {
     "model_module": "@jupyter-widgets/base",
     "model_module_version": "1.2.0",
     "model_name": "LayoutModel",
     "state": {
      "_model_module": "@jupyter-widgets/base",
      "_model_module_version": "1.2.0",
      "_model_name": "LayoutModel",
      "_view_count": null,
      "_view_module": "@jupyter-widgets/base",
      "_view_module_version": "1.2.0",
      "_view_name": "LayoutView",
      "align_content": null,
      "align_items": null,
      "align_self": null,
      "border": null,
      "bottom": null,
      "display": null,
      "flex": null,
      "flex_flow": null,
      "grid_area": null,
      "grid_auto_columns": null,
      "grid_auto_flow": null,
      "grid_auto_rows": null,
      "grid_column": null,
      "grid_gap": null,
      "grid_row": null,
      "grid_template_areas": null,
      "grid_template_columns": null,
      "grid_template_rows": null,
      "height": null,
      "justify_content": null,
      "justify_items": null,
      "left": null,
      "margin": null,
      "max_height": null,
      "max_width": null,
      "min_height": null,
      "min_width": null,
      "object_fit": null,
      "object_position": null,
      "order": null,
      "overflow": null,
      "overflow_x": null,
      "overflow_y": null,
      "padding": null,
      "right": null,
      "top": null,
      "visibility": null,
      "width": null
     }
    },
    "17b89703748f41e0b72b50fc01bc216b": {
     "model_module": "@jupyter-widgets/base",
     "model_module_version": "1.2.0",
     "model_name": "LayoutModel",
     "state": {
      "_model_module": "@jupyter-widgets/base",
      "_model_module_version": "1.2.0",
      "_model_name": "LayoutModel",
      "_view_count": null,
      "_view_module": "@jupyter-widgets/base",
      "_view_module_version": "1.2.0",
      "_view_name": "LayoutView",
      "align_content": null,
      "align_items": null,
      "align_self": null,
      "border": null,
      "bottom": null,
      "display": null,
      "flex": null,
      "flex_flow": null,
      "grid_area": null,
      "grid_auto_columns": null,
      "grid_auto_flow": null,
      "grid_auto_rows": null,
      "grid_column": null,
      "grid_gap": null,
      "grid_row": null,
      "grid_template_areas": null,
      "grid_template_columns": null,
      "grid_template_rows": null,
      "height": null,
      "justify_content": null,
      "justify_items": null,
      "left": null,
      "margin": null,
      "max_height": null,
      "max_width": null,
      "min_height": null,
      "min_width": null,
      "object_fit": null,
      "object_position": null,
      "order": null,
      "overflow": null,
      "overflow_x": null,
      "overflow_y": null,
      "padding": null,
      "right": null,
      "top": null,
      "visibility": null,
      "width": "20px"
     }
    },
    "18525ba2c86347c68fcca7c921cc46e1": {
     "model_module": "@jupyter-widgets/base",
     "model_module_version": "1.2.0",
     "model_name": "LayoutModel",
     "state": {
      "_model_module": "@jupyter-widgets/base",
      "_model_module_version": "1.2.0",
      "_model_name": "LayoutModel",
      "_view_count": null,
      "_view_module": "@jupyter-widgets/base",
      "_view_module_version": "1.2.0",
      "_view_name": "LayoutView",
      "align_content": null,
      "align_items": null,
      "align_self": null,
      "border": null,
      "bottom": null,
      "display": null,
      "flex": null,
      "flex_flow": null,
      "grid_area": null,
      "grid_auto_columns": null,
      "grid_auto_flow": null,
      "grid_auto_rows": null,
      "grid_column": null,
      "grid_gap": null,
      "grid_row": null,
      "grid_template_areas": null,
      "grid_template_columns": null,
      "grid_template_rows": null,
      "height": null,
      "justify_content": null,
      "justify_items": null,
      "left": null,
      "margin": null,
      "max_height": null,
      "max_width": null,
      "min_height": null,
      "min_width": null,
      "object_fit": null,
      "object_position": null,
      "order": null,
      "overflow": null,
      "overflow_x": null,
      "overflow_y": null,
      "padding": null,
      "right": null,
      "top": null,
      "visibility": null,
      "width": null
     }
    },
    "18d23b1105f743e39398daa5f1da664f": {
     "model_module": "@jupyter-widgets/controls",
     "model_module_version": "1.5.0",
     "model_name": "HTMLModel",
     "state": {
      "_dom_classes": [],
      "_model_module": "@jupyter-widgets/controls",
      "_model_module_version": "1.5.0",
      "_model_name": "HTMLModel",
      "_view_count": null,
      "_view_module": "@jupyter-widgets/controls",
      "_view_module_version": "1.5.0",
      "_view_name": "HTMLView",
      "description": "",
      "description_tooltip": null,
      "layout": "IPY_MODEL_96196d095bb5432cbace8dc50c93a48c",
      "placeholder": "​",
      "style": "IPY_MODEL_b74313e4cdbd40aaa0a0dbeccea6da74",
      "value": " 80/80 [00:02&lt;00:00, 40.36 MiB/s]"
     }
    },
    "1a987be51a934f1ebee6829b07317550": {
     "model_module": "@jupyter-widgets/controls",
     "model_module_version": "1.5.0",
     "model_name": "DescriptionStyleModel",
     "state": {
      "_model_module": "@jupyter-widgets/controls",
      "_model_module_version": "1.5.0",
      "_model_name": "DescriptionStyleModel",
      "_view_count": null,
      "_view_module": "@jupyter-widgets/base",
      "_view_module_version": "1.2.0",
      "_view_name": "StyleView",
      "description_width": ""
     }
    },
    "1bb3b0f7a4444a12a3aa471af1646ced": {
     "model_module": "@jupyter-widgets/base",
     "model_module_version": "1.2.0",
     "model_name": "LayoutModel",
     "state": {
      "_model_module": "@jupyter-widgets/base",
      "_model_module_version": "1.2.0",
      "_model_name": "LayoutModel",
      "_view_count": null,
      "_view_module": "@jupyter-widgets/base",
      "_view_module_version": "1.2.0",
      "_view_name": "LayoutView",
      "align_content": null,
      "align_items": null,
      "align_self": null,
      "border": null,
      "bottom": null,
      "display": null,
      "flex": null,
      "flex_flow": null,
      "grid_area": null,
      "grid_auto_columns": null,
      "grid_auto_flow": null,
      "grid_auto_rows": null,
      "grid_column": null,
      "grid_gap": null,
      "grid_row": null,
      "grid_template_areas": null,
      "grid_template_columns": null,
      "grid_template_rows": null,
      "height": null,
      "justify_content": null,
      "justify_items": null,
      "left": null,
      "margin": null,
      "max_height": null,
      "max_width": null,
      "min_height": null,
      "min_width": null,
      "object_fit": null,
      "object_position": null,
      "order": null,
      "overflow": null,
      "overflow_x": null,
      "overflow_y": null,
      "padding": null,
      "right": null,
      "top": null,
      "visibility": null,
      "width": null
     }
    },
    "24a9b04544894ffe900f0691f8fb2eac": {
     "model_module": "@jupyter-widgets/controls",
     "model_module_version": "1.5.0",
     "model_name": "DescriptionStyleModel",
     "state": {
      "_model_module": "@jupyter-widgets/controls",
      "_model_module_version": "1.5.0",
      "_model_name": "DescriptionStyleModel",
      "_view_count": null,
      "_view_module": "@jupyter-widgets/base",
      "_view_module_version": "1.2.0",
      "_view_name": "StyleView",
      "description_width": ""
     }
    },
    "26869a143f0b4c12a092645dcd10736b": {
     "model_module": "@jupyter-widgets/controls",
     "model_module_version": "1.5.0",
     "model_name": "HTMLModel",
     "state": {
      "_dom_classes": [],
      "_model_module": "@jupyter-widgets/controls",
      "_model_module_version": "1.5.0",
      "_model_name": "HTMLModel",
      "_view_count": null,
      "_view_module": "@jupyter-widgets/controls",
      "_view_module_version": "1.5.0",
      "_view_name": "HTMLView",
      "description": "",
      "description_tooltip": null,
      "layout": "IPY_MODEL_28dc496a7a7a4bf3aba69734c3ac0cac",
      "placeholder": "​",
      "style": "IPY_MODEL_1a987be51a934f1ebee6829b07317550",
      "value": ""
     }
    },
    "28dc496a7a7a4bf3aba69734c3ac0cac": {
     "model_module": "@jupyter-widgets/base",
     "model_module_version": "1.2.0",
     "model_name": "LayoutModel",
     "state": {
      "_model_module": "@jupyter-widgets/base",
      "_model_module_version": "1.2.0",
      "_model_name": "LayoutModel",
      "_view_count": null,
      "_view_module": "@jupyter-widgets/base",
      "_view_module_version": "1.2.0",
      "_view_name": "LayoutView",
      "align_content": null,
      "align_items": null,
      "align_self": null,
      "border": null,
      "bottom": null,
      "display": null,
      "flex": null,
      "flex_flow": null,
      "grid_area": null,
      "grid_auto_columns": null,
      "grid_auto_flow": null,
      "grid_auto_rows": null,
      "grid_column": null,
      "grid_gap": null,
      "grid_row": null,
      "grid_template_areas": null,
      "grid_template_columns": null,
      "grid_template_rows": null,
      "height": null,
      "justify_content": null,
      "justify_items": null,
      "left": null,
      "margin": null,
      "max_height": null,
      "max_width": null,
      "min_height": null,
      "min_width": null,
      "object_fit": null,
      "object_position": null,
      "order": null,
      "overflow": null,
      "overflow_x": null,
      "overflow_y": null,
      "padding": null,
      "right": null,
      "top": null,
      "visibility": null,
      "width": null
     }
    },
    "291235e30e3447ae86a21ea6eee3aa50": {
     "model_module": "@jupyter-widgets/base",
     "model_module_version": "1.2.0",
     "model_name": "LayoutModel",
     "state": {
      "_model_module": "@jupyter-widgets/base",
      "_model_module_version": "1.2.0",
      "_model_name": "LayoutModel",
      "_view_count": null,
      "_view_module": "@jupyter-widgets/base",
      "_view_module_version": "1.2.0",
      "_view_name": "LayoutView",
      "align_content": null,
      "align_items": null,
      "align_self": null,
      "border": null,
      "bottom": null,
      "display": null,
      "flex": null,
      "flex_flow": null,
      "grid_area": null,
      "grid_auto_columns": null,
      "grid_auto_flow": null,
      "grid_auto_rows": null,
      "grid_column": null,
      "grid_gap": null,
      "grid_row": null,
      "grid_template_areas": null,
      "grid_template_columns": null,
      "grid_template_rows": null,
      "height": null,
      "justify_content": null,
      "justify_items": null,
      "left": null,
      "margin": null,
      "max_height": null,
      "max_width": null,
      "min_height": null,
      "min_width": null,
      "object_fit": null,
      "object_position": null,
      "order": null,
      "overflow": null,
      "overflow_x": null,
      "overflow_y": null,
      "padding": null,
      "right": null,
      "top": null,
      "visibility": null,
      "width": null
     }
    },
    "2942736907bd4027b1510f90d8c2fc70": {
     "model_module": "@jupyter-widgets/controls",
     "model_module_version": "1.5.0",
     "model_name": "ProgressStyleModel",
     "state": {
      "_model_module": "@jupyter-widgets/controls",
      "_model_module_version": "1.5.0",
      "_model_name": "ProgressStyleModel",
      "_view_count": null,
      "_view_module": "@jupyter-widgets/base",
      "_view_module_version": "1.2.0",
      "_view_name": "StyleView",
      "bar_color": null,
      "description_width": ""
     }
    },
    "2bab47ad028549c0b9e690797177ca3e": {
     "model_module": "@jupyter-widgets/controls",
     "model_module_version": "1.5.0",
     "model_name": "FloatProgressModel",
     "state": {
      "_dom_classes": [],
      "_model_module": "@jupyter-widgets/controls",
      "_model_module_version": "1.5.0",
      "_model_name": "FloatProgressModel",
      "_view_count": null,
      "_view_module": "@jupyter-widgets/controls",
      "_view_module_version": "1.5.0",
      "_view_name": "ProgressView",
      "bar_style": "info",
      "description": "",
      "description_tooltip": null,
      "layout": "IPY_MODEL_d6476bf9aebf40299d13c9590bb7f51b",
      "max": 1,
      "min": 0,
      "orientation": "horizontal",
      "style": "IPY_MODEL_3778beaabc5d4931bf4b180fb2f3cb73",
      "value": 1
     }
    },
    "2cddde8ed89d42aca64128c62645a43c": {
     "model_module": "@jupyter-widgets/base",
     "model_module_version": "1.2.0",
     "model_name": "LayoutModel",
     "state": {
      "_model_module": "@jupyter-widgets/base",
      "_model_module_version": "1.2.0",
      "_model_name": "LayoutModel",
      "_view_count": null,
      "_view_module": "@jupyter-widgets/base",
      "_view_module_version": "1.2.0",
      "_view_name": "LayoutView",
      "align_content": null,
      "align_items": null,
      "align_self": null,
      "border": null,
      "bottom": null,
      "display": null,
      "flex": null,
      "flex_flow": null,
      "grid_area": null,
      "grid_auto_columns": null,
      "grid_auto_flow": null,
      "grid_auto_rows": null,
      "grid_column": null,
      "grid_gap": null,
      "grid_row": null,
      "grid_template_areas": null,
      "grid_template_columns": null,
      "grid_template_rows": null,
      "height": null,
      "justify_content": null,
      "justify_items": null,
      "left": null,
      "margin": null,
      "max_height": null,
      "max_width": null,
      "min_height": null,
      "min_width": null,
      "object_fit": null,
      "object_position": null,
      "order": null,
      "overflow": null,
      "overflow_x": null,
      "overflow_y": null,
      "padding": null,
      "right": null,
      "top": null,
      "visibility": null,
      "width": null
     }
    },
    "2d95fd67f14149f482c6d9d911b8c1d4": {
     "model_module": "@jupyter-widgets/controls",
     "model_module_version": "1.5.0",
     "model_name": "DescriptionStyleModel",
     "state": {
      "_model_module": "@jupyter-widgets/controls",
      "_model_module_version": "1.5.0",
      "_model_name": "DescriptionStyleModel",
      "_view_count": null,
      "_view_module": "@jupyter-widgets/base",
      "_view_module_version": "1.2.0",
      "_view_name": "StyleView",
      "description_width": ""
     }
    },
    "2f4cdded4fc94bc8aa73fe5ae1f6043d": {
     "model_module": "@jupyter-widgets/controls",
     "model_module_version": "1.5.0",
     "model_name": "HTMLModel",
     "state": {
      "_dom_classes": [],
      "_model_module": "@jupyter-widgets/controls",
      "_model_module_version": "1.5.0",
      "_model_name": "HTMLModel",
      "_view_count": null,
      "_view_module": "@jupyter-widgets/controls",
      "_view_module_version": "1.5.0",
      "_view_name": "HTMLView",
      "description": "",
      "description_tooltip": null,
      "layout": "IPY_MODEL_c75d0d8c1be24990a7bcc7838c5f3716",
      "placeholder": "​",
      "style": "IPY_MODEL_06366f1aace648d48b5a95cd439392b1",
      "value": "Dl Completed...: 100%"
     }
    },
    "3778beaabc5d4931bf4b180fb2f3cb73": {
     "model_module": "@jupyter-widgets/controls",
     "model_module_version": "1.5.0",
     "model_name": "ProgressStyleModel",
     "state": {
      "_model_module": "@jupyter-widgets/controls",
      "_model_module_version": "1.5.0",
      "_model_name": "ProgressStyleModel",
      "_view_count": null,
      "_view_module": "@jupyter-widgets/base",
      "_view_module_version": "1.2.0",
      "_view_name": "StyleView",
      "bar_color": null,
      "description_width": ""
     }
    },
    "3fc5449e11f1466289e6c61eff56d6bf": {
     "model_module": "@jupyter-widgets/controls",
     "model_module_version": "1.5.0",
     "model_name": "HTMLModel",
     "state": {
      "_dom_classes": [],
      "_model_module": "@jupyter-widgets/controls",
      "_model_module_version": "1.5.0",
      "_model_name": "HTMLModel",
      "_view_count": null,
      "_view_module": "@jupyter-widgets/controls",
      "_view_module_version": "1.5.0",
      "_view_name": "HTMLView",
      "description": "",
      "description_tooltip": null,
      "layout": "IPY_MODEL_d865bb3521a1499a9b6740739ad2a4cb",
      "placeholder": "​",
      "style": "IPY_MODEL_24a9b04544894ffe900f0691f8fb2eac",
      "value": "100%"
     }
    },
    "400b46256f67420999356e02d37f73ba": {
     "model_module": "@jupyter-widgets/controls",
     "model_module_version": "1.5.0",
     "model_name": "HBoxModel",
     "state": {
      "_dom_classes": [],
      "_model_module": "@jupyter-widgets/controls",
      "_model_module_version": "1.5.0",
      "_model_name": "HBoxModel",
      "_view_count": null,
      "_view_module": "@jupyter-widgets/controls",
      "_view_module_version": "1.5.0",
      "_view_name": "HBoxView",
      "box_style": "",
      "children": [
       "IPY_MODEL_a480c795a0f0436abae64b89af8727cd",
       "IPY_MODEL_2bab47ad028549c0b9e690797177ca3e",
       "IPY_MODEL_a939ebcf59a7446eb748979876ae7180"
      ],
      "layout": "IPY_MODEL_b115c40701d342eba99c2cc54dc24e24"
     }
    },
    "436eafc5ab6d475cbb3fbf17d6553fbb": {
     "model_module": "@jupyter-widgets/base",
     "model_module_version": "1.2.0",
     "model_name": "LayoutModel",
     "state": {
      "_model_module": "@jupyter-widgets/base",
      "_model_module_version": "1.2.0",
      "_model_name": "LayoutModel",
      "_view_count": null,
      "_view_module": "@jupyter-widgets/base",
      "_view_module_version": "1.2.0",
      "_view_name": "LayoutView",
      "align_content": null,
      "align_items": null,
      "align_self": null,
      "border": null,
      "bottom": null,
      "display": null,
      "flex": null,
      "flex_flow": null,
      "grid_area": null,
      "grid_auto_columns": null,
      "grid_auto_flow": null,
      "grid_auto_rows": null,
      "grid_column": null,
      "grid_gap": null,
      "grid_row": null,
      "grid_template_areas": null,
      "grid_template_columns": null,
      "grid_template_rows": null,
      "height": null,
      "justify_content": null,
      "justify_items": null,
      "left": null,
      "margin": null,
      "max_height": null,
      "max_width": null,
      "min_height": null,
      "min_width": null,
      "object_fit": null,
      "object_position": null,
      "order": null,
      "overflow": null,
      "overflow_x": null,
      "overflow_y": null,
      "padding": null,
      "right": null,
      "top": null,
      "visibility": null,
      "width": null
     }
    },
    "45c332ceb15345d39fac2952727fd5a1": {
     "model_module": "@jupyter-widgets/controls",
     "model_module_version": "1.5.0",
     "model_name": "FloatProgressModel",
     "state": {
      "_dom_classes": [],
      "_model_module": "@jupyter-widgets/controls",
      "_model_module_version": "1.5.0",
      "_model_name": "FloatProgressModel",
      "_view_count": null,
      "_view_module": "@jupyter-widgets/controls",
      "_view_module_version": "1.5.0",
      "_view_name": "ProgressView",
      "bar_style": "info",
      "description": "",
      "description_tooltip": null,
      "layout": "IPY_MODEL_5b5612219968479a86f157ece6964706",
      "max": 1,
      "min": 0,
      "orientation": "horizontal",
      "style": "IPY_MODEL_d35febfc28844f6797f2af71d3f930e6",
      "value": 1
     }
    },
    "49244aba988946449f5f923a2ce7d040": {
     "model_module": "@jupyter-widgets/controls",
     "model_module_version": "1.5.0",
     "model_name": "HTMLModel",
     "state": {
      "_dom_classes": [],
      "_model_module": "@jupyter-widgets/controls",
      "_model_module_version": "1.5.0",
      "_model_name": "HTMLModel",
      "_view_count": null,
      "_view_module": "@jupyter-widgets/controls",
      "_view_module_version": "1.5.0",
      "_view_name": "HTMLView",
      "description": "",
      "description_tooltip": null,
      "layout": "IPY_MODEL_b78d8dad8be643d3a908d9722c6faa24",
      "placeholder": "​",
      "style": "IPY_MODEL_fc0f2f1476ad46bc83ee15cace1cdf86",
      "value": "100%"
     }
    },
    "49be94aba05248dab42f42624e20e7a8": {
     "model_module": "@jupyter-widgets/base",
     "model_module_version": "1.2.0",
     "model_name": "LayoutModel",
     "state": {
      "_model_module": "@jupyter-widgets/base",
      "_model_module_version": "1.2.0",
      "_model_name": "LayoutModel",
      "_view_count": null,
      "_view_module": "@jupyter-widgets/base",
      "_view_module_version": "1.2.0",
      "_view_name": "LayoutView",
      "align_content": null,
      "align_items": null,
      "align_self": null,
      "border": null,
      "bottom": null,
      "display": null,
      "flex": null,
      "flex_flow": null,
      "grid_area": null,
      "grid_auto_columns": null,
      "grid_auto_flow": null,
      "grid_auto_rows": null,
      "grid_column": null,
      "grid_gap": null,
      "grid_row": null,
      "grid_template_areas": null,
      "grid_template_columns": null,
      "grid_template_rows": null,
      "height": null,
      "justify_content": null,
      "justify_items": null,
      "left": null,
      "margin": null,
      "max_height": null,
      "max_width": null,
      "min_height": null,
      "min_width": null,
      "object_fit": null,
      "object_position": null,
      "order": null,
      "overflow": null,
      "overflow_x": null,
      "overflow_y": null,
      "padding": null,
      "right": null,
      "top": null,
      "visibility": null,
      "width": null
     }
    },
    "4bfc315686fb4098a3cbaa02a2c8dd87": {
     "model_module": "@jupyter-widgets/controls",
     "model_module_version": "1.5.0",
     "model_name": "FloatProgressModel",
     "state": {
      "_dom_classes": [],
      "_model_module": "@jupyter-widgets/controls",
      "_model_module_version": "1.5.0",
      "_model_name": "FloatProgressModel",
      "_view_count": null,
      "_view_module": "@jupyter-widgets/controls",
      "_view_module_version": "1.5.0",
      "_view_name": "ProgressView",
      "bar_style": "danger",
      "description": "",
      "description_tooltip": null,
      "layout": "IPY_MODEL_49be94aba05248dab42f42624e20e7a8",
      "max": 50000,
      "min": 0,
      "orientation": "horizontal",
      "style": "IPY_MODEL_2942736907bd4027b1510f90d8c2fc70",
      "value": 49999
     }
    },
    "4d93d44c1d624397b8e5bf0701a1435b": {
     "model_module": "@jupyter-widgets/controls",
     "model_module_version": "1.5.0",
     "model_name": "HBoxModel",
     "state": {
      "_dom_classes": [],
      "_model_module": "@jupyter-widgets/controls",
      "_model_module_version": "1.5.0",
      "_model_name": "HBoxModel",
      "_view_count": null,
      "_view_module": "@jupyter-widgets/controls",
      "_view_module_version": "1.5.0",
      "_view_name": "HBoxView",
      "box_style": "",
      "children": [
       "IPY_MODEL_49244aba988946449f5f923a2ce7d040",
       "IPY_MODEL_7ce494484e2e4781aba07005df5a245b",
       "IPY_MODEL_c79ac10b18a24c53b5beedaff0975cf3"
      ],
      "layout": "IPY_MODEL_0a2f764e4f5a48d9b3eb74dc0be6c9ee"
     }
    },
    "52abd7e48d7442689f83dcdca70ff23e": {
     "model_module": "@jupyter-widgets/controls",
     "model_module_version": "1.5.0",
     "model_name": "HBoxModel",
     "state": {
      "_dom_classes": [],
      "_model_module": "@jupyter-widgets/controls",
      "_model_module_version": "1.5.0",
      "_model_name": "HBoxModel",
      "_view_count": null,
      "_view_module": "@jupyter-widgets/controls",
      "_view_module_version": "1.5.0",
      "_view_name": "HBoxView",
      "box_style": "",
      "children": [
       "IPY_MODEL_3fc5449e11f1466289e6c61eff56d6bf",
       "IPY_MODEL_4bfc315686fb4098a3cbaa02a2c8dd87",
       "IPY_MODEL_aa9cc25226fc4b4d92f4524ad1eef226"
      ],
      "layout": "IPY_MODEL_6b491e16931d47d7a441fadc0e2ddc92"
     }
    },
    "54725fba0a1b4ebba99e8a5eb5cb0568": {
     "model_module": "@jupyter-widgets/controls",
     "model_module_version": "1.5.0",
     "model_name": "ProgressStyleModel",
     "state": {
      "_model_module": "@jupyter-widgets/controls",
      "_model_module_version": "1.5.0",
      "_model_name": "ProgressStyleModel",
      "_view_count": null,
      "_view_module": "@jupyter-widgets/base",
      "_view_module_version": "1.2.0",
      "_view_name": "StyleView",
      "bar_color": null,
      "description_width": ""
     }
    },
    "57540233ae8b41479870d75ea071a236": {
     "model_module": "@jupyter-widgets/controls",
     "model_module_version": "1.5.0",
     "model_name": "HBoxModel",
     "state": {
      "_dom_classes": [],
      "_model_module": "@jupyter-widgets/controls",
      "_model_module_version": "1.5.0",
      "_model_name": "HBoxModel",
      "_view_count": null,
      "_view_module": "@jupyter-widgets/controls",
      "_view_module_version": "1.5.0",
      "_view_name": "HBoxView",
      "box_style": "",
      "children": [
       "IPY_MODEL_26869a143f0b4c12a092645dcd10736b",
       "IPY_MODEL_45c332ceb15345d39fac2952727fd5a1",
       "IPY_MODEL_ff479c78058b4f0ab9b81c984652a3e6"
      ],
      "layout": "IPY_MODEL_08976e2be846448d860ba70173703d99"
     }
    },
    "58f32ec83232499385a9dc75d5c3e48f": {
     "model_module": "@jupyter-widgets/controls",
     "model_module_version": "1.5.0",
     "model_name": "HTMLModel",
     "state": {
      "_dom_classes": [],
      "_model_module": "@jupyter-widgets/controls",
      "_model_module_version": "1.5.0",
      "_model_name": "HTMLModel",
      "_view_count": null,
      "_view_module": "@jupyter-widgets/controls",
      "_view_module_version": "1.5.0",
      "_view_name": "HTMLView",
      "description": "",
      "description_tooltip": null,
      "layout": "IPY_MODEL_a940f2d2358644d9895f16122b38849a",
      "placeholder": "​",
      "style": "IPY_MODEL_b73b56db15234dff9f584b3481c3e1ce",
      "value": ""
     }
    },
    "5b5612219968479a86f157ece6964706": {
     "model_module": "@jupyter-widgets/base",
     "model_module_version": "1.2.0",
     "model_name": "LayoutModel",
     "state": {
      "_model_module": "@jupyter-widgets/base",
      "_model_module_version": "1.2.0",
      "_model_name": "LayoutModel",
      "_view_count": null,
      "_view_module": "@jupyter-widgets/base",
      "_view_module_version": "1.2.0",
      "_view_name": "LayoutView",
      "align_content": null,
      "align_items": null,
      "align_self": null,
      "border": null,
      "bottom": null,
      "display": null,
      "flex": null,
      "flex_flow": null,
      "grid_area": null,
      "grid_auto_columns": null,
      "grid_auto_flow": null,
      "grid_auto_rows": null,
      "grid_column": null,
      "grid_gap": null,
      "grid_row": null,
      "grid_template_areas": null,
      "grid_template_columns": null,
      "grid_template_rows": null,
      "height": null,
      "justify_content": null,
      "justify_items": null,
      "left": null,
      "margin": null,
      "max_height": null,
      "max_width": null,
      "min_height": null,
      "min_width": null,
      "object_fit": null,
      "object_position": null,
      "order": null,
      "overflow": null,
      "overflow_x": null,
      "overflow_y": null,
      "padding": null,
      "right": null,
      "top": null,
      "visibility": null,
      "width": "20px"
     }
    },
    "5cd2e302bd434b7192dd1ba21acc8950": {
     "model_module": "@jupyter-widgets/controls",
     "model_module_version": "1.5.0",
     "model_name": "FloatProgressModel",
     "state": {
      "_dom_classes": [],
      "_model_module": "@jupyter-widgets/controls",
      "_model_module_version": "1.5.0",
      "_model_name": "FloatProgressModel",
      "_view_count": null,
      "_view_module": "@jupyter-widgets/controls",
      "_view_module_version": "1.5.0",
      "_view_name": "ProgressView",
      "bar_style": "danger",
      "description": "",
      "description_tooltip": null,
      "layout": "IPY_MODEL_929bda4c27ed41a89ef6e42d04190046",
      "max": 25000,
      "min": 0,
      "orientation": "horizontal",
      "style": "IPY_MODEL_54725fba0a1b4ebba99e8a5eb5cb0568",
      "value": 24999
     }
    },
    "5d6c2b585d3d4361b3b266770319c2d9": {
     "model_module": "@jupyter-widgets/base",
     "model_module_version": "1.2.0",
     "model_name": "LayoutModel",
     "state": {
      "_model_module": "@jupyter-widgets/base",
      "_model_module_version": "1.2.0",
      "_model_name": "LayoutModel",
      "_view_count": null,
      "_view_module": "@jupyter-widgets/base",
      "_view_module_version": "1.2.0",
      "_view_name": "LayoutView",
      "align_content": null,
      "align_items": null,
      "align_self": null,
      "border": null,
      "bottom": null,
      "display": null,
      "flex": null,
      "flex_flow": null,
      "grid_area": null,
      "grid_auto_columns": null,
      "grid_auto_flow": null,
      "grid_auto_rows": null,
      "grid_column": null,
      "grid_gap": null,
      "grid_row": null,
      "grid_template_areas": null,
      "grid_template_columns": null,
      "grid_template_rows": null,
      "height": null,
      "justify_content": null,
      "justify_items": null,
      "left": null,
      "margin": null,
      "max_height": null,
      "max_width": null,
      "min_height": null,
      "min_width": null,
      "object_fit": null,
      "object_position": null,
      "order": null,
      "overflow": null,
      "overflow_x": null,
      "overflow_y": null,
      "padding": null,
      "right": null,
      "top": null,
      "visibility": null,
      "width": "20px"
     }
    },
    "5e461e1b89734f99899e4b08eb1af815": {
     "model_module": "@jupyter-widgets/controls",
     "model_module_version": "1.5.0",
     "model_name": "HBoxModel",
     "state": {
      "_dom_classes": [],
      "_model_module": "@jupyter-widgets/controls",
      "_model_module_version": "1.5.0",
      "_model_name": "HBoxModel",
      "_view_count": null,
      "_view_module": "@jupyter-widgets/controls",
      "_view_module_version": "1.5.0",
      "_view_name": "HBoxView",
      "box_style": "",
      "children": [
       "IPY_MODEL_fc42848872684dc98dfbf90f81c4cb42",
       "IPY_MODEL_5cd2e302bd434b7192dd1ba21acc8950",
       "IPY_MODEL_624e593861824cf9b6f99ea42c304cdb"
      ],
      "layout": "IPY_MODEL_291235e30e3447ae86a21ea6eee3aa50"
     }
    },
    "624e593861824cf9b6f99ea42c304cdb": {
     "model_module": "@jupyter-widgets/controls",
     "model_module_version": "1.5.0",
     "model_name": "HTMLModel",
     "state": {
      "_dom_classes": [],
      "_model_module": "@jupyter-widgets/controls",
      "_model_module_version": "1.5.0",
      "_model_name": "HTMLModel",
      "_view_count": null,
      "_view_module": "@jupyter-widgets/controls",
      "_view_module_version": "1.5.0",
      "_view_name": "HTMLView",
      "description": "",
      "description_tooltip": null,
      "layout": "IPY_MODEL_f0d9e7239d8645f7a03b550603e79a5c",
      "placeholder": "​",
      "style": "IPY_MODEL_ca56d63ecfd34b1e9a536d4b11cb3ec7",
      "value": " 24999/25000 [00:00&lt;00:00, 127435.00 examples/s]"
     }
    },
    "6919e0c7ccc5468a8874a7b185132505": {
     "model_module": "@jupyter-widgets/controls",
     "model_module_version": "1.5.0",
     "model_name": "FloatProgressModel",
     "state": {
      "_dom_classes": [],
      "_model_module": "@jupyter-widgets/controls",
      "_model_module_version": "1.5.0",
      "_model_name": "FloatProgressModel",
      "_view_count": null,
      "_view_module": "@jupyter-widgets/controls",
      "_view_module_version": "1.5.0",
      "_view_name": "ProgressView",
      "bar_style": "success",
      "description": "",
      "description_tooltip": null,
      "layout": "IPY_MODEL_5d6c2b585d3d4361b3b266770319c2d9",
      "max": 1,
      "min": 0,
      "orientation": "horizontal",
      "style": "IPY_MODEL_c7df679588184a0495f2bd4531527352",
      "value": 1
     }
    },
    "6b491e16931d47d7a441fadc0e2ddc92": {
     "model_module": "@jupyter-widgets/base",
     "model_module_version": "1.2.0",
     "model_name": "LayoutModel",
     "state": {
      "_model_module": "@jupyter-widgets/base",
      "_model_module_version": "1.2.0",
      "_model_name": "LayoutModel",
      "_view_count": null,
      "_view_module": "@jupyter-widgets/base",
      "_view_module_version": "1.2.0",
      "_view_name": "LayoutView",
      "align_content": null,
      "align_items": null,
      "align_self": null,
      "border": null,
      "bottom": null,
      "display": null,
      "flex": null,
      "flex_flow": null,
      "grid_area": null,
      "grid_auto_columns": null,
      "grid_auto_flow": null,
      "grid_auto_rows": null,
      "grid_column": null,
      "grid_gap": null,
      "grid_row": null,
      "grid_template_areas": null,
      "grid_template_columns": null,
      "grid_template_rows": null,
      "height": null,
      "justify_content": null,
      "justify_items": null,
      "left": null,
      "margin": null,
      "max_height": null,
      "max_width": null,
      "min_height": null,
      "min_width": null,
      "object_fit": null,
      "object_position": null,
      "order": null,
      "overflow": null,
      "overflow_x": null,
      "overflow_y": null,
      "padding": null,
      "right": null,
      "top": null,
      "visibility": null,
      "width": null
     }
    },
    "703ad1673dcd43c8b6376238a79daa8f": {
     "model_module": "@jupyter-widgets/controls",
     "model_module_version": "1.5.0",
     "model_name": "DescriptionStyleModel",
     "state": {
      "_model_module": "@jupyter-widgets/controls",
      "_model_module_version": "1.5.0",
      "_model_name": "DescriptionStyleModel",
      "_view_count": null,
      "_view_module": "@jupyter-widgets/base",
      "_view_module_version": "1.2.0",
      "_view_name": "StyleView",
      "description_width": ""
     }
    },
    "71fb33b63cba40eebb9712e06550c680": {
     "model_module": "@jupyter-widgets/controls",
     "model_module_version": "1.5.0",
     "model_name": "FloatProgressModel",
     "state": {
      "_dom_classes": [],
      "_model_module": "@jupyter-widgets/controls",
      "_model_module_version": "1.5.0",
      "_model_name": "FloatProgressModel",
      "_view_count": null,
      "_view_module": "@jupyter-widgets/controls",
      "_view_module_version": "1.5.0",
      "_view_name": "ProgressView",
      "bar_style": "success",
      "description": "",
      "description_tooltip": null,
      "layout": "IPY_MODEL_e2972f821eaa43e4b90cf68bae7ff36e",
      "max": 1,
      "min": 0,
      "orientation": "horizontal",
      "style": "IPY_MODEL_d7928ee7110c4194af31cd8ec69ce704",
      "value": 1
     }
    },
    "74b83e0d33a84e57babbc00a4d97cc88": {
     "model_module": "@jupyter-widgets/controls",
     "model_module_version": "1.5.0",
     "model_name": "DescriptionStyleModel",
     "state": {
      "_model_module": "@jupyter-widgets/controls",
      "_model_module_version": "1.5.0",
      "_model_name": "DescriptionStyleModel",
      "_view_count": null,
      "_view_module": "@jupyter-widgets/base",
      "_view_module_version": "1.2.0",
      "_view_name": "StyleView",
      "description_width": ""
     }
    },
    "7681fd2aaf92405d8bf452c7a6c806e9": {
     "model_module": "@jupyter-widgets/base",
     "model_module_version": "1.2.0",
     "model_name": "LayoutModel",
     "state": {
      "_model_module": "@jupyter-widgets/base",
      "_model_module_version": "1.2.0",
      "_model_name": "LayoutModel",
      "_view_count": null,
      "_view_module": "@jupyter-widgets/base",
      "_view_module_version": "1.2.0",
      "_view_name": "LayoutView",
      "align_content": null,
      "align_items": null,
      "align_self": null,
      "border": null,
      "bottom": null,
      "display": null,
      "flex": null,
      "flex_flow": null,
      "grid_area": null,
      "grid_auto_columns": null,
      "grid_auto_flow": null,
      "grid_auto_rows": null,
      "grid_column": null,
      "grid_gap": null,
      "grid_row": null,
      "grid_template_areas": null,
      "grid_template_columns": null,
      "grid_template_rows": null,
      "height": null,
      "justify_content": null,
      "justify_items": null,
      "left": null,
      "margin": null,
      "max_height": null,
      "max_width": null,
      "min_height": null,
      "min_width": null,
      "object_fit": null,
      "object_position": null,
      "order": null,
      "overflow": null,
      "overflow_x": null,
      "overflow_y": null,
      "padding": null,
      "right": null,
      "top": null,
      "visibility": null,
      "width": null
     }
    },
    "7ce494484e2e4781aba07005df5a245b": {
     "model_module": "@jupyter-widgets/controls",
     "model_module_version": "1.5.0",
     "model_name": "FloatProgressModel",
     "state": {
      "_dom_classes": [],
      "_model_module": "@jupyter-widgets/controls",
      "_model_module_version": "1.5.0",
      "_model_name": "FloatProgressModel",
      "_view_count": null,
      "_view_module": "@jupyter-widgets/controls",
      "_view_module_version": "1.5.0",
      "_view_name": "ProgressView",
      "bar_style": "danger",
      "description": "",
      "description_tooltip": null,
      "layout": "IPY_MODEL_9606217e569245b3aa10a5fad1f635b9",
      "max": 25000,
      "min": 0,
      "orientation": "horizontal",
      "style": "IPY_MODEL_d184fa5c869c4ed4b12ac0537ae02248",
      "value": 24999
     }
    },
    "85c53f71b70e430a8f8d96b3bdac9b6f": {
     "model_module": "@jupyter-widgets/controls",
     "model_module_version": "1.5.0",
     "model_name": "ProgressStyleModel",
     "state": {
      "_model_module": "@jupyter-widgets/controls",
      "_model_module_version": "1.5.0",
      "_model_name": "ProgressStyleModel",
      "_view_count": null,
      "_view_module": "@jupyter-widgets/base",
      "_view_module_version": "1.2.0",
      "_view_name": "StyleView",
      "bar_color": null,
      "description_width": ""
     }
    },
    "8906e222fcaf4916ba2764a85286dd80": {
     "model_module": "@jupyter-widgets/base",
     "model_module_version": "1.2.0",
     "model_name": "LayoutModel",
     "state": {
      "_model_module": "@jupyter-widgets/base",
      "_model_module_version": "1.2.0",
      "_model_name": "LayoutModel",
      "_view_count": null,
      "_view_module": "@jupyter-widgets/base",
      "_view_module_version": "1.2.0",
      "_view_name": "LayoutView",
      "align_content": null,
      "align_items": null,
      "align_self": null,
      "border": null,
      "bottom": null,
      "display": null,
      "flex": null,
      "flex_flow": null,
      "grid_area": null,
      "grid_auto_columns": null,
      "grid_auto_flow": null,
      "grid_auto_rows": null,
      "grid_column": null,
      "grid_gap": null,
      "grid_row": null,
      "grid_template_areas": null,
      "grid_template_columns": null,
      "grid_template_rows": null,
      "height": null,
      "justify_content": null,
      "justify_items": null,
      "left": null,
      "margin": null,
      "max_height": null,
      "max_width": null,
      "min_height": null,
      "min_width": null,
      "object_fit": null,
      "object_position": null,
      "order": null,
      "overflow": null,
      "overflow_x": null,
      "overflow_y": null,
      "padding": null,
      "right": null,
      "top": null,
      "visibility": null,
      "width": null
     }
    },
    "8d5b20e7395f4929817a4a50b346ff0b": {
     "model_module": "@jupyter-widgets/controls",
     "model_module_version": "1.5.0",
     "model_name": "DescriptionStyleModel",
     "state": {
      "_model_module": "@jupyter-widgets/controls",
      "_model_module_version": "1.5.0",
      "_model_name": "DescriptionStyleModel",
      "_view_count": null,
      "_view_module": "@jupyter-widgets/base",
      "_view_module_version": "1.2.0",
      "_view_name": "StyleView",
      "description_width": ""
     }
    },
    "8f0c1f58338046fb86c1116d01c70e8c": {
     "model_module": "@jupyter-widgets/controls",
     "model_module_version": "1.5.0",
     "model_name": "DescriptionStyleModel",
     "state": {
      "_model_module": "@jupyter-widgets/controls",
      "_model_module_version": "1.5.0",
      "_model_name": "DescriptionStyleModel",
      "_view_count": null,
      "_view_module": "@jupyter-widgets/base",
      "_view_module_version": "1.2.0",
      "_view_name": "StyleView",
      "description_width": ""
     }
    },
    "929bda4c27ed41a89ef6e42d04190046": {
     "model_module": "@jupyter-widgets/base",
     "model_module_version": "1.2.0",
     "model_name": "LayoutModel",
     "state": {
      "_model_module": "@jupyter-widgets/base",
      "_model_module_version": "1.2.0",
      "_model_name": "LayoutModel",
      "_view_count": null,
      "_view_module": "@jupyter-widgets/base",
      "_view_module_version": "1.2.0",
      "_view_name": "LayoutView",
      "align_content": null,
      "align_items": null,
      "align_self": null,
      "border": null,
      "bottom": null,
      "display": null,
      "flex": null,
      "flex_flow": null,
      "grid_area": null,
      "grid_auto_columns": null,
      "grid_auto_flow": null,
      "grid_auto_rows": null,
      "grid_column": null,
      "grid_gap": null,
      "grid_row": null,
      "grid_template_areas": null,
      "grid_template_columns": null,
      "grid_template_rows": null,
      "height": null,
      "justify_content": null,
      "justify_items": null,
      "left": null,
      "margin": null,
      "max_height": null,
      "max_width": null,
      "min_height": null,
      "min_width": null,
      "object_fit": null,
      "object_position": null,
      "order": null,
      "overflow": null,
      "overflow_x": null,
      "overflow_y": null,
      "padding": null,
      "right": null,
      "top": null,
      "visibility": null,
      "width": null
     }
    },
    "9606217e569245b3aa10a5fad1f635b9": {
     "model_module": "@jupyter-widgets/base",
     "model_module_version": "1.2.0",
     "model_name": "LayoutModel",
     "state": {
      "_model_module": "@jupyter-widgets/base",
      "_model_module_version": "1.2.0",
      "_model_name": "LayoutModel",
      "_view_count": null,
      "_view_module": "@jupyter-widgets/base",
      "_view_module_version": "1.2.0",
      "_view_name": "LayoutView",
      "align_content": null,
      "align_items": null,
      "align_self": null,
      "border": null,
      "bottom": null,
      "display": null,
      "flex": null,
      "flex_flow": null,
      "grid_area": null,
      "grid_auto_columns": null,
      "grid_auto_flow": null,
      "grid_auto_rows": null,
      "grid_column": null,
      "grid_gap": null,
      "grid_row": null,
      "grid_template_areas": null,
      "grid_template_columns": null,
      "grid_template_rows": null,
      "height": null,
      "justify_content": null,
      "justify_items": null,
      "left": null,
      "margin": null,
      "max_height": null,
      "max_width": null,
      "min_height": null,
      "min_width": null,
      "object_fit": null,
      "object_position": null,
      "order": null,
      "overflow": null,
      "overflow_x": null,
      "overflow_y": null,
      "padding": null,
      "right": null,
      "top": null,
      "visibility": null,
      "width": null
     }
    },
    "96196d095bb5432cbace8dc50c93a48c": {
     "model_module": "@jupyter-widgets/base",
     "model_module_version": "1.2.0",
     "model_name": "LayoutModel",
     "state": {
      "_model_module": "@jupyter-widgets/base",
      "_model_module_version": "1.2.0",
      "_model_name": "LayoutModel",
      "_view_count": null,
      "_view_module": "@jupyter-widgets/base",
      "_view_module_version": "1.2.0",
      "_view_name": "LayoutView",
      "align_content": null,
      "align_items": null,
      "align_self": null,
      "border": null,
      "bottom": null,
      "display": null,
      "flex": null,
      "flex_flow": null,
      "grid_area": null,
      "grid_auto_columns": null,
      "grid_auto_flow": null,
      "grid_auto_rows": null,
      "grid_column": null,
      "grid_gap": null,
      "grid_row": null,
      "grid_template_areas": null,
      "grid_template_columns": null,
      "grid_template_rows": null,
      "height": null,
      "justify_content": null,
      "justify_items": null,
      "left": null,
      "margin": null,
      "max_height": null,
      "max_width": null,
      "min_height": null,
      "min_width": null,
      "object_fit": null,
      "object_position": null,
      "order": null,
      "overflow": null,
      "overflow_x": null,
      "overflow_y": null,
      "padding": null,
      "right": null,
      "top": null,
      "visibility": null,
      "width": null
     }
    },
    "a3ee1af603db46f4a57b3a997225a4f6": {
     "model_module": "@jupyter-widgets/controls",
     "model_module_version": "1.5.0",
     "model_name": "HTMLModel",
     "state": {
      "_dom_classes": [],
      "_model_module": "@jupyter-widgets/controls",
      "_model_module_version": "1.5.0",
      "_model_name": "HTMLModel",
      "_view_count": null,
      "_view_module": "@jupyter-widgets/controls",
      "_view_module_version": "1.5.0",
      "_view_name": "HTMLView",
      "description": "",
      "description_tooltip": null,
      "layout": "IPY_MODEL_159c47c4d8f04621b9d342740ac55b93",
      "placeholder": "​",
      "style": "IPY_MODEL_8d5b20e7395f4929817a4a50b346ff0b",
      "value": " 24767/0 [00:13&lt;00:00, 2467.42 examples/s]"
     }
    },
    "a480c795a0f0436abae64b89af8727cd": {
     "model_module": "@jupyter-widgets/controls",
     "model_module_version": "1.5.0",
     "model_name": "HTMLModel",
     "state": {
      "_dom_classes": [],
      "_model_module": "@jupyter-widgets/controls",
      "_model_module_version": "1.5.0",
      "_model_name": "HTMLModel",
      "_view_count": null,
      "_view_module": "@jupyter-widgets/controls",
      "_view_module_version": "1.5.0",
      "_view_name": "HTMLView",
      "description": "",
      "description_tooltip": null,
      "layout": "IPY_MODEL_2cddde8ed89d42aca64128c62645a43c",
      "placeholder": "​",
      "style": "IPY_MODEL_0e04f8b8f4d346179593eacae762661a",
      "value": ""
     }
    },
    "a939ebcf59a7446eb748979876ae7180": {
     "model_module": "@jupyter-widgets/controls",
     "model_module_version": "1.5.0",
     "model_name": "HTMLModel",
     "state": {
      "_dom_classes": [],
      "_model_module": "@jupyter-widgets/controls",
      "_model_module_version": "1.5.0",
      "_model_name": "HTMLModel",
      "_view_count": null,
      "_view_module": "@jupyter-widgets/controls",
      "_view_module_version": "1.5.0",
      "_view_name": "HTMLView",
      "description": "",
      "description_tooltip": null,
      "layout": "IPY_MODEL_0c509b3f36044cf8bd8d2b89d2bf575a",
      "placeholder": "​",
      "style": "IPY_MODEL_ba65c2acd3774d9d8d720ccc73e1e6b9",
      "value": " 24995/0 [00:11&lt;00:00, 2427.55 examples/s]"
     }
    },
    "a940f2d2358644d9895f16122b38849a": {
     "model_module": "@jupyter-widgets/base",
     "model_module_version": "1.2.0",
     "model_name": "LayoutModel",
     "state": {
      "_model_module": "@jupyter-widgets/base",
      "_model_module_version": "1.2.0",
      "_model_name": "LayoutModel",
      "_view_count": null,
      "_view_module": "@jupyter-widgets/base",
      "_view_module_version": "1.2.0",
      "_view_name": "LayoutView",
      "align_content": null,
      "align_items": null,
      "align_self": null,
      "border": null,
      "bottom": null,
      "display": null,
      "flex": null,
      "flex_flow": null,
      "grid_area": null,
      "grid_auto_columns": null,
      "grid_auto_flow": null,
      "grid_auto_rows": null,
      "grid_column": null,
      "grid_gap": null,
      "grid_row": null,
      "grid_template_areas": null,
      "grid_template_columns": null,
      "grid_template_rows": null,
      "height": null,
      "justify_content": null,
      "justify_items": null,
      "left": null,
      "margin": null,
      "max_height": null,
      "max_width": null,
      "min_height": null,
      "min_width": null,
      "object_fit": null,
      "object_position": null,
      "order": null,
      "overflow": null,
      "overflow_x": null,
      "overflow_y": null,
      "padding": null,
      "right": null,
      "top": null,
      "visibility": null,
      "width": null
     }
    },
    "aa9cc25226fc4b4d92f4524ad1eef226": {
     "model_module": "@jupyter-widgets/controls",
     "model_module_version": "1.5.0",
     "model_name": "HTMLModel",
     "state": {
      "_dom_classes": [],
      "_model_module": "@jupyter-widgets/controls",
      "_model_module_version": "1.5.0",
      "_model_name": "HTMLModel",
      "_view_count": null,
      "_view_module": "@jupyter-widgets/controls",
      "_view_module_version": "1.5.0",
      "_view_name": "HTMLView",
      "description": "",
      "description_tooltip": null,
      "layout": "IPY_MODEL_16c87174b6ef42ff954fe22a3ecad34c",
      "placeholder": "​",
      "style": "IPY_MODEL_f3050d4eb53f45e8a575c56f9bdd60b7",
      "value": " 49999/50000 [00:00&lt;00:00, 150114.51 examples/s]"
     }
    },
    "b0fbed9f4e144940bd3580a46fa0896d": {
     "model_module": "@jupyter-widgets/controls",
     "model_module_version": "1.5.0",
     "model_name": "HTMLModel",
     "state": {
      "_dom_classes": [],
      "_model_module": "@jupyter-widgets/controls",
      "_model_module_version": "1.5.0",
      "_model_name": "HTMLModel",
      "_view_count": null,
      "_view_module": "@jupyter-widgets/controls",
      "_view_module_version": "1.5.0",
      "_view_name": "HTMLView",
      "description": "",
      "description_tooltip": null,
      "layout": "IPY_MODEL_8906e222fcaf4916ba2764a85286dd80",
      "placeholder": "​",
      "style": "IPY_MODEL_cf6710ca177948d6a306c577b2bd7770",
      "value": " 1/1 [00:02&lt;00:00,  2.95s/ url]"
     }
    },
    "b115c40701d342eba99c2cc54dc24e24": {
     "model_module": "@jupyter-widgets/base",
     "model_module_version": "1.2.0",
     "model_name": "LayoutModel",
     "state": {
      "_model_module": "@jupyter-widgets/base",
      "_model_module_version": "1.2.0",
      "_model_name": "LayoutModel",
      "_view_count": null,
      "_view_module": "@jupyter-widgets/base",
      "_view_module_version": "1.2.0",
      "_view_name": "LayoutView",
      "align_content": null,
      "align_items": null,
      "align_self": null,
      "border": null,
      "bottom": null,
      "display": null,
      "flex": null,
      "flex_flow": null,
      "grid_area": null,
      "grid_auto_columns": null,
      "grid_auto_flow": null,
      "grid_auto_rows": null,
      "grid_column": null,
      "grid_gap": null,
      "grid_row": null,
      "grid_template_areas": null,
      "grid_template_columns": null,
      "grid_template_rows": null,
      "height": null,
      "justify_content": null,
      "justify_items": null,
      "left": null,
      "margin": null,
      "max_height": null,
      "max_width": null,
      "min_height": null,
      "min_width": null,
      "object_fit": null,
      "object_position": null,
      "order": null,
      "overflow": null,
      "overflow_x": null,
      "overflow_y": null,
      "padding": null,
      "right": null,
      "top": null,
      "visibility": null,
      "width": null
     }
    },
    "b3ebd65f2ded418fbce19135e192376d": {
     "model_module": "@jupyter-widgets/base",
     "model_module_version": "1.2.0",
     "model_name": "LayoutModel",
     "state": {
      "_model_module": "@jupyter-widgets/base",
      "_model_module_version": "1.2.0",
      "_model_name": "LayoutModel",
      "_view_count": null,
      "_view_module": "@jupyter-widgets/base",
      "_view_module_version": "1.2.0",
      "_view_name": "LayoutView",
      "align_content": null,
      "align_items": null,
      "align_self": null,
      "border": null,
      "bottom": null,
      "display": null,
      "flex": null,
      "flex_flow": null,
      "grid_area": null,
      "grid_auto_columns": null,
      "grid_auto_flow": null,
      "grid_auto_rows": null,
      "grid_column": null,
      "grid_gap": null,
      "grid_row": null,
      "grid_template_areas": null,
      "grid_template_columns": null,
      "grid_template_rows": null,
      "height": null,
      "justify_content": null,
      "justify_items": null,
      "left": null,
      "margin": null,
      "max_height": null,
      "max_width": null,
      "min_height": null,
      "min_width": null,
      "object_fit": null,
      "object_position": null,
      "order": null,
      "overflow": null,
      "overflow_x": null,
      "overflow_y": null,
      "padding": null,
      "right": null,
      "top": null,
      "visibility": null,
      "width": null
     }
    },
    "b73b56db15234dff9f584b3481c3e1ce": {
     "model_module": "@jupyter-widgets/controls",
     "model_module_version": "1.5.0",
     "model_name": "DescriptionStyleModel",
     "state": {
      "_model_module": "@jupyter-widgets/controls",
      "_model_module_version": "1.5.0",
      "_model_name": "DescriptionStyleModel",
      "_view_count": null,
      "_view_module": "@jupyter-widgets/base",
      "_view_module_version": "1.2.0",
      "_view_name": "StyleView",
      "description_width": ""
     }
    },
    "b74313e4cdbd40aaa0a0dbeccea6da74": {
     "model_module": "@jupyter-widgets/controls",
     "model_module_version": "1.5.0",
     "model_name": "DescriptionStyleModel",
     "state": {
      "_model_module": "@jupyter-widgets/controls",
      "_model_module_version": "1.5.0",
      "_model_name": "DescriptionStyleModel",
      "_view_count": null,
      "_view_module": "@jupyter-widgets/base",
      "_view_module_version": "1.2.0",
      "_view_name": "StyleView",
      "description_width": ""
     }
    },
    "b78d8dad8be643d3a908d9722c6faa24": {
     "model_module": "@jupyter-widgets/base",
     "model_module_version": "1.2.0",
     "model_name": "LayoutModel",
     "state": {
      "_model_module": "@jupyter-widgets/base",
      "_model_module_version": "1.2.0",
      "_model_name": "LayoutModel",
      "_view_count": null,
      "_view_module": "@jupyter-widgets/base",
      "_view_module_version": "1.2.0",
      "_view_name": "LayoutView",
      "align_content": null,
      "align_items": null,
      "align_self": null,
      "border": null,
      "bottom": null,
      "display": null,
      "flex": null,
      "flex_flow": null,
      "grid_area": null,
      "grid_auto_columns": null,
      "grid_auto_flow": null,
      "grid_auto_rows": null,
      "grid_column": null,
      "grid_gap": null,
      "grid_row": null,
      "grid_template_areas": null,
      "grid_template_columns": null,
      "grid_template_rows": null,
      "height": null,
      "justify_content": null,
      "justify_items": null,
      "left": null,
      "margin": null,
      "max_height": null,
      "max_width": null,
      "min_height": null,
      "min_width": null,
      "object_fit": null,
      "object_position": null,
      "order": null,
      "overflow": null,
      "overflow_x": null,
      "overflow_y": null,
      "padding": null,
      "right": null,
      "top": null,
      "visibility": null,
      "width": null
     }
    },
    "ba65c2acd3774d9d8d720ccc73e1e6b9": {
     "model_module": "@jupyter-widgets/controls",
     "model_module_version": "1.5.0",
     "model_name": "DescriptionStyleModel",
     "state": {
      "_model_module": "@jupyter-widgets/controls",
      "_model_module_version": "1.5.0",
      "_model_name": "DescriptionStyleModel",
      "_view_count": null,
      "_view_module": "@jupyter-widgets/base",
      "_view_module_version": "1.2.0",
      "_view_name": "StyleView",
      "description_width": ""
     }
    },
    "bdf749db64394296927e475ebe3c5560": {
     "model_module": "@jupyter-widgets/controls",
     "model_module_version": "1.5.0",
     "model_name": "HBoxModel",
     "state": {
      "_dom_classes": [],
      "_model_module": "@jupyter-widgets/controls",
      "_model_module_version": "1.5.0",
      "_model_name": "HBoxModel",
      "_view_count": null,
      "_view_module": "@jupyter-widgets/controls",
      "_view_module_version": "1.5.0",
      "_view_name": "HBoxView",
      "box_style": "",
      "children": [
       "IPY_MODEL_fce86074e8e445aaa1a794d574f3319e",
       "IPY_MODEL_6919e0c7ccc5468a8874a7b185132505",
       "IPY_MODEL_18d23b1105f743e39398daa5f1da664f"
      ],
      "layout": "IPY_MODEL_dea95186c643462aaa9b579587fc6b38"
     }
    },
    "c75d0d8c1be24990a7bcc7838c5f3716": {
     "model_module": "@jupyter-widgets/base",
     "model_module_version": "1.2.0",
     "model_name": "LayoutModel",
     "state": {
      "_model_module": "@jupyter-widgets/base",
      "_model_module_version": "1.2.0",
      "_model_name": "LayoutModel",
      "_view_count": null,
      "_view_module": "@jupyter-widgets/base",
      "_view_module_version": "1.2.0",
      "_view_name": "LayoutView",
      "align_content": null,
      "align_items": null,
      "align_self": null,
      "border": null,
      "bottom": null,
      "display": null,
      "flex": null,
      "flex_flow": null,
      "grid_area": null,
      "grid_auto_columns": null,
      "grid_auto_flow": null,
      "grid_auto_rows": null,
      "grid_column": null,
      "grid_gap": null,
      "grid_row": null,
      "grid_template_areas": null,
      "grid_template_columns": null,
      "grid_template_rows": null,
      "height": null,
      "justify_content": null,
      "justify_items": null,
      "left": null,
      "margin": null,
      "max_height": null,
      "max_width": null,
      "min_height": null,
      "min_width": null,
      "object_fit": null,
      "object_position": null,
      "order": null,
      "overflow": null,
      "overflow_x": null,
      "overflow_y": null,
      "padding": null,
      "right": null,
      "top": null,
      "visibility": null,
      "width": null
     }
    },
    "c79ac10b18a24c53b5beedaff0975cf3": {
     "model_module": "@jupyter-widgets/controls",
     "model_module_version": "1.5.0",
     "model_name": "HTMLModel",
     "state": {
      "_dom_classes": [],
      "_model_module": "@jupyter-widgets/controls",
      "_model_module_version": "1.5.0",
      "_model_name": "HTMLModel",
      "_view_count": null,
      "_view_module": "@jupyter-widgets/controls",
      "_view_module_version": "1.5.0",
      "_view_name": "HTMLView",
      "description": "",
      "description_tooltip": null,
      "layout": "IPY_MODEL_1170c37614f241bf9b686426159edf2d",
      "placeholder": "​",
      "style": "IPY_MODEL_703ad1673dcd43c8b6376238a79daa8f",
      "value": " 24999/25000 [00:00&lt;00:00, 137703.51 examples/s]"
     }
    },
    "c7df679588184a0495f2bd4531527352": {
     "model_module": "@jupyter-widgets/controls",
     "model_module_version": "1.5.0",
     "model_name": "ProgressStyleModel",
     "state": {
      "_model_module": "@jupyter-widgets/controls",
      "_model_module_version": "1.5.0",
      "_model_name": "ProgressStyleModel",
      "_view_count": null,
      "_view_module": "@jupyter-widgets/base",
      "_view_module_version": "1.2.0",
      "_view_name": "StyleView",
      "bar_color": null,
      "description_width": ""
     }
    },
    "ca1302c7e5074ba4962268a19cd573e6": {
     "model_module": "@jupyter-widgets/controls",
     "model_module_version": "1.5.0",
     "model_name": "FloatProgressModel",
     "state": {
      "_dom_classes": [],
      "_model_module": "@jupyter-widgets/controls",
      "_model_module_version": "1.5.0",
      "_model_name": "FloatProgressModel",
      "_view_count": null,
      "_view_module": "@jupyter-widgets/controls",
      "_view_module_version": "1.5.0",
      "_view_name": "ProgressView",
      "bar_style": "info",
      "description": "",
      "description_tooltip": null,
      "layout": "IPY_MODEL_17b89703748f41e0b72b50fc01bc216b",
      "max": 1,
      "min": 0,
      "orientation": "horizontal",
      "style": "IPY_MODEL_85c53f71b70e430a8f8d96b3bdac9b6f",
      "value": 1
     }
    },
    "ca56d63ecfd34b1e9a536d4b11cb3ec7": {
     "model_module": "@jupyter-widgets/controls",
     "model_module_version": "1.5.0",
     "model_name": "DescriptionStyleModel",
     "state": {
      "_model_module": "@jupyter-widgets/controls",
      "_model_module_version": "1.5.0",
      "_model_name": "DescriptionStyleModel",
      "_view_count": null,
      "_view_module": "@jupyter-widgets/base",
      "_view_module_version": "1.2.0",
      "_view_name": "StyleView",
      "description_width": ""
     }
    },
    "cf6710ca177948d6a306c577b2bd7770": {
     "model_module": "@jupyter-widgets/controls",
     "model_module_version": "1.5.0",
     "model_name": "DescriptionStyleModel",
     "state": {
      "_model_module": "@jupyter-widgets/controls",
      "_model_module_version": "1.5.0",
      "_model_name": "DescriptionStyleModel",
      "_view_count": null,
      "_view_module": "@jupyter-widgets/base",
      "_view_module_version": "1.2.0",
      "_view_name": "StyleView",
      "description_width": ""
     }
    },
    "d184fa5c869c4ed4b12ac0537ae02248": {
     "model_module": "@jupyter-widgets/controls",
     "model_module_version": "1.5.0",
     "model_name": "ProgressStyleModel",
     "state": {
      "_model_module": "@jupyter-widgets/controls",
      "_model_module_version": "1.5.0",
      "_model_name": "ProgressStyleModel",
      "_view_count": null,
      "_view_module": "@jupyter-widgets/base",
      "_view_module_version": "1.2.0",
      "_view_name": "StyleView",
      "bar_color": null,
      "description_width": ""
     }
    },
    "d35febfc28844f6797f2af71d3f930e6": {
     "model_module": "@jupyter-widgets/controls",
     "model_module_version": "1.5.0",
     "model_name": "ProgressStyleModel",
     "state": {
      "_model_module": "@jupyter-widgets/controls",
      "_model_module_version": "1.5.0",
      "_model_name": "ProgressStyleModel",
      "_view_count": null,
      "_view_module": "@jupyter-widgets/base",
      "_view_module_version": "1.2.0",
      "_view_name": "StyleView",
      "bar_color": null,
      "description_width": ""
     }
    },
    "d6476bf9aebf40299d13c9590bb7f51b": {
     "model_module": "@jupyter-widgets/base",
     "model_module_version": "1.2.0",
     "model_name": "LayoutModel",
     "state": {
      "_model_module": "@jupyter-widgets/base",
      "_model_module_version": "1.2.0",
      "_model_name": "LayoutModel",
      "_view_count": null,
      "_view_module": "@jupyter-widgets/base",
      "_view_module_version": "1.2.0",
      "_view_name": "LayoutView",
      "align_content": null,
      "align_items": null,
      "align_self": null,
      "border": null,
      "bottom": null,
      "display": null,
      "flex": null,
      "flex_flow": null,
      "grid_area": null,
      "grid_auto_columns": null,
      "grid_auto_flow": null,
      "grid_auto_rows": null,
      "grid_column": null,
      "grid_gap": null,
      "grid_row": null,
      "grid_template_areas": null,
      "grid_template_columns": null,
      "grid_template_rows": null,
      "height": null,
      "justify_content": null,
      "justify_items": null,
      "left": null,
      "margin": null,
      "max_height": null,
      "max_width": null,
      "min_height": null,
      "min_width": null,
      "object_fit": null,
      "object_position": null,
      "order": null,
      "overflow": null,
      "overflow_x": null,
      "overflow_y": null,
      "padding": null,
      "right": null,
      "top": null,
      "visibility": null,
      "width": "20px"
     }
    },
    "d7928ee7110c4194af31cd8ec69ce704": {
     "model_module": "@jupyter-widgets/controls",
     "model_module_version": "1.5.0",
     "model_name": "ProgressStyleModel",
     "state": {
      "_model_module": "@jupyter-widgets/controls",
      "_model_module_version": "1.5.0",
      "_model_name": "ProgressStyleModel",
      "_view_count": null,
      "_view_module": "@jupyter-widgets/base",
      "_view_module_version": "1.2.0",
      "_view_name": "StyleView",
      "bar_color": null,
      "description_width": ""
     }
    },
    "d865bb3521a1499a9b6740739ad2a4cb": {
     "model_module": "@jupyter-widgets/base",
     "model_module_version": "1.2.0",
     "model_name": "LayoutModel",
     "state": {
      "_model_module": "@jupyter-widgets/base",
      "_model_module_version": "1.2.0",
      "_model_name": "LayoutModel",
      "_view_count": null,
      "_view_module": "@jupyter-widgets/base",
      "_view_module_version": "1.2.0",
      "_view_name": "LayoutView",
      "align_content": null,
      "align_items": null,
      "align_self": null,
      "border": null,
      "bottom": null,
      "display": null,
      "flex": null,
      "flex_flow": null,
      "grid_area": null,
      "grid_auto_columns": null,
      "grid_auto_flow": null,
      "grid_auto_rows": null,
      "grid_column": null,
      "grid_gap": null,
      "grid_row": null,
      "grid_template_areas": null,
      "grid_template_columns": null,
      "grid_template_rows": null,
      "height": null,
      "justify_content": null,
      "justify_items": null,
      "left": null,
      "margin": null,
      "max_height": null,
      "max_width": null,
      "min_height": null,
      "min_width": null,
      "object_fit": null,
      "object_position": null,
      "order": null,
      "overflow": null,
      "overflow_x": null,
      "overflow_y": null,
      "padding": null,
      "right": null,
      "top": null,
      "visibility": null,
      "width": null
     }
    },
    "de502795f74045fea064db0c4c0800da": {
     "model_module": "@jupyter-widgets/controls",
     "model_module_version": "1.5.0",
     "model_name": "HBoxModel",
     "state": {
      "_dom_classes": [],
      "_model_module": "@jupyter-widgets/controls",
      "_model_module_version": "1.5.0",
      "_model_name": "HBoxModel",
      "_view_count": null,
      "_view_module": "@jupyter-widgets/controls",
      "_view_module_version": "1.5.0",
      "_view_name": "HBoxView",
      "box_style": "",
      "children": [
       "IPY_MODEL_2f4cdded4fc94bc8aa73fe5ae1f6043d",
       "IPY_MODEL_71fb33b63cba40eebb9712e06550c680",
       "IPY_MODEL_b0fbed9f4e144940bd3580a46fa0896d"
      ],
      "layout": "IPY_MODEL_b3ebd65f2ded418fbce19135e192376d"
     }
    },
    "dea95186c643462aaa9b579587fc6b38": {
     "model_module": "@jupyter-widgets/base",
     "model_module_version": "1.2.0",
     "model_name": "LayoutModel",
     "state": {
      "_model_module": "@jupyter-widgets/base",
      "_model_module_version": "1.2.0",
      "_model_name": "LayoutModel",
      "_view_count": null,
      "_view_module": "@jupyter-widgets/base",
      "_view_module_version": "1.2.0",
      "_view_name": "LayoutView",
      "align_content": null,
      "align_items": null,
      "align_self": null,
      "border": null,
      "bottom": null,
      "display": null,
      "flex": null,
      "flex_flow": null,
      "grid_area": null,
      "grid_auto_columns": null,
      "grid_auto_flow": null,
      "grid_auto_rows": null,
      "grid_column": null,
      "grid_gap": null,
      "grid_row": null,
      "grid_template_areas": null,
      "grid_template_columns": null,
      "grid_template_rows": null,
      "height": null,
      "justify_content": null,
      "justify_items": null,
      "left": null,
      "margin": null,
      "max_height": null,
      "max_width": null,
      "min_height": null,
      "min_width": null,
      "object_fit": null,
      "object_position": null,
      "order": null,
      "overflow": null,
      "overflow_x": null,
      "overflow_y": null,
      "padding": null,
      "right": null,
      "top": null,
      "visibility": null,
      "width": null
     }
    },
    "e2972f821eaa43e4b90cf68bae7ff36e": {
     "model_module": "@jupyter-widgets/base",
     "model_module_version": "1.2.0",
     "model_name": "LayoutModel",
     "state": {
      "_model_module": "@jupyter-widgets/base",
      "_model_module_version": "1.2.0",
      "_model_name": "LayoutModel",
      "_view_count": null,
      "_view_module": "@jupyter-widgets/base",
      "_view_module_version": "1.2.0",
      "_view_name": "LayoutView",
      "align_content": null,
      "align_items": null,
      "align_self": null,
      "border": null,
      "bottom": null,
      "display": null,
      "flex": null,
      "flex_flow": null,
      "grid_area": null,
      "grid_auto_columns": null,
      "grid_auto_flow": null,
      "grid_auto_rows": null,
      "grid_column": null,
      "grid_gap": null,
      "grid_row": null,
      "grid_template_areas": null,
      "grid_template_columns": null,
      "grid_template_rows": null,
      "height": null,
      "justify_content": null,
      "justify_items": null,
      "left": null,
      "margin": null,
      "max_height": null,
      "max_width": null,
      "min_height": null,
      "min_width": null,
      "object_fit": null,
      "object_position": null,
      "order": null,
      "overflow": null,
      "overflow_x": null,
      "overflow_y": null,
      "padding": null,
      "right": null,
      "top": null,
      "visibility": null,
      "width": "20px"
     }
    },
    "f0d9e7239d8645f7a03b550603e79a5c": {
     "model_module": "@jupyter-widgets/base",
     "model_module_version": "1.2.0",
     "model_name": "LayoutModel",
     "state": {
      "_model_module": "@jupyter-widgets/base",
      "_model_module_version": "1.2.0",
      "_model_name": "LayoutModel",
      "_view_count": null,
      "_view_module": "@jupyter-widgets/base",
      "_view_module_version": "1.2.0",
      "_view_name": "LayoutView",
      "align_content": null,
      "align_items": null,
      "align_self": null,
      "border": null,
      "bottom": null,
      "display": null,
      "flex": null,
      "flex_flow": null,
      "grid_area": null,
      "grid_auto_columns": null,
      "grid_auto_flow": null,
      "grid_auto_rows": null,
      "grid_column": null,
      "grid_gap": null,
      "grid_row": null,
      "grid_template_areas": null,
      "grid_template_columns": null,
      "grid_template_rows": null,
      "height": null,
      "justify_content": null,
      "justify_items": null,
      "left": null,
      "margin": null,
      "max_height": null,
      "max_width": null,
      "min_height": null,
      "min_width": null,
      "object_fit": null,
      "object_position": null,
      "order": null,
      "overflow": null,
      "overflow_x": null,
      "overflow_y": null,
      "padding": null,
      "right": null,
      "top": null,
      "visibility": null,
      "width": null
     }
    },
    "f3050d4eb53f45e8a575c56f9bdd60b7": {
     "model_module": "@jupyter-widgets/controls",
     "model_module_version": "1.5.0",
     "model_name": "DescriptionStyleModel",
     "state": {
      "_model_module": "@jupyter-widgets/controls",
      "_model_module_version": "1.5.0",
      "_model_name": "DescriptionStyleModel",
      "_view_count": null,
      "_view_module": "@jupyter-widgets/base",
      "_view_module_version": "1.2.0",
      "_view_name": "StyleView",
      "description_width": ""
     }
    },
    "fc0f2f1476ad46bc83ee15cace1cdf86": {
     "model_module": "@jupyter-widgets/controls",
     "model_module_version": "1.5.0",
     "model_name": "DescriptionStyleModel",
     "state": {
      "_model_module": "@jupyter-widgets/controls",
      "_model_module_version": "1.5.0",
      "_model_name": "DescriptionStyleModel",
      "_view_count": null,
      "_view_module": "@jupyter-widgets/base",
      "_view_module_version": "1.2.0",
      "_view_name": "StyleView",
      "description_width": ""
     }
    },
    "fc42848872684dc98dfbf90f81c4cb42": {
     "model_module": "@jupyter-widgets/controls",
     "model_module_version": "1.5.0",
     "model_name": "HTMLModel",
     "state": {
      "_dom_classes": [],
      "_model_module": "@jupyter-widgets/controls",
      "_model_module_version": "1.5.0",
      "_model_name": "HTMLModel",
      "_view_count": null,
      "_view_module": "@jupyter-widgets/controls",
      "_view_module_version": "1.5.0",
      "_view_name": "HTMLView",
      "description": "",
      "description_tooltip": null,
      "layout": "IPY_MODEL_1bb3b0f7a4444a12a3aa471af1646ced",
      "placeholder": "​",
      "style": "IPY_MODEL_8f0c1f58338046fb86c1116d01c70e8c",
      "value": "100%"
     }
    },
    "fce86074e8e445aaa1a794d574f3319e": {
     "model_module": "@jupyter-widgets/controls",
     "model_module_version": "1.5.0",
     "model_name": "HTMLModel",
     "state": {
      "_dom_classes": [],
      "_model_module": "@jupyter-widgets/controls",
      "_model_module_version": "1.5.0",
      "_model_name": "HTMLModel",
      "_view_count": null,
      "_view_module": "@jupyter-widgets/controls",
      "_view_module_version": "1.5.0",
      "_view_name": "HTMLView",
      "description": "",
      "description_tooltip": null,
      "layout": "IPY_MODEL_18525ba2c86347c68fcca7c921cc46e1",
      "placeholder": "​",
      "style": "IPY_MODEL_2d95fd67f14149f482c6d9d911b8c1d4",
      "value": "Dl Size...: 100%"
     }
    },
    "ff479c78058b4f0ab9b81c984652a3e6": {
     "model_module": "@jupyter-widgets/controls",
     "model_module_version": "1.5.0",
     "model_name": "HTMLModel",
     "state": {
      "_dom_classes": [],
      "_model_module": "@jupyter-widgets/controls",
      "_model_module_version": "1.5.0",
      "_model_name": "HTMLModel",
      "_view_count": null,
      "_view_module": "@jupyter-widgets/controls",
      "_view_module_version": "1.5.0",
      "_view_name": "HTMLView",
      "description": "",
      "description_tooltip": null,
      "layout": "IPY_MODEL_436eafc5ab6d475cbb3fbf17d6553fbb",
      "placeholder": "​",
      "style": "IPY_MODEL_74b83e0d33a84e57babbc00a4d97cc88",
      "value": " 49937/0 [00:25&lt;00:00, 2405.95 examples/s]"
     }
    }
   }
  }
 },
 "nbformat": 4,
 "nbformat_minor": 1
}
